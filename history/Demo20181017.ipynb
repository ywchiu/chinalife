{
 "cells": [
  {
   "cell_type": "markdown",
   "metadata": {},
   "source": [
    "## 房屋資料抓取"
   ]
  },
  {
   "cell_type": "code",
   "execution_count": null,
   "metadata": {},
   "outputs": [],
   "source": [
    "import requests\n",
    "headers = {\n",
    " 'User-Agent': 'Mozilla/5.0 (Macintosh; Intel Mac OS X 10_13_6) AppleWebKit/537.36 (KHTML, like Gecko) Chrome/69.0.3497.100 Safari/537.36'   \n",
    "}\n",
    "res = requests.get('https://sale.591.com.tw/home/search/list?type=2&&shType=list&section=7&regionid=1&kind=9&firstRow=30&totalRows=2404&timestamp=1539754751297', headers = headers)"
   ]
  },
  {
   "cell_type": "code",
   "execution_count": null,
   "metadata": {},
   "outputs": [],
   "source": [
    "res"
   ]
  },
  {
   "cell_type": "code",
   "execution_count": null,
   "metadata": {},
   "outputs": [],
   "source": [
    "import pandas\n",
    "pandas.DataFrame(res.json()['data']['house_list']).head(3)"
   ]
  },
  {
   "cell_type": "code",
   "execution_count": null,
   "metadata": {},
   "outputs": [],
   "source": [
    "import time\n",
    "houseurl = 'https://sale.591.com.tw/home/search/list?type=2&&shType=list&section=7&regionid=1&kind=9&firstRow={}&totalRows=2404&timestamp=1539754751297'\n",
    "\n",
    "houseary = []\n",
    "for i in range(0,int(2404 / 30)+ 1 ):\n",
    "    res = requests.get(houseurl.format(i*30), headers = headers)\n",
    "    df = pandas.DataFrame(res.json()['data']['house_list'])\n",
    "    houseary.append(df)\n",
    "    time.sleep(1)\n",
    "    print(i)"
   ]
  },
  {
   "cell_type": "code",
   "execution_count": null,
   "metadata": {},
   "outputs": [],
   "source": [
    "housedf = pandas.concat(houseary)"
   ]
  },
  {
   "cell_type": "code",
   "execution_count": null,
   "metadata": {},
   "outputs": [],
   "source": [
    "housedf.count()"
   ]
  },
  {
   "cell_type": "code",
   "execution_count": null,
   "metadata": {},
   "outputs": [],
   "source": [
    "housedf.to_excel('house591.xlsx')"
   ]
  },
  {
   "cell_type": "markdown",
   "metadata": {},
   "source": [
    "## 房屋資料清理"
   ]
  },
  {
   "cell_type": "code",
   "execution_count": null,
   "metadata": {},
   "outputs": [],
   "source": [
    "import pandas\n",
    "housedf  = pandas.read_excel('https://raw.githubusercontent.com/ywchiu/chinalife/master/data/house591.xlsx')"
   ]
  },
  {
   "cell_type": "code",
   "execution_count": null,
   "metadata": {},
   "outputs": [],
   "source": [
    "housedf.iloc[2]"
   ]
  },
  {
   "cell_type": "code",
   "execution_count": null,
   "metadata": {},
   "outputs": [],
   "source": [
    "housedf = housedf[['area', 'room','floor','price','houseage']]"
   ]
  },
  {
   "cell_type": "code",
   "execution_count": null,
   "metadata": {},
   "outputs": [],
   "source": [
    "housedf[['bedroom', 'livingroom', 'bathroom']] = housedf['room'].str.extract('(\\d+)房(\\d+)廳(\\d+)衛')"
   ]
  },
  {
   "cell_type": "code",
   "execution_count": null,
   "metadata": {},
   "outputs": [],
   "source": [
    "housedf[['current_floor', 'total_floor']] = housedf['floor'].str.extract('(\\d+)F/(\\d+)F')"
   ]
  },
  {
   "cell_type": "code",
   "execution_count": null,
   "metadata": {},
   "outputs": [],
   "source": [
    "del housedf['room']\n",
    "del housedf['floor']"
   ]
  },
  {
   "cell_type": "code",
   "execution_count": null,
   "metadata": {},
   "outputs": [],
   "source": [
    "housedf.dropna(inplace=True)"
   ]
  },
  {
   "cell_type": "code",
   "execution_count": null,
   "metadata": {},
   "outputs": [],
   "source": [
    "housedf.head()"
   ]
  },
  {
   "cell_type": "code",
   "execution_count": null,
   "metadata": {},
   "outputs": [],
   "source": [
    "housedf.columns"
   ]
  },
  {
   "cell_type": "code",
   "execution_count": null,
   "metadata": {},
   "outputs": [],
   "source": [
    "Y = housedf['price'].values\n",
    "X = housedf[['area', 'bedroom', 'livingroom', 'bathroom', 'current_floor',\n",
    "       'total_floor', 'houseage']]"
   ]
  },
  {
   "cell_type": "code",
   "execution_count": null,
   "metadata": {},
   "outputs": [],
   "source": [
    "X['total_floor'] = X['total_floor'].astype(float)\n",
    "X['bedroom'] = X['bedroom'].astype(float)\n",
    "X['livingroom'] = X['livingroom'].astype(float)\n",
    "X['bathroom'] = X['bathroom'].astype(float)\n",
    "X['current_floor'] = X['current_floor'].astype(float)"
   ]
  },
  {
   "cell_type": "markdown",
   "metadata": {},
   "source": [
    "## 資料分析"
   ]
  },
  {
   "cell_type": "code",
   "execution_count": null,
   "metadata": {},
   "outputs": [],
   "source": [
    "import statsmodels.api as sm\n",
    "X2  = sm.add_constant(X)\n",
    "est = sm.OLS(Y, X2)\n",
    "est2 = est.fit()\n",
    "print(est2.summary())"
   ]
  },
  {
   "cell_type": "code",
   "execution_count": null,
   "metadata": {},
   "outputs": [],
   "source": [
    "predictorcols = X.columns"
   ]
  },
  {
   "cell_type": "code",
   "execution_count": null,
   "metadata": {},
   "outputs": [],
   "source": [
    "import itertools\n",
    "AICs = {}\n",
    "for k in range(1,len(predictorcols)+1):\n",
    "    for variables in itertools.combinations(predictorcols, k):\n",
    "        predictors = X[list(variables)]\n",
    "        predictors2 = sm.add_constant(predictors)\n",
    "        est = sm.OLS(Y, predictors2)\n",
    "        res = est.fit()\n",
    "        AICs[variables] = res.aic"
   ]
  },
  {
   "cell_type": "code",
   "execution_count": null,
   "metadata": {},
   "outputs": [],
   "source": [
    "from collections import Counter\n",
    "c = Counter(AICs)\n",
    "c.most_common()[::-1][0:3]"
   ]
  },
  {
   "cell_type": "code",
   "execution_count": null,
   "metadata": {
    "scrolled": true
   },
   "outputs": [],
   "source": [
    "import itertools\n",
    "for variables in itertools.combinations(predictorcols, 4):\n",
    "    print(variables)"
   ]
  },
  {
   "cell_type": "markdown",
   "metadata": {},
   "source": [
    "## 連線資料庫"
   ]
  },
  {
   "cell_type": "code",
   "execution_count": null,
   "metadata": {},
   "outputs": [],
   "source": [
    "import sqlite3 as lite\n",
    "con = lite.connect('test.sqlite')\n",
    "cur = con.cursor()\n",
    "cur.execute('SELECT SQLITE_VERSION()')\n",
    "data = cur.fetchone()\n",
    "con.close()"
   ]
  },
  {
   "cell_type": "code",
   "execution_count": null,
   "metadata": {},
   "outputs": [],
   "source": [
    "data"
   ]
  },
  {
   "cell_type": "code",
   "execution_count": null,
   "metadata": {},
   "outputs": [],
   "source": [
    "import sqlite3 as lite\n",
    "with lite.connect('test.sqlite') as con:\n",
    "    cur = con.cursor()\n",
    "    cur.execute('SELECT SQLITE_VERSION()')\n",
    "    data = cur.fetchone()\n",
    "#con.close()"
   ]
  },
  {
   "cell_type": "code",
   "execution_count": null,
   "metadata": {},
   "outputs": [],
   "source": [
    "data"
   ]
  },
  {
   "cell_type": "code",
   "execution_count": null,
   "metadata": {},
   "outputs": [],
   "source": [
    "import sqlite3 as lite \n",
    "with lite.connect(\"test.sqlite\") as con: \n",
    "    cur = con.cursor() \n",
    "    cur.execute(\"DROP TABLE IF EXISTS PhoneAddress\") \n",
    "    cur.execute(\"\"\"CREATE TABLE PhoneAddress(\n",
    "                    phone CHAR(10) PRIMARY KEY, \n",
    "                    address TEXT, \n",
    "                    name TEXT unique, \n",
    "                    age INT NOT NULL)\"\"\") \n",
    "    cur.execute(\"INSERT INTO PhoneAddress VALUES('0912173381','United State','Jhon Doe',53)\") \n",
    "    cur.execute(\"INSERT INTO PhoneAddress VALUES('0928375018','Tokyo Japan','MuMu Cat',6)\") \n",
    "    cur.execute(\"INSERT INTO PhoneAddress VALUES('0957209108','Taipei','Richard',29)\") \n"
   ]
  },
  {
   "cell_type": "code",
   "execution_count": null,
   "metadata": {},
   "outputs": [],
   "source": [
    "import sqlite3 as lite \n",
    "with lite.connect(\"test.sqlite\") as con: \n",
    "    cur = con.cursor() \n",
    "    cur.execute(\"SELECT phone, address from PhoneAddress\")\n",
    "    data = cur.fetchall()"
   ]
  },
  {
   "cell_type": "code",
   "execution_count": null,
   "metadata": {},
   "outputs": [],
   "source": [
    "data"
   ]
  },
  {
   "cell_type": "markdown",
   "metadata": {},
   "source": [
    "## Python and SQLServer\n"
   ]
  },
  {
   "cell_type": "raw",
   "metadata": {},
   "source": [
    ">>> import pyodbc\n",
    ">>> cnxn = pyodbc.connect('DRIVER={SQL Server}; SERVER=192.168.1.1,1433; DATABASE=Trid; UID=sa; PWD=sss')\n",
    ">>> cursor = cnxn.cursor()\n",
    ">>> cursor.execute(\"SELECT EmployeeNo, EmployeeName FROM YYY.dbo.Users\")\n",
    "<pyodbc.Cursor object at 0x00000207A8C88378>\n",
    ">>> rows = cursor.fetchall()\n",
    ">>> for row in rows:\n",
    "\tprint(row.EmployeeNo, row.EmployeeName)"
   ]
  },
  {
   "cell_type": "code",
   "execution_count": null,
   "metadata": {},
   "outputs": [],
   "source": [
    "import sqlite3 as lite \n",
    "with lite.connect(\"test.sqlite\") as con: \n",
    "    cur = con.cursor() \n",
    "    cur.execute(\"SELECT phone, address from PhoneAddress\")\n",
    "    data1 = cur.fetchone()\n",
    "    data2 = cur.fetchall()"
   ]
  },
  {
   "cell_type": "code",
   "execution_count": null,
   "metadata": {},
   "outputs": [],
   "source": [
    "data1"
   ]
  },
  {
   "cell_type": "code",
   "execution_count": null,
   "metadata": {},
   "outputs": [],
   "source": [
    "data2"
   ]
  },
  {
   "cell_type": "code",
   "execution_count": null,
   "metadata": {},
   "outputs": [],
   "source": [
    "import sqlite3 as lite\n",
    "import pandas\n",
    "employee = [{'name':'Mary', 'age':23 , 'gender': 'F'},{'name':'John', 'age':33 , 'gender': 'M'}]\n",
    "df = pandas.DataFrame(employee)\n",
    "df"
   ]
  },
  {
   "cell_type": "code",
   "execution_count": null,
   "metadata": {},
   "outputs": [],
   "source": [
    "df.info()"
   ]
  },
  {
   "cell_type": "code",
   "execution_count": null,
   "metadata": {},
   "outputs": [],
   "source": [
    "with lite.connect('test.sqlite') as db:\n",
    "    df.to_sql(name='employee', index=False, con=db, if_exists='replace')\n"
   ]
  },
  {
   "cell_type": "markdown",
   "metadata": {},
   "source": [
    "## 儲存實例"
   ]
  },
  {
   "cell_type": "code",
   "execution_count": null,
   "metadata": {},
   "outputs": [],
   "source": [
    "import pandas\n",
    "housedf  = pandas.read_excel('https://raw.githubusercontent.com/ywchiu/chinalife/master/data/house591.xlsx')"
   ]
  },
  {
   "cell_type": "code",
   "execution_count": null,
   "metadata": {},
   "outputs": [],
   "source": [
    "housedf = housedf[['area', 'room','floor','price','houseage']]"
   ]
  },
  {
   "cell_type": "code",
   "execution_count": null,
   "metadata": {},
   "outputs": [],
   "source": [
    "housedf.info()"
   ]
  },
  {
   "cell_type": "code",
   "execution_count": null,
   "metadata": {},
   "outputs": [],
   "source": [
    "with lite.connect('house.sqlite') as con:\n",
    "    housedf.to_sql('house591', con = con)"
   ]
  },
  {
   "cell_type": "code",
   "execution_count": null,
   "metadata": {},
   "outputs": [],
   "source": [
    "with lite.connect('house.sqlite') as con:\n",
    "    df = pandas.read_sql_query('select * from house591 limit 3', con = con)"
   ]
  },
  {
   "cell_type": "code",
   "execution_count": null,
   "metadata": {},
   "outputs": [],
   "source": [
    "df"
   ]
  },
  {
   "cell_type": "code",
   "execution_count": null,
   "metadata": {},
   "outputs": [],
   "source": [
    "with lite.connect('house.sqlite') as con:\n",
    "    df = pandas.read_sql_query('select avg(price) from house591', con = con)"
   ]
  },
  {
   "cell_type": "code",
   "execution_count": null,
   "metadata": {},
   "outputs": [],
   "source": [
    "df"
   ]
  },
  {
   "cell_type": "code",
   "execution_count": null,
   "metadata": {},
   "outputs": [],
   "source": [
    "with lite.connect('house.sqlite') as con:\n",
    "    df = pandas.read_sql_query('select avg(price/area) from house591', con = con)"
   ]
  },
  {
   "cell_type": "code",
   "execution_count": null,
   "metadata": {},
   "outputs": [],
   "source": [
    "df"
   ]
  },
  {
   "cell_type": "markdown",
   "metadata": {},
   "source": [
    "## SQLAlchemy and SQLServer \n",
    "- https://docs.sqlalchemy.org/en/latest/core/engines.html"
   ]
  },
  {
   "cell_type": "markdown",
   "metadata": {},
   "source": [
    "## 三大法人日報\n",
    "- http://www.twse.com.tw/zh/page/trading/fund/T86.html"
   ]
  },
  {
   "cell_type": "code",
   "execution_count": null,
   "metadata": {},
   "outputs": [],
   "source": [
    "import requests\n",
    "res = requests.get('http://www.twse.com.tw/fund/T86?response=json&date=20181016&selectType=ALL&_=1539761083842')"
   ]
  },
  {
   "cell_type": "code",
   "execution_count": null,
   "metadata": {},
   "outputs": [],
   "source": [
    "import pandas\n",
    "df = pandas.DataFrame(res.json()['data'])"
   ]
  },
  {
   "cell_type": "code",
   "execution_count": null,
   "metadata": {},
   "outputs": [],
   "source": [
    "df.columns = res.json()['fields']"
   ]
  },
  {
   "cell_type": "code",
   "execution_count": null,
   "metadata": {},
   "outputs": [],
   "source": [
    "with lite.connect('test.sqlite') as con:\n",
    "    df.to_sql('bigthree', con = con)"
   ]
  },
  {
   "cell_type": "markdown",
   "metadata": {},
   "source": [
    "## 抓取公開資訊觀測站歷年變更登記"
   ]
  },
  {
   "cell_type": "code",
   "execution_count": null,
   "metadata": {},
   "outputs": [],
   "source": [
    "import requests\n",
    "from bs4 import BeautifulSoup\n",
    "payload = {\n",
    "'encodeURIComponent': '1',\n",
    "'step': '1',\n",
    "'firstin': '1',\n",
    "'off': '1', \n",
    "'queryName': 'co_id',\n",
    "'inpuType': 'co_id',\n",
    "'TYPEK': 'all',\n",
    "'co_id': '2823'    \n",
    "}\n",
    "res  = requests.post('http://mops.twse.com.tw/mops/web/ajax_t05st05', data = payload)\n",
    "soup = BeautifulSoup(res.text, 'lxml')"
   ]
  },
  {
   "cell_type": "code",
   "execution_count": null,
   "metadata": {},
   "outputs": [],
   "source": [
    "payload2 = {}\n",
    "for item in soup.select_one('form').select('input[type=hidden]'):\n",
    "    if item.get('value'):\n",
    "        payload2[item.get('name')] = item.get('value')\n",
    "payload2"
   ]
  },
  {
   "cell_type": "code",
   "execution_count": null,
   "metadata": {},
   "outputs": [],
   "source": [
    "payload2['year'] = '1994'\n",
    "payload2['month'] = '10'"
   ]
  },
  {
   "cell_type": "code",
   "execution_count": null,
   "metadata": {},
   "outputs": [],
   "source": [
    "res = requests.post('http://mops.twse.com.tw/mops/web/ajax_t05st05', data = payload2)\n",
    "res"
   ]
  },
  {
   "cell_type": "code",
   "execution_count": null,
   "metadata": {},
   "outputs": [],
   "source": [
    "dfs = pandas.read_html(res.text)\n",
    "dfs[1]"
   ]
  },
  {
   "cell_type": "markdown",
   "metadata": {},
   "source": [
    "## 取得盤後交易資訊"
   ]
  },
  {
   "cell_type": "markdown",
   "metadata": {},
   "source": [
    "## Rate Limiting\n",
    "- https://www.nginx.com/blog/rate-limiting-nginx/"
   ]
  },
  {
   "cell_type": "code",
   "execution_count": null,
   "metadata": {},
   "outputs": [],
   "source": [
    "import requests\n",
    "import time\n",
    "for i in range(1,10):\n",
    "    res = requests.get('http://www.twse.com.tw/exchangeReport/MI_INDEX?response=json&date=&type=&_=1539763053868')\n",
    "    time.sleep(3)\n",
    "    print(res)\n",
    "#res.json()"
   ]
  },
  {
   "cell_type": "markdown",
   "metadata": {},
   "source": [
    "## Proxy Rotate"
   ]
  },
  {
   "cell_type": "code",
   "execution_count": null,
   "metadata": {},
   "outputs": [],
   "source": [
    "import requests\n",
    "headers = {\n",
    " 'user-agent': 'Mozilla/5.0 (Macintosh; Intel Mac OS X 10_13_6) AppleWebKit/537.36 (KHTML, like Gecko) Chrome/69.0.3497.100 Safari/537.36',  \n",
    " 'origin': 'https://www.whatismyip.com',\n",
    " 'referer': 'https://www.whatismyip.com/'   \n",
    "}\n",
    "\n",
    "proxies = {\n",
    "  'http': 'http://196.17.26.204:8800',\n",
    "  'https': 'http://196.17.26.204:8800',\n",
    "}\n",
    "res = requests.get('https://ipv4.whatismyip.com/', headers = headers, proxies = proxies)\n",
    "res.text"
   ]
  },
  {
   "cell_type": "code",
   "execution_count": null,
   "metadata": {},
   "outputs": [],
   "source": [
    "import requests\n",
    "payload = {\n",
    "'TYPEK': 'all',\n",
    "'step': '0',\n",
    "'stp': '1',\n",
    "'firstin': 'true', \n",
    "'newstuff': '1'    \n",
    "}\n",
    "res = requests.post('http://mops.twse.com.tw/mops/web/t05sr01_1', data = payload)"
   ]
  },
  {
   "cell_type": "code",
   "execution_count": null,
   "metadata": {},
   "outputs": [],
   "source": [
    "soup = BeautifulSoup(res.text, 'lxml')\n",
    "payload2  = {}\n",
    "for item in soup.select_one('form[name=\"fm_t05sr01_1\"]').select('input[type=hidden]'):\n",
    "    if item.get('value'):\n",
    "        payload2[item.get('name')] = item.get('value')"
   ]
  },
  {
   "cell_type": "code",
   "execution_count": null,
   "metadata": {},
   "outputs": [],
   "source": [
    "from bs4 import BeautifulSoup\n",
    "def getDetail(payload):\n",
    "    res2 = requests.post('http://mops.twse.com.tw/mops/web/ajax_t05sr01_1', data = payload)\n",
    "    soup2 = BeautifulSoup(res2.text, 'lxml')\n",
    "    #print(res2.text)\n",
    "    return soup2.select_one('pre').text"
   ]
  },
  {
   "cell_type": "code",
   "execution_count": null,
   "metadata": {},
   "outputs": [],
   "source": [
    "for rec in soup.select('input[value=\"詳細資料\"]'):\n",
    "    newpayload = payload2\n",
    "    for item in rec.get('onclick').split(';'):\n",
    "        if 'document' in item:\n",
    "            if 'name' not in item.lower():\n",
    "                key, value = item.replace('document.fm_t05sr01_1.', '').replace('.value', '').split('=')\n",
    "                newpayload[key] = value.replace(\"'\",'')\n",
    "    #print(newpayload)\n",
    "    news = getDetail(newpayload)\n",
    "    print(news)\n",
    "    break\n",
    "    #print(news)"
   ]
  },
  {
   "cell_type": "markdown",
   "metadata": {},
   "source": [
    "## 工作排程\n",
    "- Windows: 工作排程器\n",
    "- Linux/Mac: crontab\n",
    "- http://linux.vbird.org/linux_basic/0430cron.php"
   ]
  },
  {
   "cell_type": "markdown",
   "metadata": {},
   "source": [
    "## PTT 爬蟲"
   ]
  },
  {
   "cell_type": "code",
   "execution_count": null,
   "metadata": {},
   "outputs": [],
   "source": [
    "import requests\n",
    "cookies = {\n",
    "    'over18': '1' \n",
    "}\n",
    "res = requests.get('https://www.ptt.cc/bbs/Gossiping/M.1477049256.A.CEF.html', cookies = cookies)"
   ]
  },
  {
   "cell_type": "code",
   "execution_count": null,
   "metadata": {},
   "outputs": [],
   "source": [
    "#res.text"
   ]
  },
  {
   "cell_type": "markdown",
   "metadata": {},
   "source": [
    "## 財報狗一"
   ]
  },
  {
   "cell_type": "code",
   "execution_count": null,
   "metadata": {},
   "outputs": [],
   "source": [
    "import requests\n",
    "headers = {\n",
    "  'Cookie': 'buuid=aEo3V1FLd3VQVytFRm5zUFJRa1J6YmIyRExsNHIzK2lMZURZWlB1bFQrQ1Zsa29oQTBDL3JyT3VsaEZZRExCWS0taDc3bFRGSUZDQjE4L1hKYnZIbVp3QT09--5c11ea3ba1ae9537ca134d9ce9dd0a93c94cae2f; easy_ab=04b5476a-f31e-415a-85f6-2444978be5a8; _ga=GA1.2.1476840361.1539768313; _gid=GA1.2.1539189090.1539768313; upgrade_browser=1; intercom-id-d5wdetwg=443922d8-11ba-4e97-9be1-0ad7225b9132; remember_user_token=W1szMTI2ODVdLCIkMmEkMTAkNWJqZGpkaVdubDRVY3JDdC5BQVJLdSIsIjE1Mzk3Njg4MDYuMTczNDIzMyJd--622b210368f395bfc55b38b965e75359babc5702; mp_distinct_id=312685; intercom-session-d5wdetwg=eFRMdmZKK2FnZ0pXRzlnRWVmQUgwQ3pSTGZaQmJwa1VlRWRvV2pXM2tpYWh1NVlsamUxMnlhTVhweHZ1ZGJQVS0tMDl5TVdBdkRYZUZ5YzBzRVI3RHRjZz09--f8d0aed123249329c99c02ebff9c204b2b381131; _statementdog_session_v2=YVBaQU1VSG9EK0R6UG9XNlRVVVU1eDhBSWtDY3l1OVJiaFdKZ3hsREs3VzRQT2hIaWZiK0txdUlvYkdZdmovUmFkd2dxK0daZDJFeXNPcTVGWFY1L21Cb3hlTFlzcklKVFQwcE9lcTFFa25HV0JmZzlDK1h2cmZOM09ZMGVKdk9kNzV3QVlCYUlnQ3FKdU5hbTFmYjduV2FhYXZEQTNlcCtFUzJsRFJIY0NoUURoNHo4ZGMxOTJ6TVlNcXhHN1pzZkM2aWd0OGlwMStVNXhIM2dqdk5uS24xb00ybTdKSmEvZXovMzFFWW12eWpyU05XRjlETmc5Z2Y2c2t6Zk1NZS0tUXVnZWdtZDlVcHRKZGNJRmtzUFN0UT09--1a7c1fd5b90f61d0d7b8693eddc548755ee4d188; mp_2fc60276bfe20ef798d15c46e498d765_mixpanel=%7B%22distinct_id%22%3A%20%22312685%22%2C%22%24search_engine%22%3A%20%22google%22%2C%22%24initial_referrer%22%3A%20%22https%3A%2F%2Fwww.google.com.tw%2F%22%2C%22%24initial_referring_domain%22%3A%20%22www.google.com.tw%22%7D; amplitude_id_0ab77a441fbc226251ef1a272380fcd7statementdog.com=eyJkZXZpY2VJZCI6ImYyYzliZGM5LWNhMDAtNGE5MC04NTk2LThhNjRiZGY2ZDViNVIiLCJ1c2VySWQiOiIzMTI2ODUiLCJvcHRPdXQiOmZhbHNlLCJzZXNzaW9uSWQiOjE1Mzk3NjgzMTI1OTgsImxhc3RFdmVudFRpbWUiOjE1Mzk3Njg5MjQ4NTYsImV2ZW50SWQiOjEyLCJpZGVudGlmeUlkIjoxMywic2VxdWVuY2VOdW1iZXIiOjI1fQ=='  \n",
    "}\n",
    "res = requests.get('https://statementdog.com/users/account', headers = headers)\n",
    "#res.text"
   ]
  },
  {
   "cell_type": "markdown",
   "metadata": {},
   "source": [
    "## 財報狗二"
   ]
  },
  {
   "cell_type": "code",
   "execution_count": null,
   "metadata": {},
   "outputs": [],
   "source": [
    "import requests\n",
    "from bs4 import BeautifulSoup\n",
    "rs  = requests.session()\n",
    "res = rs.get('https://statementdog.com/users/sign_in')\n",
    "soup = BeautifulSoup(res.text, 'lxml')\n",
    "payload = {}\n",
    "for ele in soup.select('input[type=hidden]'):\n",
    "    if ele.get('value'):\n",
    "        payload[ele.get('name')] = ele.get('value')"
   ]
  },
  {
   "cell_type": "code",
   "execution_count": null,
   "metadata": {},
   "outputs": [],
   "source": [
    "payload"
   ]
  },
  {
   "cell_type": "code",
   "execution_count": null,
   "metadata": {},
   "outputs": [],
   "source": [
    "payload['user[email]'] = 'doma@oranek.com'\n",
    "payload['user[password]'] = '1qaz2wsx'"
   ]
  },
  {
   "cell_type": "code",
   "execution_count": null,
   "metadata": {},
   "outputs": [],
   "source": [
    "res2 = rs.post('https://statementdog.com/users/sign_in', data = payload)\n"
   ]
  },
  {
   "cell_type": "code",
   "execution_count": null,
   "metadata": {},
   "outputs": [],
   "source": [
    "res3 = rs.get('https://statementdog.com/users/account')\n"
   ]
  },
  {
   "cell_type": "code",
   "execution_count": null,
   "metadata": {},
   "outputs": [],
   "source": [
    "#res3.text"
   ]
  },
  {
   "cell_type": "markdown",
   "metadata": {},
   "source": [
    "## Selenium\n",
    "- ! pip install selenium\n",
    "- https://chromedriver.storage.googleapis.com/2.43/chromedriver_win32.zip"
   ]
  },
  {
   "cell_type": "code",
   "execution_count": null,
   "metadata": {},
   "outputs": [],
   "source": [
    "! pip install selenium"
   ]
  },
  {
   "cell_type": "code",
   "execution_count": null,
   "metadata": {},
   "outputs": [],
   "source": [
    "from selenium import webdriver\n",
    "driver = webdriver.Chrome('/opt/local/common/chromedriver')\n",
    "driver.get('https://www.google.com')\n",
    "driver.find_element_by_css_selector('input[name=q]').send_keys('中國人壽')\n",
    "driver.find_element_by_css_selector('input[name=q]').submit()"
   ]
  },
  {
   "cell_type": "code",
   "execution_count": null,
   "metadata": {},
   "outputs": [],
   "source": [
    "driver.close()"
   ]
  },
  {
   "cell_type": "code",
   "execution_count": null,
   "metadata": {},
   "outputs": [],
   "source": [
    "from selenium import webdriver\n",
    "driver = webdriver.Chrome('/opt/local/common/chromedriver')\n",
    "driver.get('https://statementdog.com/users/sign_in')\n"
   ]
  },
  {
   "cell_type": "code",
   "execution_count": null,
   "metadata": {},
   "outputs": [],
   "source": [
    "driver.find_element_by_css_selector('#user_email').send_keys('doma@oranek.com')"
   ]
  },
  {
   "cell_type": "code",
   "execution_count": null,
   "metadata": {},
   "outputs": [],
   "source": [
    "driver.find_element_by_css_selector('#user_password').send_keys('1qaz2wsx')"
   ]
  },
  {
   "cell_type": "code",
   "execution_count": null,
   "metadata": {},
   "outputs": [],
   "source": [
    "driver.find_element_by_css_selector('button.submit-btn').click()"
   ]
  },
  {
   "cell_type": "code",
   "execution_count": null,
   "metadata": {},
   "outputs": [],
   "source": [
    "payload = {}\n",
    "for rec in driver.get_cookies():\n",
    "    payload[rec.get('name')] = rec.get('value') "
   ]
  },
  {
   "cell_type": "code",
   "execution_count": null,
   "metadata": {},
   "outputs": [],
   "source": [
    "headers = {\n",
    "'Cookie':';'.join(['{}={}'.format(key, payload.get(key)) for key in payload])\n",
    "}"
   ]
  },
  {
   "cell_type": "code",
   "execution_count": null,
   "metadata": {},
   "outputs": [],
   "source": [
    "res = requests.get('https://statementdog.com/users/account', headers = headers)\n",
    "#res.text"
   ]
  },
  {
   "cell_type": "code",
   "execution_count": null,
   "metadata": {},
   "outputs": [],
   "source": [
    "from selenium import webdriver\n",
    "driver = webdriver.Chrome('/opt/local/common/chromedriver')\n",
    "driver.get('https://irs.thsrc.com.tw/IMINT/?locale=tw')\n",
    "\n"
   ]
  },
  {
   "cell_type": "code",
   "execution_count": null,
   "metadata": {},
   "outputs": [],
   "source": [
    "driver.find_element_by_css_selector('select[name=selectStartStation]').send_keys('台北')"
   ]
  },
  {
   "cell_type": "code",
   "execution_count": null,
   "metadata": {},
   "outputs": [],
   "source": [
    "driver.find_element_by_css_selector('select[name=selectDestinationStation]').send_keys('嘉義')"
   ]
  },
  {
   "cell_type": "code",
   "execution_count": null,
   "metadata": {},
   "outputs": [],
   "source": [
    "driver.find_element_by_css_selector('select[name=toTimeTable]').send_keys('19:00')"
   ]
  },
  {
   "cell_type": "code",
   "execution_count": null,
   "metadata": {},
   "outputs": [],
   "source": [
    "driver.find_element_by_link_text('語音播放').click()"
   ]
  },
  {
   "cell_type": "code",
   "execution_count": null,
   "metadata": {},
   "outputs": [],
   "source": [
    "import speech_recognition\n",
    "r = speech_recognition.Recognizer()\n",
    "\n",
    "voice = speech_recognition.AudioFile('/Users/davidchiu/Downloads/PronounceRandonNumber.wav')\n",
    "with voice as source:\n",
    "    audio = r.record(source)\n",
    "\n",
    "captcha = r.recognize_google(audio, language='zh_TW')"
   ]
  },
  {
   "cell_type": "code",
   "execution_count": null,
   "metadata": {},
   "outputs": [],
   "source": [
    "captcha"
   ]
  },
  {
   "cell_type": "code",
   "execution_count": null,
   "metadata": {},
   "outputs": [],
   "source": [
    "import requests\n",
    "from bs4 import BeautifulSoup\n",
    "headers = {\n",
    "    'User-Agent':'Mozilla/5.0 (Windows NT 6.1; WOW64) AppleWebKit/537.36 (KHTML, like Gecko) Chrome/48.0.2564.116 Safari/537.36'\n",
    "}\n",
    "rs = requests.session()\n",
    "res = rs.get('http://bsr.twse.com.tw/bshtm/bsMenu.aspx', headers = headers)\n",
    "res.encoding = 'utf-8'\n",
    "soup = BeautifulSoup(res.text, 'lxml')"
   ]
  },
  {
   "cell_type": "code",
   "execution_count": null,
   "metadata": {},
   "outputs": [],
   "source": [
    "payload = {}\n",
    "for item in soup.select('input[type=hidden]'):\n",
    "    if item.get('value'):\n",
    "        payload[item.get('name')] = item.get('value')"
   ]
  },
  {
   "cell_type": "code",
   "execution_count": null,
   "metadata": {},
   "outputs": [],
   "source": [
    "payload"
   ]
  },
  {
   "cell_type": "code",
   "execution_count": null,
   "metadata": {},
   "outputs": [],
   "source": [
    "soup.select_one('#Panel_bshtm img')"
   ]
  },
  {
   "cell_type": "code",
   "execution_count": null,
   "metadata": {},
   "outputs": [],
   "source": [
    "domain = 'http://bsr.twse.com.tw/bshtm/'\n",
    "res2 = rs.get(domain + soup.select_one('#Panel_bshtm img')['src'])\n",
    "with open('captcha.jpg', 'wb') as f:\n",
    "    f.write(res2.content)"
   ]
  },
  {
   "cell_type": "code",
   "execution_count": null,
   "metadata": {},
   "outputs": [],
   "source": [
    "from PIL import Image\n",
    "Image.open('captcha.jpg')"
   ]
  },
  {
   "cell_type": "code",
   "execution_count": null,
   "metadata": {},
   "outputs": [],
   "source": [
    "payload['TextBox_Stkno'] = 2330\n",
    "#payload['CaptchaControl1'] = '6KJRD'\n",
    "payload['__EVENTTARGET'] =''\n",
    "payload['__EVENTARGUMENT'] =''\n",
    "payload['__LASTFOCUS'] =''\n",
    "payload['RadioButton_Normal'] ='RadioButton_Normal'\n",
    "payload['btnOK'] = '查詢'\n"
   ]
  },
  {
   "cell_type": "code",
   "execution_count": null,
   "metadata": {},
   "outputs": [],
   "source": [
    "res3 = rs.post('http://bsr.twse.com.tw/bshtm/bsMenu.aspx', data = payload, headers = headers)"
   ]
  },
  {
   "cell_type": "code",
   "execution_count": null,
   "metadata": {},
   "outputs": [],
   "source": [
    "res4 = rs.get('http://bsr.twse.com.tw/bshtm/bsContent.aspx', headers = headers)\n",
    "#print(res4.text)"
   ]
  },
  {
   "cell_type": "code",
   "execution_count": null,
   "metadata": {},
   "outputs": [],
   "source": []
  }
 ],
 "metadata": {
  "kernelspec": {
   "display_name": "Python 3",
   "language": "python",
   "name": "python3"
  },
  "language_info": {
   "codemirror_mode": {
    "name": "ipython",
    "version": 3
   },
   "file_extension": ".py",
   "mimetype": "text/x-python",
   "name": "python",
   "nbconvert_exporter": "python",
   "pygments_lexer": "ipython3",
   "version": "3.6.2"
  }
 },
 "nbformat": 4,
 "nbformat_minor": 2
}
