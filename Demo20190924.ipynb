{
 "cells": [
  {
   "cell_type": "code",
   "execution_count": 1,
   "metadata": {},
   "outputs": [],
   "source": [
    "import requests\n",
    "res = requests.get('https://news.ltn.com.tw/list/breakingnews')"
   ]
  },
  {
   "cell_type": "code",
   "execution_count": 2,
   "metadata": {},
   "outputs": [
    {
     "data": {
      "text/plain": [
       "<Response [200]>"
      ]
     },
     "execution_count": 2,
     "metadata": {},
     "output_type": "execute_result"
    }
   ],
   "source": [
    "res"
   ]
  },
  {
   "cell_type": "code",
   "execution_count": 4,
   "metadata": {},
   "outputs": [],
   "source": [
    "from bs4 import BeautifulSoup\n",
    "soup = BeautifulSoup(res.text, 'lxml')"
   ]
  },
  {
   "cell_type": "code",
   "execution_count": null,
   "metadata": {},
   "outputs": [],
   "source": [
    "#<a class=\"tit\" "
   ]
  },
  {
   "cell_type": "code",
   "execution_count": null,
   "metadata": {},
   "outputs": [],
   "source": []
  },
  {
   "cell_type": "code",
   "execution_count": 17,
   "metadata": {},
   "outputs": [],
   "source": [
    "a = 5\n",
    "if None:\n",
    "    print('yes')"
   ]
  },
  {
   "cell_type": "code",
   "execution_count": null,
   "metadata": {},
   "outputs": [],
   "source": []
  },
  {
   "cell_type": "code",
   "execution_count": null,
   "metadata": {},
   "outputs": [],
   "source": []
  },
  {
   "cell_type": "code",
   "execution_count": 29,
   "metadata": {},
   "outputs": [],
   "source": [
    "ary = []\n",
    "for news in soup.select('ul.list.imm li'):\n",
    "    #print(news)\n",
    "    if news.select_one('a.tit p'):\n",
    "        title = news.select_one('a.tit p').text.strip()\n",
    "        link = 'https:'+news.select_one('a.tit').get('href')\n",
    "        dt =news.select_one('span').text\n",
    "        ary.append({'title':title,'link':link, 'dt':dt})\n",
    "        #print(news.select_one('a.tit p').text)\n",
    "        #print('===============================')"
   ]
  },
  {
   "cell_type": "code",
   "execution_count": 31,
   "metadata": {},
   "outputs": [
    {
     "data": {
      "text/html": [
       "<div>\n",
       "<style scoped>\n",
       "    .dataframe tbody tr th:only-of-type {\n",
       "        vertical-align: middle;\n",
       "    }\n",
       "\n",
       "    .dataframe tbody tr th {\n",
       "        vertical-align: top;\n",
       "    }\n",
       "\n",
       "    .dataframe thead th {\n",
       "        text-align: right;\n",
       "    }\n",
       "</style>\n",
       "<table border=\"1\" class=\"dataframe\">\n",
       "  <thead>\n",
       "    <tr style=\"text-align: right;\">\n",
       "      <th></th>\n",
       "      <th>dt</th>\n",
       "      <th>link</th>\n",
       "      <th>title</th>\n",
       "    </tr>\n",
       "  </thead>\n",
       "  <tbody>\n",
       "    <tr>\n",
       "      <th>0</th>\n",
       "      <td>13:34</td>\n",
       "      <td>https://ent.ltn.com.tw/news/breakingnews/2925105</td>\n",
       "      <td>C羅再見已逝父親 激動落淚「沒見證到我的成功」</td>\n",
       "    </tr>\n",
       "    <tr>\n",
       "      <th>1</th>\n",
       "      <td>13:33</td>\n",
       "      <td>https://news.ltn.com.tw/news/business/breaking...</td>\n",
       "      <td>趨勢科技：開放銀行法規PSD2存在風險</td>\n",
       "    </tr>\n",
       "    <tr>\n",
       "      <th>2</th>\n",
       "      <td>13:30</td>\n",
       "      <td>https://news.ltn.com.tw/news/business/breaking...</td>\n",
       "      <td>談華為禁售令 任正非：美政治家可能不太懂技術</td>\n",
       "    </tr>\n",
       "    <tr>\n",
       "      <th>3</th>\n",
       "      <td>13:28</td>\n",
       "      <td>https://ent.ltn.com.tw/news/breakingnews/2925146</td>\n",
       "      <td>香港反送中延燒    MAMA移師日本引韓網友不滿</td>\n",
       "    </tr>\n",
       "    <tr>\n",
       "      <th>4</th>\n",
       "      <td>13:28</td>\n",
       "      <td>https://news.ltn.com.tw/news/business/breaking...</td>\n",
       "      <td>買節能家電減徵貨物稅 3個月衝破40萬台、退稅6.5億！</td>\n",
       "    </tr>\n",
       "  </tbody>\n",
       "</table>\n",
       "</div>"
      ],
      "text/plain": [
       "      dt                                               link  \\\n",
       "0  13:34   https://ent.ltn.com.tw/news/breakingnews/2925105   \n",
       "1  13:33  https://news.ltn.com.tw/news/business/breaking...   \n",
       "2  13:30  https://news.ltn.com.tw/news/business/breaking...   \n",
       "3  13:28   https://ent.ltn.com.tw/news/breakingnews/2925146   \n",
       "4  13:28  https://news.ltn.com.tw/news/business/breaking...   \n",
       "\n",
       "                          title  \n",
       "0       C羅再見已逝父親 激動落淚「沒見證到我的成功」  \n",
       "1           趨勢科技：開放銀行法規PSD2存在風險  \n",
       "2        談華為禁售令 任正非：美政治家可能不太懂技術  \n",
       "3     香港反送中延燒    MAMA移師日本引韓網友不滿  \n",
       "4  買節能家電減徵貨物稅 3個月衝破40萬台、退稅6.5億！  "
      ]
     },
     "execution_count": 31,
     "metadata": {},
     "output_type": "execute_result"
    }
   ],
   "source": [
    "import pandas\n",
    "df = pandas.DataFrame(ary)\n",
    "df.head()"
   ]
  },
  {
   "cell_type": "markdown",
   "metadata": {},
   "source": [
    "## 591 租屋網"
   ]
  },
  {
   "cell_type": "code",
   "execution_count": 40,
   "metadata": {},
   "outputs": [],
   "source": [
    "import requests\n",
    "headers = {\n",
    " 'user-agent': 'qoo'   \n",
    "}\n",
    "res = requests.get('https://www.mobile01.com/newslist.php', headers = headers)\n",
    "#res.text"
   ]
  },
  {
   "cell_type": "code",
   "execution_count": 37,
   "metadata": {},
   "outputs": [],
   "source": [
    "import requests\n",
    "headers = {\n",
    " 'user-agent': 'qoo'   \n",
    "}\n",
    "res = requests.get('https://largitdata.com', headers = headers)"
   ]
  },
  {
   "cell_type": "code",
   "execution_count": 45,
   "metadata": {},
   "outputs": [],
   "source": [
    "import requests\n",
    "headers = {\n",
    " 'Cookie': '__auc=00cfda7016ae4653031fbc4809e; __utmz=82835026.1558609998.1.1.utmcsr=(direct)|utmccn=(direct)|utmcmd=(none); _ga=GA1.3.452025852.1558609998; T591_TOKEN=dhpkd9mm88po4m14m7jfu3sv52; _fbp=fb.2.1558610004061.1211475366; is_new_index=1; is_new_index_redirect=1; loginNoticeNumber=3; lastSearchRequirement=a%3A13%3A%7Bs%3A4%3A%22type%22%3Bs%3A4%3A%22rent%22%3Bs%3A8%3A%22regionid%22%3Bi%3A1%3Bs%3A9%3A%22sectionid%22%3Bi%3A0%3Bs%3A4%3A%22kind%22%3Bi%3A0%3Bs%3A5%3A%22shape%22%3Bi%3A0%3Bs%3A4%3A%22room%22%3Bi%3A0%3Bs%3A4%3A%22area%22%3Bi%3A0%3Bs%3A9%3A%22cartplace%22%3Bi%3A0%3Bs%3A9%3A%22balcony_1%22%3Bi%3A0%3Bs%3A3%3A%22pet%22%3Bi%3A0%3Bs%3A4%3A%22cook%22%3Bi%3A0%3Bs%3A4%3A%22role%22%3Bi%3A0%3Bs%3A8%3A%22newfloor%22%3Bi%3A0%3B%7D; fcm_pc_token=esqwMHrnHDs%3AAPA91bF5GGz2SV-nIwLj28XWpSzyDT61yAu-pC-JRc9KxgAd2NdXikHlrXPmgN_9ama1_w-vZJBof8j2ScGtbw5qBs9Qx-Mz0q_KymRhi6RF24PoVJvHiAgRip3EN4DSYL1tVFjrr6r2; __utma=82835026.452025852.1558609998.1562237295.1566801170.7; _ga=GA1.4.452025852.1558609998; ba_cid=a%3A5%3A%7Bs%3A6%3A%22ba_cid%22%3Bs%3A32%3A%229aa4d4a0ca2b9ce63a23ccd37be07bdb%22%3Bs%3A7%3A%22page_ex%22%3Bs%3A48%3A%22https%3A%2F%2Frent.591.com.tw%2Frent-detail-8190646.html%22%3Bs%3A4%3A%22page%22%3Bs%3A48%3A%22https%3A%2F%2Frent.591.com.tw%2Frent-detail-8190646.html%22%3Bs%3A7%3A%22time_ex%22%3Bi%3A1568102123%3Bs%3A4%3A%22time%22%3Bi%3A1568103134%3B%7D; urlJumpIp=1; urlJumpIpByTxt=%E5%8F%B0%E5%8C%97%E5%B8%82; last_search_type=2; index_keyword_search_analysis=%7B%22role%22%3A%221%22%2C%22type%22%3A2%2C%22keyword%22%3A%22%E5%8D%97%E6%96%B9%E8%8E%8A%E5%9C%92%22%2C%22selectKeyword%22%3A%22%22%2C%22menu%22%3A%22%22%2C%22hasHistory%22%3A1%2C%22hasPrompt%22%3A0%2C%22history%22%3A0%7D; user_index_role=2; user_browse_recent=a%3A5%3A%7Bi%3A0%3Ba%3A2%3A%7Bs%3A4%3A%22type%22%3Bi%3A2%3Bs%3A7%3A%22post_id%22%3Bi%3A6701994%3B%7Di%3A1%3Ba%3A2%3A%7Bs%3A4%3A%22type%22%3Bi%3A1%3Bs%3A7%3A%22post_id%22%3Bs%3A7%3A%228190646%22%3B%7Di%3A2%3Ba%3A2%3A%7Bs%3A4%3A%22type%22%3Bi%3A1%3Bs%3A7%3A%22post_id%22%3Bs%3A7%3A%228178302%22%3B%7Di%3A3%3Ba%3A2%3A%7Bs%3A4%3A%22type%22%3Bi%3A1%3Bs%3A7%3A%22post_id%22%3Bs%3A7%3A%228192858%22%3B%7Di%3A4%3Ba%3A2%3A%7Bs%3A4%3A%22type%22%3Bi%3A1%3Bs%3A7%3A%22post_id%22%3Bs%3A7%3A%228107838%22%3B%7D%7D; pt_28697119=uid=lyRMkppNvrACPo412FemhA&nid=0&vid=rBjj8fRzq-PJ39YdXKtFnA&vn=4&pvn=2&sact=1568702961911&to_flag=1&pl=xaNd6GIWvtwUnnOYxnixSg*pt*1568702961911; webp=1; PHPSESSID=ofiaggh4c9bl8ca6r8c9h9msl0; c10f3143a018a0513ebe1e8d27b5391c=1; new_rent_list_kind_test=0; _gid=GA1.3.1184772088.1569305293; _gid=GA1.4.1184772088.1569305293; XSRF-TOKEN=eyJpdiI6InRuSGJtcm5vWUJcLzhhSlY0NXoxSnlBPT0iLCJ2YWx1ZSI6IlhZQ1o5T251VjFFNXNpdzdEVTNZYkZ1YXV5bUdvTlVTbEdMMEhLTG1tRERIQU1BMXB3OTNURGpuTG1VdHpjTHRBbitxNGkzWGpvMmJRalZoXC9aeFZMdz09IiwibWFjIjoiM2YyZDQwMzUwNzhhODFhYTQyNDg2M2VhMjMzNDliMTNjNWY4ZThkNzFhOWMyZDlmZTNmZmNmNWQ1YzM5YWVlMyJ9; _gat_UA-97423186-1=1; 591_new_session=eyJpdiI6Ik9ZRk1lS1pMbmo2eDIyeGZoM2V1OHc9PSIsInZhbHVlIjoiYjBjcnEzUWljeUdhVWpGWjcrWXlEZ0ZGN1k2cmN6WjBFUFhQVWdWTmxPek1jNUQ4S2lCZVVrQUJoSFhpNDJoWThtdGJ1VlMrdFwvcitYWGN5anRkbzJBPT0iLCJtYWMiOiI4YWRhYTFiNWM2MzYwOWM4ZTNkMGJiN2FlYTRlOTViNjJjOTMyZmJiNTY3NWUyY2I4NmM4YjIwOTQ1N2FjNWY2In0%3D',   \n",
    " 'User-Agent': 'Mozilla/5.0 (Macintosh; Intel Mac OS X 10_14_6) AppleWebKit/537.36 (KHTML, like Gecko) Chrome/76.0.3809.132 Safari/537.36',  \n",
    " 'X-CSRF-TOKEN': 'sQgQ55f1htEQZH8ecYOv3hsIcycsI1dWnpp1pN19',\n",
    " 'X-Requested-With': 'XMLHttpRequest'   \n",
    "}\n",
    "res = requests.get('https://rent.591.com.tw/home/search/rsList?is_new_list=1&type=1&kind=1&searchtype=1&region=1&section=5&firstRow=30&totalRows=878', headers = headers)\n",
    "jd = res.json()"
   ]
  },
  {
   "cell_type": "code",
   "execution_count": 47,
   "metadata": {},
   "outputs": [],
   "source": [
    "import pandas\n",
    "df = pandas.DataFrame(jd['data']['data'])"
   ]
  },
  {
   "cell_type": "code",
   "execution_count": 49,
   "metadata": {},
   "outputs": [
    {
     "data": {
      "text/html": [
       "<div>\n",
       "<style scoped>\n",
       "    .dataframe tbody tr th:only-of-type {\n",
       "        vertical-align: middle;\n",
       "    }\n",
       "\n",
       "    .dataframe tbody tr th {\n",
       "        vertical-align: top;\n",
       "    }\n",
       "\n",
       "    .dataframe thead th {\n",
       "        text-align: right;\n",
       "    }\n",
       "</style>\n",
       "<table border=\"1\" class=\"dataframe\">\n",
       "  <thead>\n",
       "    <tr style=\"text-align: right;\">\n",
       "      <th></th>\n",
       "      <th>addInfo</th>\n",
       "      <th>addition2</th>\n",
       "      <th>addition3</th>\n",
       "      <th>addition4</th>\n",
       "      <th>addr_number_name</th>\n",
       "      <th>address</th>\n",
       "      <th>address_img</th>\n",
       "      <th>address_img_title</th>\n",
       "      <th>alley_name</th>\n",
       "      <th>allfloor</th>\n",
       "      <th>...</th>\n",
       "      <th>storeprice</th>\n",
       "      <th>street_name</th>\n",
       "      <th>streetid</th>\n",
       "      <th>type</th>\n",
       "      <th>unit</th>\n",
       "      <th>updatetime</th>\n",
       "      <th>user_id</th>\n",
       "      <th>vipBorder</th>\n",
       "      <th>vipimg</th>\n",
       "      <th>vipstyle</th>\n",
       "    </tr>\n",
       "  </thead>\n",
       "  <tbody>\n",
       "    <tr>\n",
       "      <th>0</th>\n",
       "      <td>&lt;img src=\"./images/index/userCenter/list_vip_v...</td>\n",
       "      <td>0</td>\n",
       "      <td>0</td>\n",
       "      <td>0</td>\n",
       "      <td></td>\n",
       "      <td>忠孝東路四段四房兩廳三衛..</td>\n",
       "      <td>四房兩廳三衛精緻裝潢有家具家電車位另計</td>\n",
       "      <td>四房兩廳三衛精緻裝潢有家具家電車位另計</td>\n",
       "      <td></td>\n",
       "      <td>13</td>\n",
       "      <td>...</td>\n",
       "      <td>0</td>\n",
       "      <td>忠孝東路四段</td>\n",
       "      <td>25637</td>\n",
       "      <td>1</td>\n",
       "      <td>元/月</td>\n",
       "      <td>1568876048</td>\n",
       "      <td>633864</td>\n",
       "      <td>vipStyle</td>\n",
       "      <td>&lt;img src=\"./images/index/userCenter/list_vip_v...</td>\n",
       "      <td>isvip</td>\n",
       "    </tr>\n",
       "    <tr>\n",
       "      <th>1</th>\n",
       "      <td>&lt;img src=\"./images/index/userCenter/list_vip_v...</td>\n",
       "      <td>0</td>\n",
       "      <td>0</td>\n",
       "      <td>0</td>\n",
       "      <td></td>\n",
       "      <td>忠孝東路四段170巷忠孝敦..</td>\n",
       "      <td>忠孝敦化誠品管理兩房●美式風格精美裝修</td>\n",
       "      <td>忠孝敦化誠品管理兩房●美式風格精美裝修</td>\n",
       "      <td>170巷</td>\n",
       "      <td>12</td>\n",
       "      <td>...</td>\n",
       "      <td>0</td>\n",
       "      <td>忠孝東路四段</td>\n",
       "      <td>25637</td>\n",
       "      <td>1</td>\n",
       "      <td>元/月</td>\n",
       "      <td>1567662905</td>\n",
       "      <td>1611062</td>\n",
       "      <td>vipStyle</td>\n",
       "      <td>&lt;img src=\"./images/index/userCenter/list_vip_v...</td>\n",
       "      <td>isvip</td>\n",
       "    </tr>\n",
       "    <tr>\n",
       "      <th>2</th>\n",
       "      <td>&lt;img src=\"./images/index/userCenter/list_vip_v...</td>\n",
       "      <td>0</td>\n",
       "      <td>0</td>\n",
       "      <td>0</td>\n",
       "      <td></td>\n",
       "      <td>光復南路中信陳頡恩博愛名..</td>\n",
       "      <td>中信陳頡恩博愛名門精美2房</td>\n",
       "      <td>中信陳頡恩博愛名門精美2房</td>\n",
       "      <td></td>\n",
       "      <td>12</td>\n",
       "      <td>...</td>\n",
       "      <td>0</td>\n",
       "      <td>光復南路</td>\n",
       "      <td>25623</td>\n",
       "      <td>1</td>\n",
       "      <td>元/月</td>\n",
       "      <td>1569302046</td>\n",
       "      <td>2421884</td>\n",
       "      <td>vipStyle</td>\n",
       "      <td>&lt;img src=\"./images/index/userCenter/list_vip_v...</td>\n",
       "      <td>isvip</td>\n",
       "    </tr>\n",
       "    <tr>\n",
       "      <th>3</th>\n",
       "      <td>&lt;img src=\"./images/index/userCenter/list_vip_v...</td>\n",
       "      <td>0</td>\n",
       "      <td>0</td>\n",
       "      <td>0</td>\n",
       "      <td></td>\n",
       "      <td>瑞安街208巷近大安森林公..</td>\n",
       "      <td>近大安森林公園.靜巷優雅.精品1+1房</td>\n",
       "      <td>近大安森林公園.靜巷優雅.精品1+1房</td>\n",
       "      <td>208巷</td>\n",
       "      <td>7</td>\n",
       "      <td>...</td>\n",
       "      <td>0</td>\n",
       "      <td>瑞安街</td>\n",
       "      <td>25671</td>\n",
       "      <td>1</td>\n",
       "      <td>元/月</td>\n",
       "      <td>1567687690</td>\n",
       "      <td>2664546</td>\n",
       "      <td>vipStyle</td>\n",
       "      <td>&lt;img src=\"./images/index/userCenter/list_vip_v...</td>\n",
       "      <td>isvip</td>\n",
       "    </tr>\n",
       "    <tr>\n",
       "      <th>4</th>\n",
       "      <td>&lt;img src=\"./images/index/userCenter/list_vip_v...</td>\n",
       "      <td>0</td>\n",
       "      <td>0</td>\n",
       "      <td>0</td>\n",
       "      <td>304號</td>\n",
       "      <td>和平東路三段捷運六張犁站..</td>\n",
       "      <td>捷運六張犁站八分鐘，二房一廳一陽台</td>\n",
       "      <td>捷運六張犁站八分鐘，二房一廳一陽台</td>\n",
       "      <td></td>\n",
       "      <td>4</td>\n",
       "      <td>...</td>\n",
       "      <td>0</td>\n",
       "      <td>和平東路三段</td>\n",
       "      <td>25634</td>\n",
       "      <td>1</td>\n",
       "      <td>元/月</td>\n",
       "      <td>1567997887</td>\n",
       "      <td>255583</td>\n",
       "      <td>vipStyle</td>\n",
       "      <td>&lt;img src=\"./images/index/userCenter/list_vip_v...</td>\n",
       "      <td>isvip</td>\n",
       "    </tr>\n",
       "  </tbody>\n",
       "</table>\n",
       "<p>5 rows × 88 columns</p>\n",
       "</div>"
      ],
      "text/plain": [
       "                                             addInfo  addition2  addition3  \\\n",
       "0  <img src=\"./images/index/userCenter/list_vip_v...          0          0   \n",
       "1  <img src=\"./images/index/userCenter/list_vip_v...          0          0   \n",
       "2  <img src=\"./images/index/userCenter/list_vip_v...          0          0   \n",
       "3  <img src=\"./images/index/userCenter/list_vip_v...          0          0   \n",
       "4  <img src=\"./images/index/userCenter/list_vip_v...          0          0   \n",
       "\n",
       "   addition4 addr_number_name          address          address_img  \\\n",
       "0          0                    忠孝東路四段四房兩廳三衛..  四房兩廳三衛精緻裝潢有家具家電車位另計   \n",
       "1          0                   忠孝東路四段170巷忠孝敦..  忠孝敦化誠品管理兩房●美式風格精美裝修   \n",
       "2          0                    光復南路中信陳頡恩博愛名..        中信陳頡恩博愛名門精美2房   \n",
       "3          0                   瑞安街208巷近大安森林公..  近大安森林公園.靜巷優雅.精品1+1房   \n",
       "4          0             304號   和平東路三段捷運六張犁站..    捷運六張犁站八分鐘，二房一廳一陽台   \n",
       "\n",
       "     address_img_title alley_name  allfloor  ...  storeprice street_name  \\\n",
       "0  四房兩廳三衛精緻裝潢有家具家電車位另計                   13  ...           0      忠孝東路四段   \n",
       "1  忠孝敦化誠品管理兩房●美式風格精美裝修       170巷        12  ...           0      忠孝東路四段   \n",
       "2        中信陳頡恩博愛名門精美2房                   12  ...           0        光復南路   \n",
       "3  近大安森林公園.靜巷優雅.精品1+1房       208巷         7  ...           0         瑞安街   \n",
       "4    捷運六張犁站八分鐘，二房一廳一陽台                    4  ...           0      和平東路三段   \n",
       "\n",
       "   streetid  type unit  updatetime  user_id vipBorder  \\\n",
       "0     25637     1  元/月  1568876048   633864  vipStyle   \n",
       "1     25637     1  元/月  1567662905  1611062  vipStyle   \n",
       "2     25623     1  元/月  1569302046  2421884  vipStyle   \n",
       "3     25671     1  元/月  1567687690  2664546  vipStyle   \n",
       "4     25634     1  元/月  1567997887   255583  vipStyle   \n",
       "\n",
       "                                              vipimg  vipstyle  \n",
       "0  <img src=\"./images/index/userCenter/list_vip_v...     isvip  \n",
       "1  <img src=\"./images/index/userCenter/list_vip_v...     isvip  \n",
       "2  <img src=\"./images/index/userCenter/list_vip_v...     isvip  \n",
       "3  <img src=\"./images/index/userCenter/list_vip_v...     isvip  \n",
       "4  <img src=\"./images/index/userCenter/list_vip_v...     isvip  \n",
       "\n",
       "[5 rows x 88 columns]"
      ]
     },
     "execution_count": 49,
     "metadata": {},
     "output_type": "execute_result"
    }
   ],
   "source": [
    "df.head()"
   ]
  },
  {
   "cell_type": "code",
   "execution_count": null,
   "metadata": {},
   "outputs": [],
   "source": []
  }
 ],
 "metadata": {
  "kernelspec": {
   "display_name": "Python 3",
   "language": "python",
   "name": "python3"
  },
  "language_info": {
   "codemirror_mode": {
    "name": "ipython",
    "version": 3
   },
   "file_extension": ".py",
   "mimetype": "text/x-python",
   "name": "python",
   "nbconvert_exporter": "python",
   "pygments_lexer": "ipython3",
   "version": "3.6.2"
  }
 },
 "nbformat": 4,
 "nbformat_minor": 2
}
