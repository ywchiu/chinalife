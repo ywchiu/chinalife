{
 "cells": [
  {
   "cell_type": "markdown",
   "metadata": {},
   "source": [
    "## 回家作業\n",
    "\n",
    "- 1 請使用 pip 將 jieba 安裝在自己的電腦上\n",
    "- 2 閱讀jieba 相關的文件，了解jieba 的用法\n",
    "- 3 請將蔡英文演說文 tsai.txt 下載存入到自己電腦\n",
    "- 4 請使用python 的檔案操作方法讀取演說文\n",
    "- 5 請使用 jieba 將演說文切詞\n",
    "- 6 請統計該演說文最常出現的十大字詞"
   ]
  },
  {
   "cell_type": "code",
   "execution_count": 1,
   "metadata": {},
   "outputs": [
    {
     "name": "stdout",
     "output_type": "stream",
     "text": [
      "Requirement already satisfied: jieba in /Users/davidchiu/.pyenv/versions/3.6.2/lib/python3.6/site-packages\n",
      "\u001b[33mYou are using pip version 9.0.1, however version 19.2.3 is available.\n",
      "You should consider upgrading via the 'pip install --upgrade pip' command.\u001b[0m\n"
     ]
    }
   ],
   "source": [
    "! pip install --trusted-host pypi.org --trusted-host files.pythonhosted.org --trusted-host pypi.python.org jieba"
   ]
  },
  {
   "cell_type": "code",
   "execution_count": 2,
   "metadata": {},
   "outputs": [
    {
     "name": "stderr",
     "output_type": "stream",
     "text": [
      "Building prefix dict from the default dictionary ...\n",
      "Dumping model to file cache /var/folders/46/b7dzk4mn6g54qzptv608w7d00000gn/T/jieba.cache\n",
      "Loading model cost 0.821 seconds.\n",
      "Prefix dict has been built succesfully.\n"
     ]
    },
    {
     "name": "stdout",
     "output_type": "stream",
     "text": [
      "我/ 来到/ 北京/ 清/ 华/ 大/ 学\n"
     ]
    }
   ],
   "source": [
    "import jieba\n",
    "\n",
    "seg_list = jieba.cut(\"我来到北京清华大学\")\n",
    "print(\"/ \".join(seg_list))  "
   ]
  },
  {
   "cell_type": "code",
   "execution_count": 3,
   "metadata": {},
   "outputs": [
    {
     "name": "stdout",
     "output_type": "stream",
     "text": [
      "郭台銘/ 宣布/ 不選/ 總統/ 了\n"
     ]
    }
   ],
   "source": [
    "import jieba\n",
    "\n",
    "seg_list = jieba.cut(\"郭台銘宣布不選總統了\")\n",
    "print(\"/ \".join(seg_list))  "
   ]
  },
  {
   "cell_type": "code",
   "execution_count": 4,
   "metadata": {},
   "outputs": [],
   "source": [
    "with open('/Users/davidchiu/Desktop/tsai.txt', 'r') as f:\n",
    "    speech = f.read()"
   ]
  },
  {
   "cell_type": "code",
   "execution_count": 7,
   "metadata": {},
   "outputs": [],
   "source": [
    "words = list(jieba.cut(speech))"
   ]
  },
  {
   "cell_type": "code",
   "execution_count": 8,
   "metadata": {},
   "outputs": [],
   "source": [
    "dic = {}\n",
    "for w in words:\n",
    "    if w not in dic:\n",
    "        dic[w] = 1\n",
    "    else:\n",
    "        dic[w] = dic[w] + 1"
   ]
  },
  {
   "cell_type": "code",
   "execution_count": 12,
   "metadata": {},
   "outputs": [],
   "source": [
    "swd = sorted(dic.items(), key = lambda e: e[1], reverse=True)"
   ]
  },
  {
   "cell_type": "code",
   "execution_count": 15,
   "metadata": {},
   "outputs": [
    {
     "name": "stdout",
     "output_type": "stream",
     "text": [
      "我們 59\n",
      "臺灣 46\n",
      "國家 27\n",
      "經濟 19\n",
      "國際 14\n",
      "社會 14\n",
      "民主 14\n",
      "發展 14\n"
     ]
    }
   ],
   "source": [
    "for k, v in swd[0:30]:\n",
    "    if len(k)>=2:\n",
    "        print(k,v)"
   ]
  },
  {
   "cell_type": "markdown",
   "metadata": {},
   "source": [
    "## 結構化資料讀取"
   ]
  },
  {
   "cell_type": "code",
   "execution_count": 16,
   "metadata": {},
   "outputs": [],
   "source": [
    "import pandas\n",
    "df = pandas.read_excel('https://raw.githubusercontent.com/ywchiu/chinalife/master/data/house591.xlsx')"
   ]
  },
  {
   "cell_type": "code",
   "execution_count": 20,
   "metadata": {},
   "outputs": [
    {
     "data": {
      "text/html": [
       "<div>\n",
       "<style scoped>\n",
       "    .dataframe tbody tr th:only-of-type {\n",
       "        vertical-align: middle;\n",
       "    }\n",
       "\n",
       "    .dataframe tbody tr th {\n",
       "        vertical-align: top;\n",
       "    }\n",
       "\n",
       "    .dataframe thead th {\n",
       "        text-align: right;\n",
       "    }\n",
       "</style>\n",
       "<table border=\"1\" class=\"dataframe\">\n",
       "  <thead>\n",
       "    <tr style=\"text-align: right;\">\n",
       "      <th></th>\n",
       "      <th>Unnamed: 0</th>\n",
       "      <th>address</th>\n",
       "      <th>area</th>\n",
       "      <th>browsenum</th>\n",
       "      <th>build_purpose</th>\n",
       "      <th>call_num</th>\n",
       "      <th>cartmodel</th>\n",
       "      <th>carttype</th>\n",
       "      <th>community_link</th>\n",
       "      <th>community_name</th>\n",
       "      <th>...</th>\n",
       "      <th>show_unitprice_unit</th>\n",
       "      <th>showarea</th>\n",
       "      <th>showhouseage</th>\n",
       "      <th>showprice</th>\n",
       "      <th>street_name</th>\n",
       "      <th>tag</th>\n",
       "      <th>title</th>\n",
       "      <th>type</th>\n",
       "      <th>unit_price</th>\n",
       "      <th>unitprice</th>\n",
       "    </tr>\n",
       "  </thead>\n",
       "  <tbody>\n",
       "    <tr>\n",
       "      <th>0</th>\n",
       "      <td>0</td>\n",
       "      <td>NaN</td>\n",
       "      <td>75.00</td>\n",
       "      <td>0</td>\n",
       "      <td>住宅大樓</td>\n",
       "      <td>83.0</td>\n",
       "      <td>NaN</td>\n",
       "      <td>NaN</td>\n",
       "      <td>NaN</td>\n",
       "      <td>NaN</td>\n",
       "      <td>...</td>\n",
       "      <td>萬元/坪</td>\n",
       "      <td>75~85坪</td>\n",
       "      <td>NaN</td>\n",
       "      <td>NaN</td>\n",
       "      <td>松信路50巷5號</td>\n",
       "      <td>['新成屋', '住家用', '捷運宅']</td>\n",
       "      <td>信義之冠</td>\n",
       "      <td>8</td>\n",
       "      <td>NaN</td>\n",
       "      <td>120.00</td>\n",
       "    </tr>\n",
       "    <tr>\n",
       "      <th>1</th>\n",
       "      <td>1</td>\n",
       "      <td>基隆路一段</td>\n",
       "      <td>46.42</td>\n",
       "      <td>721</td>\n",
       "      <td>NaN</td>\n",
       "      <td>NaN</td>\n",
       "      <td>NaN</td>\n",
       "      <td>NaN</td>\n",
       "      <td>/newCommunity-index.html?cid=39858</td>\n",
       "      <td>新寶信義大樓</td>\n",
       "      <td>...</td>\n",
       "      <td>NaN</td>\n",
       "      <td>NaN</td>\n",
       "      <td>12年</td>\n",
       "      <td>4,380</td>\n",
       "      <td>NaN</td>\n",
       "      <td>[]</td>\n",
       "      <td>獨家/近市府站/鋼骨結構/景觀戶</td>\n",
       "      <td>2</td>\n",
       "      <td>94.36萬/坪</td>\n",
       "      <td>94.36</td>\n",
       "    </tr>\n",
       "    <tr>\n",
       "      <th>2</th>\n",
       "      <td>2</td>\n",
       "      <td>忠孝東路五段</td>\n",
       "      <td>41.17</td>\n",
       "      <td>180</td>\n",
       "      <td>NaN</td>\n",
       "      <td>NaN</td>\n",
       "      <td>NaN</td>\n",
       "      <td>NaN</td>\n",
       "      <td>/newCommunity-index.html?cid=6305</td>\n",
       "      <td>春秋大廈</td>\n",
       "      <td>...</td>\n",
       "      <td>NaN</td>\n",
       "      <td>NaN</td>\n",
       "      <td>35年</td>\n",
       "      <td>3,988</td>\n",
       "      <td>NaN</td>\n",
       "      <td>['有陽台', '低公設']</td>\n",
       "      <td>🍎市府春秋捷運四房🍎住商關文乾</td>\n",
       "      <td>2</td>\n",
       "      <td>96.87萬/坪</td>\n",
       "      <td>96.87</td>\n",
       "    </tr>\n",
       "    <tr>\n",
       "      <th>3</th>\n",
       "      <td>3</td>\n",
       "      <td>和平東路三段435巷</td>\n",
       "      <td>15.76</td>\n",
       "      <td>1663</td>\n",
       "      <td>NaN</td>\n",
       "      <td>NaN</td>\n",
       "      <td>NaN</td>\n",
       "      <td>NaN</td>\n",
       "      <td>NaN</td>\n",
       "      <td>NaN</td>\n",
       "      <td>...</td>\n",
       "      <td>NaN</td>\n",
       "      <td>NaN</td>\n",
       "      <td>44年</td>\n",
       "      <td>1,180</td>\n",
       "      <td>NaN</td>\n",
       "      <td>['有陽台']</td>\n",
       "      <td>麟光捷運公寓兩房，靜巷邊間，通風採光佳！</td>\n",
       "      <td>2</td>\n",
       "      <td>74.87萬/坪</td>\n",
       "      <td>74.87</td>\n",
       "    </tr>\n",
       "    <tr>\n",
       "      <th>4</th>\n",
       "      <td>4</td>\n",
       "      <td>永吉路468巷</td>\n",
       "      <td>18.00</td>\n",
       "      <td>4535</td>\n",
       "      <td>NaN</td>\n",
       "      <td>NaN</td>\n",
       "      <td>NaN</td>\n",
       "      <td>NaN</td>\n",
       "      <td>NaN</td>\n",
       "      <td>NaN</td>\n",
       "      <td>...</td>\n",
       "      <td>NaN</td>\n",
       "      <td>NaN</td>\n",
       "      <td>60年</td>\n",
       "      <td>1,680</td>\n",
       "      <td>NaN</td>\n",
       "      <td>['有陽台']</td>\n",
       "      <td>東區捷運站超高投報率透天厝</td>\n",
       "      <td>2</td>\n",
       "      <td>93.33萬/坪</td>\n",
       "      <td>93.33</td>\n",
       "    </tr>\n",
       "  </tbody>\n",
       "</table>\n",
       "<p>5 rows × 60 columns</p>\n",
       "</div>"
      ],
      "text/plain": [
       "   Unnamed: 0     address   area  browsenum build_purpose  call_num  \\\n",
       "0           0         NaN  75.00          0          住宅大樓      83.0   \n",
       "1           1       基隆路一段  46.42        721           NaN       NaN   \n",
       "2           2      忠孝東路五段  41.17        180           NaN       NaN   \n",
       "3           3  和平東路三段435巷  15.76       1663           NaN       NaN   \n",
       "4           4     永吉路468巷  18.00       4535           NaN       NaN   \n",
       "\n",
       "   cartmodel  carttype                      community_link community_name  \\\n",
       "0        NaN       NaN                                 NaN            NaN   \n",
       "1        NaN       NaN  /newCommunity-index.html?cid=39858         新寶信義大樓   \n",
       "2        NaN       NaN   /newCommunity-index.html?cid=6305           春秋大廈   \n",
       "3        NaN       NaN                                 NaN            NaN   \n",
       "4        NaN       NaN                                 NaN            NaN   \n",
       "\n",
       "   ... show_unitprice_unit  showarea  showhouseage  showprice street_name  \\\n",
       "0  ...                萬元/坪    75~85坪           NaN        NaN    松信路50巷5號   \n",
       "1  ...                 NaN       NaN           12年      4,380         NaN   \n",
       "2  ...                 NaN       NaN           35年      3,988         NaN   \n",
       "3  ...                 NaN       NaN           44年      1,180         NaN   \n",
       "4  ...                 NaN       NaN           60年      1,680         NaN   \n",
       "\n",
       "                     tag                 title  type  unit_price  unitprice  \n",
       "0  ['新成屋', '住家用', '捷運宅']                  信義之冠     8         NaN     120.00  \n",
       "1                     []      獨家/近市府站/鋼骨結構/景觀戶     2    94.36萬/坪      94.36  \n",
       "2         ['有陽台', '低公設']       🍎市府春秋捷運四房🍎住商關文乾     2    96.87萬/坪      96.87  \n",
       "3                ['有陽台']  麟光捷運公寓兩房，靜巷邊間，通風採光佳！     2    74.87萬/坪      74.87  \n",
       "4                ['有陽台']         東區捷運站超高投報率透天厝     2    93.33萬/坪      93.33  \n",
       "\n",
       "[5 rows x 60 columns]"
      ]
     },
     "execution_count": 20,
     "metadata": {},
     "output_type": "execute_result"
    }
   ],
   "source": [
    "df.head()"
   ]
  },
  {
   "cell_type": "code",
   "execution_count": 18,
   "metadata": {},
   "outputs": [],
   "source": [
    "df.to_csv('house591.csv')"
   ]
  },
  {
   "cell_type": "code",
   "execution_count": 19,
   "metadata": {},
   "outputs": [],
   "source": [
    "df.to_csv('house591.tsv', sep = '\\t')"
   ]
  },
  {
   "cell_type": "markdown",
   "metadata": {},
   "source": [
    "## 網路爬蟲"
   ]
  },
  {
   "cell_type": "markdown",
   "metadata": {},
   "source": [
    "### GET"
   ]
  },
  {
   "cell_type": "code",
   "execution_count": 52,
   "metadata": {},
   "outputs": [],
   "source": [
    "import requests\n",
    "res = requests.get('https://tw.appledaily.com/new/realtime')\n",
    "#res = requests.get('https://tw.appledaily.com/new/realtime', verify=False)"
   ]
  },
  {
   "cell_type": "code",
   "execution_count": 54,
   "metadata": {},
   "outputs": [
    {
     "data": {
      "text/plain": [
       "<Response [200]>"
      ]
     },
     "execution_count": 54,
     "metadata": {},
     "output_type": "execute_result"
    }
   ],
   "source": [
    "res"
   ]
  },
  {
   "cell_type": "markdown",
   "metadata": {},
   "source": [
    "### HTTP狀態碼\n",
    "- https://zh.wikipedia.org/zh-tw/HTTP%E7%8A%B6%E6%80%81%E7%A0%81"
   ]
  },
  {
   "cell_type": "code",
   "execution_count": 24,
   "metadata": {},
   "outputs": [],
   "source": [
    "#res.text"
   ]
  },
  {
   "cell_type": "markdown",
   "metadata": {},
   "source": [
    "### POST"
   ]
  },
  {
   "cell_type": "code",
   "execution_count": 28,
   "metadata": {},
   "outputs": [],
   "source": [
    "url = 'https://www.thsrc.com.tw/tw/TimeTable/Search'\n",
    "\n",
    "payload = {\n",
    "'StartStationName':  '台北站',\n",
    "'EndStationName':  '新竹站',\n",
    "'SearchType': 'S',\n",
    "'StartStation': '977abb69-413a-4ccf-a109-0272c24fd490',\n",
    "'EndStation': 'a7a04c89-900b-4798-95a3-c01c455622f4',\n",
    "'DepartueSearchDate': '2019/10/09',\n",
    "'DepartueSearchTime': '16:00'\n",
    "}\n",
    "\n",
    "res = requests.post(url, data = payload)"
   ]
  },
  {
   "cell_type": "code",
   "execution_count": 29,
   "metadata": {},
   "outputs": [
    {
     "data": {
      "text/plain": [
       "<Response [200]>"
      ]
     },
     "execution_count": 29,
     "metadata": {},
     "output_type": "execute_result"
    }
   ],
   "source": [
    "res"
   ]
  },
  {
   "cell_type": "code",
   "execution_count": 32,
   "metadata": {},
   "outputs": [],
   "source": [
    "#res.json()"
   ]
  },
  {
   "cell_type": "markdown",
   "metadata": {},
   "source": [
    "### 小任務\n",
    "- 找出 存取 https://my83.com.tw/product/leaderboard 的方法與連結"
   ]
  },
  {
   "cell_type": "code",
   "execution_count": 44,
   "metadata": {},
   "outputs": [
    {
     "name": "stderr",
     "output_type": "stream",
     "text": [
      "/Users/davidchiu/.pyenv/versions/3.6.2/lib/python3.6/site-packages/urllib3/connectionpool.py:851: InsecureRequestWarning: Unverified HTTPS request is being made. Adding certificate verification is strongly advised. See: https://urllib3.readthedocs.io/en/latest/advanced-usage.html#ssl-warnings\n",
      "  InsecureRequestWarning)\n"
     ]
    }
   ],
   "source": [
    "import requests\n",
    "import re\n",
    "res = requests.get('https://my83.com.tw/product/leaderboard', verify=False)\n",
    "m = re.search('leaderboards: (.*)',res.text)"
   ]
  },
  {
   "cell_type": "code",
   "execution_count": 46,
   "metadata": {},
   "outputs": [],
   "source": [
    "import json\n",
    "jd = json.loads(m.group(1).rstrip('};'))"
   ]
  },
  {
   "cell_type": "code",
   "execution_count": 48,
   "metadata": {},
   "outputs": [
    {
     "data": {
      "text/plain": [
       "dict_keys(['health insurance', 'casualty insurance', 'disability insurance', 'disability support insurance', 'critical illness insurance', 'cancer insurance', 'endowment insurance', 'life insurance', 'other insurance'])"
      ]
     },
     "execution_count": 48,
     "metadata": {},
     "output_type": "execute_result"
    }
   ],
   "source": [
    "jd.keys()"
   ]
  },
  {
   "cell_type": "code",
   "execution_count": 51,
   "metadata": {},
   "outputs": [
    {
     "data": {
      "text/html": [
       "<div>\n",
       "<style scoped>\n",
       "    .dataframe tbody tr th:only-of-type {\n",
       "        vertical-align: middle;\n",
       "    }\n",
       "\n",
       "    .dataframe tbody tr th {\n",
       "        vertical-align: top;\n",
       "    }\n",
       "\n",
       "    .dataframe thead th {\n",
       "        text-align: right;\n",
       "    }\n",
       "</style>\n",
       "<table border=\"1\" class=\"dataframe\">\n",
       "  <thead>\n",
       "    <tr style=\"text-align: right;\">\n",
       "      <th></th>\n",
       "      <th>category</th>\n",
       "      <th>claim</th>\n",
       "      <th>code</th>\n",
       "      <th>company</th>\n",
       "      <th>company_id</th>\n",
       "      <th>contract_type</th>\n",
       "      <th>default_amount</th>\n",
       "      <th>default_plan_id</th>\n",
       "      <th>description</th>\n",
       "      <th>dm_url</th>\n",
       "      <th>...</th>\n",
       "      <th>rate_url</th>\n",
       "      <th>readableContractType</th>\n",
       "      <th>readableInsurance</th>\n",
       "      <th>readableRepay</th>\n",
       "      <th>relationProducts</th>\n",
       "      <th>repay</th>\n",
       "      <th>rule</th>\n",
       "      <th>selectedPlan</th>\n",
       "      <th>term_url</th>\n",
       "      <th>version</th>\n",
       "    </tr>\n",
       "  </thead>\n",
       "  <tbody>\n",
       "    <tr>\n",
       "      <th>0</th>\n",
       "      <td>hospital</td>\n",
       "      <td>30天疾病等待期\\n 因疾病或意外的住院、住院或門診手術及住院前7後14天同病因門診。(以上...</td>\n",
       "      <td>XHR</td>\n",
       "      <td>{'suitRateIn100k': 4.1932913789155, 'appealRat...</td>\n",
       "      <td>19</td>\n",
       "      <td>rider</td>\n",
       "      <td>None</td>\n",
       "      <td>11.0</td>\n",
       "      <td>住院或門診手術條款寫法相對友善，可副本理賠，也是寬鬆的概括式條款。雜費額度中上</td>\n",
       "      <td>https://drive.google.com/open?id=0B_vX9sKBpAaM...</td>\n",
       "      <td>...</td>\n",
       "      <td></td>\n",
       "      <td>附約</td>\n",
       "      <td>醫療險</td>\n",
       "      <td>不還本</td>\n",
       "      <td>[]</td>\n",
       "      <td>0</td>\n",
       "      <td>承保對象：主約被保險人的本人(最高65歲，續保至80歲)、配偶(14~65歲，續保至80歲)...</td>\n",
       "      <td>None</td>\n",
       "      <td>https://drive.google.com/open?id=0B_vX9sKBpAaM...</td>\n",
       "      <td>中華民國104年0 8月0 4日</td>\n",
       "    </tr>\n",
       "    <tr>\n",
       "      <th>1</th>\n",
       "      <td>hospital</td>\n",
       "      <td>無疾病等待期\\n 因疾病或意外的住院、住院或門診手術。(以上含住院日額、手術費、住院雜費、及...</td>\n",
       "      <td>RJ1</td>\n",
       "      <td>{'suitRateIn100k': 2.4712816478506, 'appealRat...</td>\n",
       "      <td>14</td>\n",
       "      <td>rider</td>\n",
       "      <td>None</td>\n",
       "      <td>39.0</td>\n",
       "      <td>理賠額度(雜費)額度、高保費便宜、可副本理賠、理賠方式較為寬鬆(概括式)，因此相當受到歡迎，...</td>\n",
       "      <td></td>\n",
       "      <td>...</td>\n",
       "      <td></td>\n",
       "      <td>附約</td>\n",
       "      <td>醫療險</td>\n",
       "      <td>不還本</td>\n",
       "      <td>[]</td>\n",
       "      <td>0</td>\n",
       "      <td>承保對象：主約被保險人的本人(最高70歲，續保至84歲)保證續保最低保額計畫一\\n 累積最高...</td>\n",
       "      <td>None</td>\n",
       "      <td>https://drive.google.com/open?id=0BwHpeTiKx5ul...</td>\n",
       "      <td>中華民國104年1 0月0 5日</td>\n",
       "    </tr>\n",
       "    <tr>\n",
       "      <th>2</th>\n",
       "      <td>hospital</td>\n",
       "      <td>30天疾病等待期\\n 因疾病或意外的住院、住院或門診手術及住院前7後14天同病因門診。(以上...</td>\n",
       "      <td>HNRB</td>\n",
       "      <td>{'suitRateIn100k': 5.6056721097051, 'appealRat...</td>\n",
       "      <td>2</td>\n",
       "      <td>rider</td>\n",
       "      <td>None</td>\n",
       "      <td>35.0</td>\n",
       "      <td>&lt;ol&gt;&lt;li&gt;理賠住院衍伸的病房費跟其餘住院醫療費用(雜費)，對目前短天數高自費的醫療走向...</td>\n",
       "      <td>https://drive.google.com/open?id=0BwHpeTiKx5ul...</td>\n",
       "      <td>...</td>\n",
       "      <td></td>\n",
       "      <td>附約</td>\n",
       "      <td>醫療險</td>\n",
       "      <td>不還本</td>\n",
       "      <td>[]</td>\n",
       "      <td>0</td>\n",
       "      <td>承保對象：主約被保險人的本人(最高65歲，續保至74歲)、配偶(最高65歲，續保至74歲)、...</td>\n",
       "      <td>None</td>\n",
       "      <td>https://drive.google.com/open?id=0BwHpeTiKx5ul...</td>\n",
       "      <td>中華民國105年0 1月0 1日</td>\n",
       "    </tr>\n",
       "    <tr>\n",
       "      <th>3</th>\n",
       "      <td>None</td>\n",
       "      <td></td>\n",
       "      <td>HNRB</td>\n",
       "      <td>{'suitRateIn100k': 5.6056721097051, 'appealRat...</td>\n",
       "      <td>2</td>\n",
       "      <td>master</td>\n",
       "      <td>None</td>\n",
       "      <td>NaN</td>\n",
       "      <td>無</td>\n",
       "      <td></td>\n",
       "      <td>...</td>\n",
       "      <td></td>\n",
       "      <td>主約</td>\n",
       "      <td>醫療險</td>\n",
       "      <td>不還本</td>\n",
       "      <td>[]</td>\n",
       "      <td>0</td>\n",
       "      <td></td>\n",
       "      <td>None</td>\n",
       "      <td></td>\n",
       "      <td></td>\n",
       "    </tr>\n",
       "    <tr>\n",
       "      <th>4</th>\n",
       "      <td>None</td>\n",
       "      <td></td>\n",
       "      <td>RSL</td>\n",
       "      <td>{'suitRateIn100k': 2.4712816478506, 'appealRat...</td>\n",
       "      <td>14</td>\n",
       "      <td>rider</td>\n",
       "      <td>None</td>\n",
       "      <td>NaN</td>\n",
       "      <td>晚年保費成長較RJ1慢，但門診手術條款寫法不太精確，雜費額度也略低</td>\n",
       "      <td></td>\n",
       "      <td>...</td>\n",
       "      <td></td>\n",
       "      <td>附約</td>\n",
       "      <td>醫療險</td>\n",
       "      <td>不還本</td>\n",
       "      <td>[]</td>\n",
       "      <td>0</td>\n",
       "      <td></td>\n",
       "      <td>None</td>\n",
       "      <td></td>\n",
       "      <td></td>\n",
       "    </tr>\n",
       "  </tbody>\n",
       "</table>\n",
       "<p>5 rows × 29 columns</p>\n",
       "</div>"
      ],
      "text/plain": [
       "   category                                              claim  code  \\\n",
       "0  hospital  30天疾病等待期\\n 因疾病或意外的住院、住院或門診手術及住院前7後14天同病因門診。(以上...   XHR   \n",
       "1  hospital  無疾病等待期\\n 因疾病或意外的住院、住院或門診手術。(以上含住院日額、手術費、住院雜費、及...   RJ1   \n",
       "2  hospital  30天疾病等待期\\n 因疾病或意外的住院、住院或門診手術及住院前7後14天同病因門診。(以上...  HNRB   \n",
       "3      None                                                     HNRB   \n",
       "4      None                                                      RSL   \n",
       "\n",
       "                                             company  company_id  \\\n",
       "0  {'suitRateIn100k': 4.1932913789155, 'appealRat...          19   \n",
       "1  {'suitRateIn100k': 2.4712816478506, 'appealRat...          14   \n",
       "2  {'suitRateIn100k': 5.6056721097051, 'appealRat...           2   \n",
       "3  {'suitRateIn100k': 5.6056721097051, 'appealRat...           2   \n",
       "4  {'suitRateIn100k': 2.4712816478506, 'appealRat...          14   \n",
       "\n",
       "  contract_type default_amount  default_plan_id  \\\n",
       "0         rider           None             11.0   \n",
       "1         rider           None             39.0   \n",
       "2         rider           None             35.0   \n",
       "3        master           None              NaN   \n",
       "4         rider           None              NaN   \n",
       "\n",
       "                                         description  \\\n",
       "0            住院或門診手術條款寫法相對友善，可副本理賠，也是寬鬆的概括式條款。雜費額度中上   \n",
       "1  理賠額度(雜費)額度、高保費便宜、可副本理賠、理賠方式較為寬鬆(概括式)，因此相當受到歡迎，...   \n",
       "2  <ol><li>理賠住院衍伸的病房費跟其餘住院醫療費用(雜費)，對目前短天數高自費的醫療走向...   \n",
       "3                                                  無   \n",
       "4                  晚年保費成長較RJ1慢，但門診手術條款寫法不太精確，雜費額度也略低   \n",
       "\n",
       "                                              dm_url  ...  rate_url  \\\n",
       "0  https://drive.google.com/open?id=0B_vX9sKBpAaM...  ...             \n",
       "1                                                     ...             \n",
       "2  https://drive.google.com/open?id=0BwHpeTiKx5ul...  ...             \n",
       "3                                                     ...             \n",
       "4                                                     ...             \n",
       "\n",
       "  readableContractType readableInsurance readableRepay  relationProducts  \\\n",
       "0                   附約               醫療險           不還本                []   \n",
       "1                   附約               醫療險           不還本                []   \n",
       "2                   附約               醫療險           不還本                []   \n",
       "3                   主約               醫療險           不還本                []   \n",
       "4                   附約               醫療險           不還本                []   \n",
       "\n",
       "   repay                                               rule  selectedPlan  \\\n",
       "0      0  承保對象：主約被保險人的本人(最高65歲，續保至80歲)、配偶(14~65歲，續保至80歲)...          None   \n",
       "1      0  承保對象：主約被保險人的本人(最高70歲，續保至84歲)保證續保最低保額計畫一\\n 累積最高...          None   \n",
       "2      0  承保對象：主約被保險人的本人(最高65歲，續保至74歲)、配偶(最高65歲，續保至74歲)、...          None   \n",
       "3      0                                                             None   \n",
       "4      0                                                             None   \n",
       "\n",
       "                                            term_url           version  \n",
       "0  https://drive.google.com/open?id=0B_vX9sKBpAaM...  中華民國104年0 8月0 4日  \n",
       "1  https://drive.google.com/open?id=0BwHpeTiKx5ul...  中華民國104年1 0月0 5日  \n",
       "2  https://drive.google.com/open?id=0BwHpeTiKx5ul...  中華民國105年0 1月0 1日  \n",
       "3                                                                       \n",
       "4                                                                       \n",
       "\n",
       "[5 rows x 29 columns]"
      ]
     },
     "execution_count": 51,
     "metadata": {},
     "output_type": "execute_result"
    }
   ],
   "source": [
    "import pandas\n",
    "df = pandas.DataFrame(jd['health insurance'])\n",
    "df"
   ]
  },
  {
   "cell_type": "markdown",
   "metadata": {},
   "source": [
    "### BeautifulSoup"
   ]
  },
  {
   "cell_type": "code",
   "execution_count": 55,
   "metadata": {},
   "outputs": [
    {
     "name": "stdout",
     "output_type": "stream",
     "text": [
      "\n",
      "\n",
      "Hello World\n",
      "This is link1\n",
      "This is link2\n",
      "\n",
      "\n"
     ]
    }
   ],
   "source": [
    "from bs4 import BeautifulSoup \n",
    "html_sample = ''' \n",
    "<html> \n",
    " <body> \n",
    " <h1 id=\"title\">Hello World</h1> \n",
    " <a href=\"#\" class=\"link\">This is link1</a> \n",
    " <a href=\"# link2\" class=\"link\">This is link2</a> \n",
    " </body> \n",
    " </html>'''\n",
    "\n",
    "soup = BeautifulSoup(html_sample, 'lxml')\n",
    "print(soup.text)\n"
   ]
  },
  {
   "cell_type": "code",
   "execution_count": 56,
   "metadata": {},
   "outputs": [
    {
     "data": {
      "text/plain": [
       "requests.models.Response"
      ]
     },
     "execution_count": 56,
     "metadata": {},
     "output_type": "execute_result"
    }
   ],
   "source": [
    "type(res)"
   ]
  },
  {
   "cell_type": "code",
   "execution_count": 57,
   "metadata": {},
   "outputs": [
    {
     "data": {
      "text/plain": [
       "bs4.BeautifulSoup"
      ]
     },
     "execution_count": 57,
     "metadata": {},
     "output_type": "execute_result"
    }
   ],
   "source": [
    "type(soup)"
   ]
  },
  {
   "cell_type": "code",
   "execution_count": 58,
   "metadata": {},
   "outputs": [
    {
     "data": {
      "text/plain": [
       "<h1 id=\"title\">Hello World</h1>"
      ]
     },
     "execution_count": 58,
     "metadata": {},
     "output_type": "execute_result"
    }
   ],
   "source": [
    "soup.select_one('h1')"
   ]
  },
  {
   "cell_type": "code",
   "execution_count": 59,
   "metadata": {},
   "outputs": [
    {
     "data": {
      "text/plain": [
       "'Hello World'"
      ]
     },
     "execution_count": 59,
     "metadata": {},
     "output_type": "execute_result"
    }
   ],
   "source": [
    "soup.select_one('h1').text"
   ]
  },
  {
   "cell_type": "code",
   "execution_count": 60,
   "metadata": {},
   "outputs": [
    {
     "data": {
      "text/plain": [
       "<a class=\"link\" href=\"#\">This is link1</a>"
      ]
     },
     "execution_count": 60,
     "metadata": {},
     "output_type": "execute_result"
    }
   ],
   "source": [
    "soup.select_one('a')"
   ]
  },
  {
   "cell_type": "code",
   "execution_count": 61,
   "metadata": {},
   "outputs": [
    {
     "data": {
      "text/plain": [
       "[<a class=\"link\" href=\"#\">This is link1</a>,\n",
       " <a class=\"link\" href=\"# link2\">This is link2</a>]"
      ]
     },
     "execution_count": 61,
     "metadata": {},
     "output_type": "execute_result"
    }
   ],
   "source": [
    "soup.select('a')"
   ]
  },
  {
   "cell_type": "code",
   "execution_count": 62,
   "metadata": {},
   "outputs": [
    {
     "name": "stdout",
     "output_type": "stream",
     "text": [
      "This is link1\n",
      "This is link2\n"
     ]
    }
   ],
   "source": [
    "for a in soup.select('a'):\n",
    "    print(a.text)"
   ]
  },
  {
   "cell_type": "code",
   "execution_count": 64,
   "metadata": {},
   "outputs": [
    {
     "data": {
      "text/plain": [
       "<h1 id=\"title\">Hello World</h1>"
      ]
     },
     "execution_count": 64,
     "metadata": {},
     "output_type": "execute_result"
    }
   ],
   "source": [
    "# id => #\n",
    "soup.select_one('#title')"
   ]
  },
  {
   "cell_type": "code",
   "execution_count": 65,
   "metadata": {},
   "outputs": [
    {
     "data": {
      "text/plain": [
       "[<a class=\"link\" href=\"#\">This is link1</a>,\n",
       " <a class=\"link\" href=\"# link2\">This is link2</a>]"
      ]
     },
     "execution_count": 65,
     "metadata": {},
     "output_type": "execute_result"
    }
   ],
   "source": [
    "# class => .\n",
    "soup.select('.link')"
   ]
  },
  {
   "cell_type": "code",
   "execution_count": 66,
   "metadata": {},
   "outputs": [
    {
     "data": {
      "text/plain": [
       "<h1 id=\"title\">Hello World</h1>"
      ]
     },
     "execution_count": 66,
     "metadata": {},
     "output_type": "execute_result"
    }
   ],
   "source": [
    "soup.select_one('h1#title')"
   ]
  },
  {
   "cell_type": "code",
   "execution_count": 67,
   "metadata": {},
   "outputs": [
    {
     "data": {
      "text/plain": [
       "<h1 id=\"title\">Hello World</h1>"
      ]
     },
     "execution_count": 67,
     "metadata": {},
     "output_type": "execute_result"
    }
   ],
   "source": [
    "soup.select_one('body h1#title')"
   ]
  },
  {
   "cell_type": "code",
   "execution_count": 68,
   "metadata": {},
   "outputs": [
    {
     "data": {
      "text/plain": [
       "<h1 id=\"title\">Hello World</h1>"
      ]
     },
     "execution_count": 68,
     "metadata": {},
     "output_type": "execute_result"
    }
   ],
   "source": [
    "soup.select_one('body #title')"
   ]
  },
  {
   "cell_type": "code",
   "execution_count": 69,
   "metadata": {},
   "outputs": [
    {
     "data": {
      "text/plain": [
       "<h1 id=\"title\">Hello World</h1>"
      ]
     },
     "execution_count": 69,
     "metadata": {},
     "output_type": "execute_result"
    }
   ],
   "source": [
    "soup.select_one('body h1')"
   ]
  },
  {
   "cell_type": "code",
   "execution_count": 70,
   "metadata": {},
   "outputs": [
    {
     "data": {
      "text/plain": [
       "[<a class=\"link\" href=\"#\">This is link1</a>,\n",
       " <a class=\"link\" href=\"# link2\">This is link2</a>]"
      ]
     },
     "execution_count": 70,
     "metadata": {},
     "output_type": "execute_result"
    }
   ],
   "source": [
    "soup.select('a.link')"
   ]
  },
  {
   "cell_type": "code",
   "execution_count": 71,
   "metadata": {},
   "outputs": [
    {
     "data": {
      "text/plain": [
       "[<a class=\"link\" href=\"#\">This is link1</a>,\n",
       " <a class=\"link\" href=\"# link2\">This is link2</a>]"
      ]
     },
     "execution_count": 71,
     "metadata": {},
     "output_type": "execute_result"
    }
   ],
   "source": [
    "soup.select('body a.link')"
   ]
  },
  {
   "cell_type": "code",
   "execution_count": 72,
   "metadata": {},
   "outputs": [
    {
     "data": {
      "text/plain": [
       "[<a class=\"link\" href=\"#\">This is link1</a>,\n",
       " <a class=\"link\" href=\"# link2\">This is link2</a>]"
      ]
     },
     "execution_count": 72,
     "metadata": {},
     "output_type": "execute_result"
    }
   ],
   "source": [
    "soup.select('body .link')"
   ]
  },
  {
   "cell_type": "code",
   "execution_count": 75,
   "metadata": {},
   "outputs": [
    {
     "name": "stdout",
     "output_type": "stream",
     "text": [
      "#\n",
      "# link2\n"
     ]
    }
   ],
   "source": [
    "for alink in soup.select('body .link'):\n",
    "    print(alink.get('href'))"
   ]
  },
  {
   "cell_type": "markdown",
   "metadata": {},
   "source": [
    "### 抓取蘋果即時新聞列表"
   ]
  },
  {
   "cell_type": "code",
   "execution_count": 77,
   "metadata": {},
   "outputs": [],
   "source": [
    "import requests\n",
    "res = requests.get('https://tw.appledaily.com/new/realtime')\n",
    "#res.text"
   ]
  },
  {
   "cell_type": "code",
   "execution_count": 78,
   "metadata": {},
   "outputs": [],
   "source": [
    "from bs4 import BeautifulSoup\n",
    "soup = BeautifulSoup(res.text, 'lxml')"
   ]
  },
  {
   "cell_type": "code",
   "execution_count": 81,
   "metadata": {},
   "outputs": [
    {
     "data": {
      "text/plain": [
       "30"
      ]
     },
     "execution_count": 81,
     "metadata": {},
     "output_type": "execute_result"
    }
   ],
   "source": [
    "len(soup.select('li.rtddt a'))"
   ]
  },
  {
   "cell_type": "code",
   "execution_count": 93,
   "metadata": {},
   "outputs": [
    {
     "name": "stdout",
     "output_type": "stream",
     "text": [
      "蔡瑞雪被「反骨」瑋哥壓頭　清純女被撩白眼... 娛樂 16:18 https://tw.entertainment.appledaily.com/realtime/20190917/1634631/\n",
      "===================================\n",
      "不忍弱勢生趴床板寫功課　善心董ㄟ捐新北4... 生活 16:16 https://tw.news.appledaily.com/life/realtime/20190917/1634633/\n",
      "===================================\n",
      "百貨周年慶首推餐飲滿500元送500元服... 生活 16:16 https://tw.news.appledaily.com/life/realtime/20190917/1634639/\n",
      "===================================\n",
      "全國採茶技術比賽在坪林　選手比速度也考茶... 生活 16:12 https://tw.news.appledaily.com/life/realtime/20190917/1634616/\n",
      "===================================\n",
      "涉假藉研究學者簽證招聘　中國官員美國被捕 國際 16:11 https://tw.news.appledaily.com/international/realtime/20190917/1634630/\n",
      "===================================\n",
      "不滿伴侶欲取消同婚註記　女酒後大鬧板橋戶... 社會 16:10 https://tw.news.appledaily.com/local/realtime/20190917/1634624/\n",
      "===================================\n",
      "台南震災重建幸福大樓竣工　賴清德低調現身... 生活 16:10 https://tw.news.appledaily.com/life/realtime/20190917/1634612/\n",
      "===================================\n",
      "【郭董不選27】郭台銘不背黑鍋　翟神：他... 政治 16:09 https://tw.news.appledaily.com/politics/realtime/20190917/1634634/\n",
      "===================================\n",
      "出國度假腹痛突死　美少女遺體內子宮離奇消... 國際 16:08 https://tw.news.appledaily.com/international/realtime/20190917/1634171/\n",
      "===================================\n",
      "【柯Ｐ下一步】開啟另一故事序曲？　轉披橘... 生活 16:05 https://tw.news.appledaily.com/life/realtime/20190917/1634416/\n",
      "===================================\n",
      "宏達電高階人事異動！法電信副總接執行長預... 財經 16:05 https://tw.finance.appledaily.com/realtime/20190917/1634565/\n",
      "===================================\n",
      "九份二山觀光農產要道寬僅2米　林明溱承諾... 生活 16:04 https://tw.news.appledaily.com/life/realtime/20190917/1634591/\n",
      "===================================\n",
      "女童流感併發橫紋肌溶解症　雙腿痠痛無法走 生活 16:03 https://tw.news.appledaily.com/life/realtime/20190917/1634562/\n",
      "===================================\n",
      "【Video Talk】郭台銘不選202... 政治 16:02 https://tw.news.appledaily.com/politics/realtime/20190917/1634445/\n",
      "===================================\n",
      "【高雄海碩】台灣雙打搭檔內戰　楊宗樺52... 體育 16:01 https://tw.sports.appledaily.com/realtime/20190917/1634629/\n",
      "===================================\n",
      "【百姓的苦與痛】新北禁燃煤、他縣市卻牛步... 社會 16:00 https://tw.news.appledaily.com/local/realtime/20190917/1631274/\n",
      "===================================\n",
      "台索斷交百生學籍恐生變　校方：募款助生完... 生活 16:00 https://tw.news.appledaily.com/life/realtime/20190917/1634623/\n",
      "===================================\n",
      "呂秀蓮宣布參選總統　民進黨：目前還談不上... 政治 15:59 https://tw.news.appledaily.com/politics/realtime/20190917/1634602/\n",
      "===================================\n",
      "【強勢回歸】奧迪A8大改款國內首試　面面... 3C 15:56 https://tw.lifestyle.appledaily.com/gadget/realtime/20190917/1633186/\n",
      "===================================\n",
      "勸醉夫返家不成遭怒毆　路人勸阻險群鬥 社會 15:56 https://tw.news.appledaily.com/local/realtime/20190917/1634606/\n",
      "===================================\n",
      "新北男子離家失聯　陳屍新北野柳公園崖底 社會 15:56 https://tw.news.appledaily.com/local/realtime/20190917/1634607/\n",
      "===================================\n",
      "柯P確定今不領表　「郭董不選早一個月講　... 生活 15:53 https://tw.news.appledaily.com/life/realtime/20190917/1634332/\n",
      "===================================\n",
      "汐止大同路今新增1直行車道　有效紓解尖峰... 生活 15:52 https://tw.news.appledaily.com/life/realtime/20190917/1634603/\n",
      "===================================\n",
      "因小失大！為逃60元停車費貼前車離場　他... 社會 15:49 https://tw.news.appledaily.com/local/realtime/20190917/1634371/\n",
      "===================================\n",
      "華碩1P、2P伺服器　奪246項SPEC... 財經 15:49 https://tw.finance.appledaily.com/realtime/20190917/1634609/\n",
      "===================================\n",
      "港鐵紅磡站列車出軌斷兩截釀8傷　機電署：... 國際 15:48 https://tw.news.appledaily.com/international/realtime/20190917/1634366/\n",
      "===================================\n",
      "二宮和也爆同居主播女友　伊藤綾子被拍拎台... 娛樂 15:48 https://tw.entertainment.appledaily.com/realtime/20190917/1634570/\n",
      "===================================\n",
      "遊韓小心！南韓爆A肝群聚破萬例　疾管署：... 生活 15:48 https://tw.news.appledaily.com/life/realtime/20190917/1634611/\n",
      "===================================\n",
      "郭董不選粉絲哀嚎　盼郭家軍進軍立院 政治 15:45 https://tw.news.appledaily.com/politics/realtime/20190917/1634598/\n",
      "===================================\n",
      "【郭董不選25】郝龍斌：選不選都是郭台銘... 政治 15:38 https://tw.news.appledaily.com/politics/realtime/20190917/1634579/\n",
      "===================================\n"
     ]
    }
   ],
   "source": [
    "for news in soup.select('li.rtddt a'):\n",
    "    #print(news)\n",
    "    #print(news.select_one('h1').text)\n",
    "    title    = news.select_one('h1').text\n",
    "    category = news.select_one('h2').text\n",
    "    dt       = news.select_one('time').text\n",
    "    link     = news.get('href')\n",
    "    print(title, category, dt, link)\n",
    "    print('===================================')"
   ]
  },
  {
   "cell_type": "code",
   "execution_count": 94,
   "metadata": {},
   "outputs": [],
   "source": [
    "import pandas\n",
    "ary = []\n",
    "for news in soup.select('li.rtddt a'):\n",
    "    title    = news.select_one('h1').text\n",
    "    category = news.select_one('h2').text\n",
    "    dt       = news.select_one('time').text\n",
    "    link     = news.get('href')\n",
    "    ary.append({'title':title, \n",
    "                'category':category, \n",
    "                'dt':dt, \n",
    "                'link':link})\n",
    "    #print('===================================')"
   ]
  },
  {
   "cell_type": "code",
   "execution_count": 95,
   "metadata": {},
   "outputs": [],
   "source": [
    "df = pandas.DataFrame(ary)"
   ]
  },
  {
   "cell_type": "code",
   "execution_count": 96,
   "metadata": {},
   "outputs": [
    {
     "data": {
      "text/html": [
       "<div>\n",
       "<style scoped>\n",
       "    .dataframe tbody tr th:only-of-type {\n",
       "        vertical-align: middle;\n",
       "    }\n",
       "\n",
       "    .dataframe tbody tr th {\n",
       "        vertical-align: top;\n",
       "    }\n",
       "\n",
       "    .dataframe thead th {\n",
       "        text-align: right;\n",
       "    }\n",
       "</style>\n",
       "<table border=\"1\" class=\"dataframe\">\n",
       "  <thead>\n",
       "    <tr style=\"text-align: right;\">\n",
       "      <th></th>\n",
       "      <th>category</th>\n",
       "      <th>dt</th>\n",
       "      <th>link</th>\n",
       "      <th>title</th>\n",
       "    </tr>\n",
       "  </thead>\n",
       "  <tbody>\n",
       "    <tr>\n",
       "      <th>0</th>\n",
       "      <td>娛樂</td>\n",
       "      <td>16:18</td>\n",
       "      <td>https://tw.entertainment.appledaily.com/realti...</td>\n",
       "      <td>蔡瑞雪被「反骨」瑋哥壓頭　清純女被撩白眼...</td>\n",
       "    </tr>\n",
       "    <tr>\n",
       "      <th>1</th>\n",
       "      <td>生活</td>\n",
       "      <td>16:16</td>\n",
       "      <td>https://tw.news.appledaily.com/life/realtime/2...</td>\n",
       "      <td>不忍弱勢生趴床板寫功課　善心董ㄟ捐新北4...</td>\n",
       "    </tr>\n",
       "    <tr>\n",
       "      <th>2</th>\n",
       "      <td>生活</td>\n",
       "      <td>16:16</td>\n",
       "      <td>https://tw.news.appledaily.com/life/realtime/2...</td>\n",
       "      <td>百貨周年慶首推餐飲滿500元送500元服...</td>\n",
       "    </tr>\n",
       "    <tr>\n",
       "      <th>3</th>\n",
       "      <td>生活</td>\n",
       "      <td>16:12</td>\n",
       "      <td>https://tw.news.appledaily.com/life/realtime/2...</td>\n",
       "      <td>全國採茶技術比賽在坪林　選手比速度也考茶...</td>\n",
       "    </tr>\n",
       "    <tr>\n",
       "      <th>4</th>\n",
       "      <td>國際</td>\n",
       "      <td>16:11</td>\n",
       "      <td>https://tw.news.appledaily.com/international/r...</td>\n",
       "      <td>涉假藉研究學者簽證招聘　中國官員美國被捕</td>\n",
       "    </tr>\n",
       "    <tr>\n",
       "      <th>5</th>\n",
       "      <td>社會</td>\n",
       "      <td>16:10</td>\n",
       "      <td>https://tw.news.appledaily.com/local/realtime/...</td>\n",
       "      <td>不滿伴侶欲取消同婚註記　女酒後大鬧板橋戶...</td>\n",
       "    </tr>\n",
       "    <tr>\n",
       "      <th>6</th>\n",
       "      <td>生活</td>\n",
       "      <td>16:10</td>\n",
       "      <td>https://tw.news.appledaily.com/life/realtime/2...</td>\n",
       "      <td>台南震災重建幸福大樓竣工　賴清德低調現身...</td>\n",
       "    </tr>\n",
       "    <tr>\n",
       "      <th>7</th>\n",
       "      <td>政治</td>\n",
       "      <td>16:09</td>\n",
       "      <td>https://tw.news.appledaily.com/politics/realti...</td>\n",
       "      <td>【郭董不選27】郭台銘不背黑鍋　翟神：他...</td>\n",
       "    </tr>\n",
       "    <tr>\n",
       "      <th>8</th>\n",
       "      <td>國際</td>\n",
       "      <td>16:08</td>\n",
       "      <td>https://tw.news.appledaily.com/international/r...</td>\n",
       "      <td>出國度假腹痛突死　美少女遺體內子宮離奇消...</td>\n",
       "    </tr>\n",
       "    <tr>\n",
       "      <th>9</th>\n",
       "      <td>生活</td>\n",
       "      <td>16:05</td>\n",
       "      <td>https://tw.news.appledaily.com/life/realtime/2...</td>\n",
       "      <td>【柯Ｐ下一步】開啟另一故事序曲？　轉披橘...</td>\n",
       "    </tr>\n",
       "    <tr>\n",
       "      <th>10</th>\n",
       "      <td>財經</td>\n",
       "      <td>16:05</td>\n",
       "      <td>https://tw.finance.appledaily.com/realtime/201...</td>\n",
       "      <td>宏達電高階人事異動！法電信副總接執行長預...</td>\n",
       "    </tr>\n",
       "    <tr>\n",
       "      <th>11</th>\n",
       "      <td>生活</td>\n",
       "      <td>16:04</td>\n",
       "      <td>https://tw.news.appledaily.com/life/realtime/2...</td>\n",
       "      <td>九份二山觀光農產要道寬僅2米　林明溱承諾...</td>\n",
       "    </tr>\n",
       "    <tr>\n",
       "      <th>12</th>\n",
       "      <td>生活</td>\n",
       "      <td>16:03</td>\n",
       "      <td>https://tw.news.appledaily.com/life/realtime/2...</td>\n",
       "      <td>女童流感併發橫紋肌溶解症　雙腿痠痛無法走</td>\n",
       "    </tr>\n",
       "    <tr>\n",
       "      <th>13</th>\n",
       "      <td>政治</td>\n",
       "      <td>16:02</td>\n",
       "      <td>https://tw.news.appledaily.com/politics/realti...</td>\n",
       "      <td>【Video Talk】郭台銘不選202...</td>\n",
       "    </tr>\n",
       "    <tr>\n",
       "      <th>14</th>\n",
       "      <td>體育</td>\n",
       "      <td>16:01</td>\n",
       "      <td>https://tw.sports.appledaily.com/realtime/2019...</td>\n",
       "      <td>【高雄海碩】台灣雙打搭檔內戰　楊宗樺52...</td>\n",
       "    </tr>\n",
       "    <tr>\n",
       "      <th>15</th>\n",
       "      <td>社會</td>\n",
       "      <td>16:00</td>\n",
       "      <td>https://tw.news.appledaily.com/local/realtime/...</td>\n",
       "      <td>【百姓的苦與痛】新北禁燃煤、他縣市卻牛步...</td>\n",
       "    </tr>\n",
       "    <tr>\n",
       "      <th>16</th>\n",
       "      <td>生活</td>\n",
       "      <td>16:00</td>\n",
       "      <td>https://tw.news.appledaily.com/life/realtime/2...</td>\n",
       "      <td>台索斷交百生學籍恐生變　校方：募款助生完...</td>\n",
       "    </tr>\n",
       "    <tr>\n",
       "      <th>17</th>\n",
       "      <td>政治</td>\n",
       "      <td>15:59</td>\n",
       "      <td>https://tw.news.appledaily.com/politics/realti...</td>\n",
       "      <td>呂秀蓮宣布參選總統　民進黨：目前還談不上...</td>\n",
       "    </tr>\n",
       "    <tr>\n",
       "      <th>18</th>\n",
       "      <td>3C</td>\n",
       "      <td>15:56</td>\n",
       "      <td>https://tw.lifestyle.appledaily.com/gadget/rea...</td>\n",
       "      <td>【強勢回歸】奧迪A8大改款國內首試　面面...</td>\n",
       "    </tr>\n",
       "    <tr>\n",
       "      <th>19</th>\n",
       "      <td>社會</td>\n",
       "      <td>15:56</td>\n",
       "      <td>https://tw.news.appledaily.com/local/realtime/...</td>\n",
       "      <td>勸醉夫返家不成遭怒毆　路人勸阻險群鬥</td>\n",
       "    </tr>\n",
       "    <tr>\n",
       "      <th>20</th>\n",
       "      <td>社會</td>\n",
       "      <td>15:56</td>\n",
       "      <td>https://tw.news.appledaily.com/local/realtime/...</td>\n",
       "      <td>新北男子離家失聯　陳屍新北野柳公園崖底</td>\n",
       "    </tr>\n",
       "    <tr>\n",
       "      <th>21</th>\n",
       "      <td>生活</td>\n",
       "      <td>15:53</td>\n",
       "      <td>https://tw.news.appledaily.com/life/realtime/2...</td>\n",
       "      <td>柯P確定今不領表　「郭董不選早一個月講　...</td>\n",
       "    </tr>\n",
       "    <tr>\n",
       "      <th>22</th>\n",
       "      <td>生活</td>\n",
       "      <td>15:52</td>\n",
       "      <td>https://tw.news.appledaily.com/life/realtime/2...</td>\n",
       "      <td>汐止大同路今新增1直行車道　有效紓解尖峰...</td>\n",
       "    </tr>\n",
       "    <tr>\n",
       "      <th>23</th>\n",
       "      <td>社會</td>\n",
       "      <td>15:49</td>\n",
       "      <td>https://tw.news.appledaily.com/local/realtime/...</td>\n",
       "      <td>因小失大！為逃60元停車費貼前車離場　他...</td>\n",
       "    </tr>\n",
       "    <tr>\n",
       "      <th>24</th>\n",
       "      <td>財經</td>\n",
       "      <td>15:49</td>\n",
       "      <td>https://tw.finance.appledaily.com/realtime/201...</td>\n",
       "      <td>華碩1P、2P伺服器　奪246項SPEC...</td>\n",
       "    </tr>\n",
       "    <tr>\n",
       "      <th>25</th>\n",
       "      <td>國際</td>\n",
       "      <td>15:48</td>\n",
       "      <td>https://tw.news.appledaily.com/international/r...</td>\n",
       "      <td>港鐵紅磡站列車出軌斷兩截釀8傷　機電署：...</td>\n",
       "    </tr>\n",
       "    <tr>\n",
       "      <th>26</th>\n",
       "      <td>娛樂</td>\n",
       "      <td>15:48</td>\n",
       "      <td>https://tw.entertainment.appledaily.com/realti...</td>\n",
       "      <td>二宮和也爆同居主播女友　伊藤綾子被拍拎台...</td>\n",
       "    </tr>\n",
       "    <tr>\n",
       "      <th>27</th>\n",
       "      <td>生活</td>\n",
       "      <td>15:48</td>\n",
       "      <td>https://tw.news.appledaily.com/life/realtime/2...</td>\n",
       "      <td>遊韓小心！南韓爆A肝群聚破萬例　疾管署：...</td>\n",
       "    </tr>\n",
       "    <tr>\n",
       "      <th>28</th>\n",
       "      <td>政治</td>\n",
       "      <td>15:45</td>\n",
       "      <td>https://tw.news.appledaily.com/politics/realti...</td>\n",
       "      <td>郭董不選粉絲哀嚎　盼郭家軍進軍立院</td>\n",
       "    </tr>\n",
       "    <tr>\n",
       "      <th>29</th>\n",
       "      <td>政治</td>\n",
       "      <td>15:38</td>\n",
       "      <td>https://tw.news.appledaily.com/politics/realti...</td>\n",
       "      <td>【郭董不選25】郝龍斌：選不選都是郭台銘...</td>\n",
       "    </tr>\n",
       "  </tbody>\n",
       "</table>\n",
       "</div>"
      ],
      "text/plain": [
       "   category     dt                                               link  \\\n",
       "0        娛樂  16:18  https://tw.entertainment.appledaily.com/realti...   \n",
       "1        生活  16:16  https://tw.news.appledaily.com/life/realtime/2...   \n",
       "2        生活  16:16  https://tw.news.appledaily.com/life/realtime/2...   \n",
       "3        生活  16:12  https://tw.news.appledaily.com/life/realtime/2...   \n",
       "4        國際  16:11  https://tw.news.appledaily.com/international/r...   \n",
       "5        社會  16:10  https://tw.news.appledaily.com/local/realtime/...   \n",
       "6        生活  16:10  https://tw.news.appledaily.com/life/realtime/2...   \n",
       "7        政治  16:09  https://tw.news.appledaily.com/politics/realti...   \n",
       "8        國際  16:08  https://tw.news.appledaily.com/international/r...   \n",
       "9        生活  16:05  https://tw.news.appledaily.com/life/realtime/2...   \n",
       "10       財經  16:05  https://tw.finance.appledaily.com/realtime/201...   \n",
       "11       生活  16:04  https://tw.news.appledaily.com/life/realtime/2...   \n",
       "12       生活  16:03  https://tw.news.appledaily.com/life/realtime/2...   \n",
       "13       政治  16:02  https://tw.news.appledaily.com/politics/realti...   \n",
       "14       體育  16:01  https://tw.sports.appledaily.com/realtime/2019...   \n",
       "15       社會  16:00  https://tw.news.appledaily.com/local/realtime/...   \n",
       "16       生活  16:00  https://tw.news.appledaily.com/life/realtime/2...   \n",
       "17       政治  15:59  https://tw.news.appledaily.com/politics/realti...   \n",
       "18       3C  15:56  https://tw.lifestyle.appledaily.com/gadget/rea...   \n",
       "19       社會  15:56  https://tw.news.appledaily.com/local/realtime/...   \n",
       "20       社會  15:56  https://tw.news.appledaily.com/local/realtime/...   \n",
       "21       生活  15:53  https://tw.news.appledaily.com/life/realtime/2...   \n",
       "22       生活  15:52  https://tw.news.appledaily.com/life/realtime/2...   \n",
       "23       社會  15:49  https://tw.news.appledaily.com/local/realtime/...   \n",
       "24       財經  15:49  https://tw.finance.appledaily.com/realtime/201...   \n",
       "25       國際  15:48  https://tw.news.appledaily.com/international/r...   \n",
       "26       娛樂  15:48  https://tw.entertainment.appledaily.com/realti...   \n",
       "27       生活  15:48  https://tw.news.appledaily.com/life/realtime/2...   \n",
       "28       政治  15:45  https://tw.news.appledaily.com/politics/realti...   \n",
       "29       政治  15:38  https://tw.news.appledaily.com/politics/realti...   \n",
       "\n",
       "                      title  \n",
       "0   蔡瑞雪被「反骨」瑋哥壓頭　清純女被撩白眼...  \n",
       "1   不忍弱勢生趴床板寫功課　善心董ㄟ捐新北4...  \n",
       "2   百貨周年慶首推餐飲滿500元送500元服...  \n",
       "3   全國採茶技術比賽在坪林　選手比速度也考茶...  \n",
       "4      涉假藉研究學者簽證招聘　中國官員美國被捕  \n",
       "5   不滿伴侶欲取消同婚註記　女酒後大鬧板橋戶...  \n",
       "6   台南震災重建幸福大樓竣工　賴清德低調現身...  \n",
       "7   【郭董不選27】郭台銘不背黑鍋　翟神：他...  \n",
       "8   出國度假腹痛突死　美少女遺體內子宮離奇消...  \n",
       "9   【柯Ｐ下一步】開啟另一故事序曲？　轉披橘...  \n",
       "10  宏達電高階人事異動！法電信副總接執行長預...  \n",
       "11  九份二山觀光農產要道寬僅2米　林明溱承諾...  \n",
       "12     女童流感併發橫紋肌溶解症　雙腿痠痛無法走  \n",
       "13  【Video Talk】郭台銘不選202...  \n",
       "14  【高雄海碩】台灣雙打搭檔內戰　楊宗樺52...  \n",
       "15  【百姓的苦與痛】新北禁燃煤、他縣市卻牛步...  \n",
       "16  台索斷交百生學籍恐生變　校方：募款助生完...  \n",
       "17  呂秀蓮宣布參選總統　民進黨：目前還談不上...  \n",
       "18  【強勢回歸】奧迪A8大改款國內首試　面面...  \n",
       "19       勸醉夫返家不成遭怒毆　路人勸阻險群鬥  \n",
       "20      新北男子離家失聯　陳屍新北野柳公園崖底  \n",
       "21  柯P確定今不領表　「郭董不選早一個月講　...  \n",
       "22  汐止大同路今新增1直行車道　有效紓解尖峰...  \n",
       "23  因小失大！為逃60元停車費貼前車離場　他...  \n",
       "24  華碩1P、2P伺服器　奪246項SPEC...  \n",
       "25  港鐵紅磡站列車出軌斷兩截釀8傷　機電署：...  \n",
       "26  二宮和也爆同居主播女友　伊藤綾子被拍拎台...  \n",
       "27  遊韓小心！南韓爆A肝群聚破萬例　疾管署：...  \n",
       "28        郭董不選粉絲哀嚎　盼郭家軍進軍立院  \n",
       "29  【郭董不選25】郝龍斌：選不選都是郭台銘...  "
      ]
     },
     "execution_count": 96,
     "metadata": {},
     "output_type": "execute_result"
    }
   ],
   "source": [
    "df"
   ]
  },
  {
   "cell_type": "markdown",
   "metadata": {},
   "source": [
    "## Apple Javascript\n",
    "- https://gist.github.com/ywchiu/c2363caa0ae9261babeaea49e4a710fa"
   ]
  },
  {
   "cell_type": "markdown",
   "metadata": {},
   "source": [
    "### 抓取內文"
   ]
  },
  {
   "cell_type": "code",
   "execution_count": 98,
   "metadata": {},
   "outputs": [],
   "source": [
    "import requests\n",
    "res = requests.get('https://tw.news.appledaily.com/life/realtime/20190917/1634332/')\n",
    "#res.text"
   ]
  },
  {
   "cell_type": "code",
   "execution_count": 99,
   "metadata": {},
   "outputs": [],
   "source": [
    "from bs4 import BeautifulSoup\n",
    "soup = BeautifulSoup(res.text, 'lxml')"
   ]
  },
  {
   "cell_type": "code",
   "execution_count": 102,
   "metadata": {},
   "outputs": [
    {
     "data": {
      "text/plain": [
       "'（新增：柯文哲受訪內容）鴻海集團創辦人郭台銘昨深夜發聲明，決定不連署參選2020總統，為政壇投下震撼彈，據了解，郭台銘在尋覓副手未果情況下，最後仍希望台北市長柯文哲能與其搭檔，但兩人在昨天懇談後，柯仍婉拒任副手，因此郭台銘決定不選總統。知情人士透露，柯文哲今天也不會去領表登記選總統，畢竟準備的時間也不夠，因此就是全力拚台灣民眾黨的國會席次。第三勢力的下一步為何？柯文哲今早親自對外說明也不會領表參選。據了解，由於柯文哲心腹、市府顧問蔡壁如早上都會和郭陣營開會，因此昨早經蔡壁如回報，柯已接獲郭營希望會面的訊息，柯在市府參加完衛生局失智月記者會後，上午11時左右離開市長辦公室，與郭台銘會面，2人懇談約1小時，但柯仍婉拒出任郭董副手，郭在經過整天思索之後做出棄選決定，晚間也電話通知柯陣營決定不參選2020總統選舉，並在深夜11時正式發出退選聲明。郭台銘確定不選2020總統，外界關注柯文哲是否今天會去登記參選，今早柯受訪時被問及此事，僅反問媒體「要不要找一個副總統來跟我搭檔，這太突然了」。是否覺得計畫被打亂，柯稱自己本來就打算扮演輔選角色，現在太突然了，自己跟媒體一樣shock(驚嚇)，早一個月前講他還可以準備，現在講還要去找副手。柯笑稱今早出門前還問妻子陳佩琪，登記參選要多少錢，陳說要100萬，柯還問陳說妳有錢嗎？媒體問柯，是否覺得被郭台銘突襲，柯稱自己是急重症外科出身，每天都要處理不可確定的急診，所以不會覺得被突襲。「如果要當副手，我自己來選就好，因為當副總統，選上還是要離開台北市長的職務」，柯也稱選舉還是要花很多時間和錢，自己在當台北市長，實際政務操作，就知道還是很難，「郭柯配」沒有比「郭柯合」增加多少票。知情人士指出，郭台銘宣布參選最恰當的時機點，就是中秋節前後，當時宣布有「中秋起義」的話題性，但後續遲未有動作，其實相信包括柯在內，多少都有感可能傾向不選，因此昨天柯文哲聯訪的時候，才會透露連署的困難度，更稱真的要連署早就開始了，其實已有預感郭不選。今天是總統連署登記截止日，柯文哲在準備不及的情況下，也不會去領表，未來就是衝刺民眾黨的政黨票，以及區域立委選舉。據了解，昨天柯文哲應有和郭台銘談，郭邀柯擔任副手，但柯認為台北市長應做滿任期，才能對民眾交代，因此婉拒，在副手尋覓未果的情況下，郭也決定不連署參選。其實先前傳出郭台銘與柯文哲結盟，看似是相當新鮮的第三勢力組合，但擺在當前的問題除了要先衝破28萬份連署之外，柯粉的選票能否轉移給郭台銘，仍是一大問題，畢竟按照原先的規劃，若只派心腹蔡壁如到郭營幫忙，雖能展現結盟的誠意，但仍無法有效將柯粉選票轉移。柯文哲過去接受《蘋果新聞網》專訪時，坦言柯粉的2成支持度很難轉移，當時柯受訪時被問及是否願意「郭柯配」時，柯還曾說會再思考一下，但隔天受訪時隨即稱不會擔任副手，最終仍決定婉拒出任副手，也成為郭台銘決定不選的其中一項原因。柯營幕僚分析，就算郭台銘不選，由於今天是連署登記的截止日，時間太趕，柯文哲應該不會去登記，而是會開始衝刺民眾黨的支持度，其實柯文哲本來的想法就是沒有要選，希望把台北市長任期做滿，只是藍綠都把他當作假想敵，在初選民調將他放入，後來郭台銘有意參選，柯認為除了草包(韓國瑜)、菜包(蔡英文)之外，如果公事包(郭台銘)出來選，台灣有重開機的機會，所以就決定支持郭。柯之前也曾說，若自己支持郭，就會很認真的幫忙，如今在郭台銘決定不選，柯文哲應該也不會選的情況下，「三咖督」局面也正式宣告破局，2020選戰終將回到藍綠對決的情況。（張博亭／台北報導）發稿：07:58更新：15:53'"
      ]
     },
     "execution_count": 102,
     "metadata": {},
     "output_type": "execute_result"
    }
   ],
   "source": [
    "soup.select_one('.ndArticle_margin p').text"
   ]
  },
  {
   "cell_type": "code",
   "execution_count": 104,
   "metadata": {},
   "outputs": [
    {
     "data": {
      "text/plain": [
       "'【關鍵還原】郭柯昨午密會1小時\\u300010小時煎熬後決定退選'"
      ]
     },
     "execution_count": 104,
     "metadata": {},
     "output_type": "execute_result"
    }
   ],
   "source": [
    "soup.select_one('h1').text"
   ]
  },
  {
   "cell_type": "code",
   "execution_count": 105,
   "metadata": {},
   "outputs": [
    {
     "name": "stdout",
     "output_type": "stream",
     "text": [
      "【關鍵還原】郭柯昨午密會1小時　10小時煎熬後決定退選\n"
     ]
    }
   ],
   "source": [
    "print(soup.select_one('h1').text)"
   ]
  },
  {
   "cell_type": "code",
   "execution_count": 107,
   "metadata": {},
   "outputs": [
    {
     "data": {
      "text/plain": [
       "'出版時間：2019/09/17 16:19'"
      ]
     },
     "execution_count": 107,
     "metadata": {},
     "output_type": "execute_result"
    }
   ],
   "source": [
    "soup.select_one('.ndArticle_creat').text"
   ]
  },
  {
   "cell_type": "code",
   "execution_count": 108,
   "metadata": {},
   "outputs": [
    {
     "data": {
      "text/plain": [
       "datetime.datetime(2019, 9, 17, 17, 7, 45, 277697)"
      ]
     },
     "execution_count": 108,
     "metadata": {},
     "output_type": "execute_result"
    }
   ],
   "source": [
    "from datetime import datetime\n",
    "datetime.now()"
   ]
  },
  {
   "cell_type": "code",
   "execution_count": 109,
   "metadata": {},
   "outputs": [
    {
     "data": {
      "text/plain": [
       "'2019-09-17'"
      ]
     },
     "execution_count": 109,
     "metadata": {},
     "output_type": "execute_result"
    }
   ],
   "source": [
    "currenttime = datetime.now()\n",
    "currenttime.strftime('%Y-%m-%d')"
   ]
  },
  {
   "cell_type": "markdown",
   "metadata": {},
   "source": [
    "### Datetime 文件\n",
    "- https://docs.python.org/3/library/datetime.html#strftime-and-strptime-behavior"
   ]
  },
  {
   "cell_type": "code",
   "execution_count": 110,
   "metadata": {},
   "outputs": [
    {
     "data": {
      "text/plain": [
       "'2019/09/17'"
      ]
     },
     "execution_count": 110,
     "metadata": {},
     "output_type": "execute_result"
    }
   ],
   "source": [
    "currenttime = datetime.now()\n",
    "currenttime.strftime('%Y/%m/%d')"
   ]
  },
  {
   "cell_type": "code",
   "execution_count": 111,
   "metadata": {},
   "outputs": [
    {
     "name": "stdout",
     "output_type": "stream",
     "text": [
      "2019-09-03 14:00:00\n"
     ]
    }
   ],
   "source": [
    "a = '2019-09-03 14:00' \n",
    "print(datetime.strptime(a, \"%Y-%m-%d %H:%M\"))\n"
   ]
  },
  {
   "cell_type": "code",
   "execution_count": 112,
   "metadata": {},
   "outputs": [],
   "source": [
    "dt = datetime.strptime(a, \"%Y-%m-%d %H:%M\")"
   ]
  },
  {
   "cell_type": "code",
   "execution_count": 113,
   "metadata": {},
   "outputs": [
    {
     "data": {
      "text/plain": [
       "datetime.timedelta(14, 11383, 393161)"
      ]
     },
     "execution_count": 113,
     "metadata": {},
     "output_type": "execute_result"
    }
   ],
   "source": [
    "currenttime - dt"
   ]
  },
  {
   "cell_type": "code",
   "execution_count": 117,
   "metadata": {},
   "outputs": [
    {
     "data": {
      "text/plain": [
       "datetime.datetime(2019, 9, 17, 16, 19)"
      ]
     },
     "execution_count": 117,
     "metadata": {},
     "output_type": "execute_result"
    }
   ],
   "source": [
    "dt = soup.select_one('.ndArticle_creat').text\n",
    "datetime.strptime(dt.split('：')[1], '%Y/%m/%d %H:%M')"
   ]
  },
  {
   "cell_type": "code",
   "execution_count": 120,
   "metadata": {},
   "outputs": [
    {
     "data": {
      "text/plain": [
       "'生活'"
      ]
     },
     "execution_count": 120,
     "metadata": {},
     "output_type": "execute_result"
    }
   ],
   "source": [
    "soup.select_one('.ndgTag .current').text"
   ]
  },
  {
   "cell_type": "code",
   "execution_count": 121,
   "metadata": {},
   "outputs": [],
   "source": [
    "def pageDetail(detailurl):\n",
    "    res = requests.get(detailurl)\n",
    "    soup = BeautifulSoup(res.text, 'lxml')\n",
    "    # 抓取標題\n",
    "    title = soup.select('h1')[0].text\n",
    "    # 抓取摘要\n",
    "    summary = soup.select('.ndArticle_margin p')[0].text\n",
    "    # 抓取時間\n",
    "    dt = soup.select('.ndArticle_creat')[0].text.split('：')[1]\n",
    "    dt = datetime.strptime(dt, '%Y/%m/%d %H:%M') \n",
    "    # 抓取類別\n",
    "    category = soup.select('.ndgTag .current')[0].text\n",
    "    # 以字典回傳資料\n",
    "    return {'title':title, 'summary': summary, 'dt': dt ,'category':category, 'url': detailurl}\n"
   ]
  },
  {
   "cell_type": "code",
   "execution_count": 122,
   "metadata": {},
   "outputs": [
    {
     "data": {
      "text/plain": [
       "{'title': '【關鍵還原】郭柯昨午密會1小時\\u300010小時煎熬後決定退選',\n",
       " 'summary': '（新增：柯文哲受訪內容）鴻海集團創辦人郭台銘昨深夜發聲明，決定不連署參選2020總統，為政壇投下震撼彈，據了解，郭台銘在尋覓副手未果情況下，最後仍希望台北市長柯文哲能與其搭檔，但兩人在昨天懇談後，柯仍婉拒任副手，因此郭台銘決定不選總統。知情人士透露，柯文哲今天也不會去領表登記選總統，畢竟準備的時間也不夠，因此就是全力拚台灣民眾黨的國會席次。第三勢力的下一步為何？柯文哲今早親自對外說明也不會領表參選。據了解，由於柯文哲心腹、市府顧問蔡壁如早上都會和郭陣營開會，因此昨早經蔡壁如回報，柯已接獲郭營希望會面的訊息，柯在市府參加完衛生局失智月記者會後，上午11時左右離開市長辦公室，與郭台銘會面，2人懇談約1小時，但柯仍婉拒出任郭董副手，郭在經過整天思索之後做出棄選決定，晚間也電話通知柯陣營決定不參選2020總統選舉，並在深夜11時正式發出退選聲明。郭台銘確定不選2020總統，外界關注柯文哲是否今天會去登記參選，今早柯受訪時被問及此事，僅反問媒體「要不要找一個副總統來跟我搭檔，這太突然了」。是否覺得計畫被打亂，柯稱自己本來就打算扮演輔選角色，現在太突然了，自己跟媒體一樣shock(驚嚇)，早一個月前講他還可以準備，現在講還要去找副手。柯笑稱今早出門前還問妻子陳佩琪，登記參選要多少錢，陳說要100萬，柯還問陳說妳有錢嗎？媒體問柯，是否覺得被郭台銘突襲，柯稱自己是急重症外科出身，每天都要處理不可確定的急診，所以不會覺得被突襲。「如果要當副手，我自己來選就好，因為當副總統，選上還是要離開台北市長的職務」，柯也稱選舉還是要花很多時間和錢，自己在當台北市長，實際政務操作，就知道還是很難，「郭柯配」沒有比「郭柯合」增加多少票。知情人士指出，郭台銘宣布參選最恰當的時機點，就是中秋節前後，當時宣布有「中秋起義」的話題性，但後續遲未有動作，其實相信包括柯在內，多少都有感可能傾向不選，因此昨天柯文哲聯訪的時候，才會透露連署的困難度，更稱真的要連署早就開始了，其實已有預感郭不選。今天是總統連署登記截止日，柯文哲在準備不及的情況下，也不會去領表，未來就是衝刺民眾黨的政黨票，以及區域立委選舉。據了解，昨天柯文哲應有和郭台銘談，郭邀柯擔任副手，但柯認為台北市長應做滿任期，才能對民眾交代，因此婉拒，在副手尋覓未果的情況下，郭也決定不連署參選。其實先前傳出郭台銘與柯文哲結盟，看似是相當新鮮的第三勢力組合，但擺在當前的問題除了要先衝破28萬份連署之外，柯粉的選票能否轉移給郭台銘，仍是一大問題，畢竟按照原先的規劃，若只派心腹蔡壁如到郭營幫忙，雖能展現結盟的誠意，但仍無法有效將柯粉選票轉移。柯文哲過去接受《蘋果新聞網》專訪時，坦言柯粉的2成支持度很難轉移，當時柯受訪時被問及是否願意「郭柯配」時，柯還曾說會再思考一下，但隔天受訪時隨即稱不會擔任副手，最終仍決定婉拒出任副手，也成為郭台銘決定不選的其中一項原因。柯營幕僚分析，就算郭台銘不選，由於今天是連署登記的截止日，時間太趕，柯文哲應該不會去登記，而是會開始衝刺民眾黨的支持度，其實柯文哲本來的想法就是沒有要選，希望把台北市長任期做滿，只是藍綠都把他當作假想敵，在初選民調將他放入，後來郭台銘有意參選，柯認為除了草包(韓國瑜)、菜包(蔡英文)之外，如果公事包(郭台銘)出來選，台灣有重開機的機會，所以就決定支持郭。柯之前也曾說，若自己支持郭，就會很認真的幫忙，如今在郭台銘決定不選，柯文哲應該也不會選的情況下，「三咖督」局面也正式宣告破局，2020選戰終將回到藍綠對決的情況。（張博亭／台北報導）發稿：07:58更新：15:53',\n",
       " 'dt': datetime.datetime(2019, 9, 17, 16, 19),\n",
       " 'category': '生活',\n",
       " 'url': 'https://tw.news.appledaily.com/life/realtime/20190917/1634332/'}"
      ]
     },
     "execution_count": 122,
     "metadata": {},
     "output_type": "execute_result"
    }
   ],
   "source": [
    "pageDetail('https://tw.news.appledaily.com/life/realtime/20190917/1634332/')"
   ]
  },
  {
   "cell_type": "code",
   "execution_count": 123,
   "metadata": {},
   "outputs": [],
   "source": [
    "import requests\n",
    "from bs4 import BeautifulSoup\n",
    "res = requests.get('https://tw.appledaily.com/new/realtime')\n",
    "soup = BeautifulSoup(res.text, 'lxml')"
   ]
  },
  {
   "cell_type": "code",
   "execution_count": 126,
   "metadata": {},
   "outputs": [],
   "source": [
    "newsary = []\n",
    "for news in soup.select('.rtddt a'):\n",
    "    newsary.append(pageDetail(news.get('href')))"
   ]
  },
  {
   "cell_type": "code",
   "execution_count": 128,
   "metadata": {},
   "outputs": [],
   "source": [
    "#newsary"
   ]
  },
  {
   "cell_type": "code",
   "execution_count": null,
   "metadata": {},
   "outputs": [],
   "source": [
    "https://tw.appledaily.com/new/realtime/46"
   ]
  },
  {
   "cell_type": "code",
   "execution_count": 129,
   "metadata": {},
   "outputs": [],
   "source": [
    "#建立空 List\n",
    "newsary = []\n",
    "for page in range(1,3):\n",
    "    newsurl = 'https://tw.appledaily.com/new/realtime/{}'\n",
    "    #使用format 更新頁數\n",
    "    res = requests.get(newsurl.format(page))\n",
    "    #將資料讀取至BeautifulSoup\n",
    "    soup = BeautifulSoup(res.text,'lxml')\n",
    "    #分別抓取各標籤元素\n",
    "    for news in soup.select('.rtddt a'):  \n",
    "        res = pageDetail(news['href'])\n",
    "        newsary.append(res)\n"
   ]
  },
  {
   "cell_type": "code",
   "execution_count": 130,
   "metadata": {},
   "outputs": [
    {
     "data": {
      "text/plain": [
       "60"
      ]
     },
     "execution_count": 130,
     "metadata": {},
     "output_type": "execute_result"
    }
   ],
   "source": [
    "len(newsary)"
   ]
  },
  {
   "cell_type": "code",
   "execution_count": 131,
   "metadata": {},
   "outputs": [
    {
     "data": {
      "text/plain": [
       "{'title': '墾丁鳥巢會館面臨法拍\\u3000恆春大型飯店歇業再一樁',\n",
       " 'summary': '恆春半島大型飯店法拍案再添1樁，位於車城鄉由早年荷蘭邨休閒渡假飯改名的墾丁鳥巢溫泉會館，將於10月3日執行第一次法拍，底價1億2688萬元，此會館是2年前由知名的「褲子大王」高雄鳥巢飯店董事長楊政城繼高雄2家鳥巢飯店後，在墾丁開設的第3家鳥巢；墾丁鳥巢目前歇業中。\\xa0依屏東地院法拍公告資訊指出，法拍原因是拍賣抵押物遭債權人聲請強制執行，該拍賣店帶有租約，承租人為黃姓自然人，租期為2015年8月1日至2035年7月31日。不過，法院強調租賃關係已排除，現況為無人占有使用；部分標的可點交。\\xa0知情人士指出，鳥巢飯店前身的荷蘭邨，兩年前也是因債務問題被聲請法拍強制執行，當時法拍過程也多次流標。依房地產法拍程序潛規責，第1拍拍出機率微乎其微。鳥巢鄰居表示，該飯店有轉手換老闆過，主要接些大陸客等團客，但一般遊客也零星接，但生意仍是「灰灰阿啦」（不是很好之意），約於半年多前就未營業了。（陳宏銘／屏東報導）',\n",
       " 'dt': datetime.datetime(2019, 9, 17, 17, 18),\n",
       " 'category': '生活',\n",
       " 'url': 'https://tw.news.appledaily.com/life/realtime/20190917/1634548/'}"
      ]
     },
     "execution_count": 131,
     "metadata": {},
     "output_type": "execute_result"
    }
   ],
   "source": [
    "newsary[0]"
   ]
  },
  {
   "cell_type": "code",
   "execution_count": 132,
   "metadata": {},
   "outputs": [
    {
     "data": {
      "text/html": [
       "<div>\n",
       "<style scoped>\n",
       "    .dataframe tbody tr th:only-of-type {\n",
       "        vertical-align: middle;\n",
       "    }\n",
       "\n",
       "    .dataframe tbody tr th {\n",
       "        vertical-align: top;\n",
       "    }\n",
       "\n",
       "    .dataframe thead th {\n",
       "        text-align: right;\n",
       "    }\n",
       "</style>\n",
       "<table border=\"1\" class=\"dataframe\">\n",
       "  <thead>\n",
       "    <tr style=\"text-align: right;\">\n",
       "      <th></th>\n",
       "      <th>category</th>\n",
       "      <th>dt</th>\n",
       "      <th>summary</th>\n",
       "      <th>title</th>\n",
       "      <th>url</th>\n",
       "    </tr>\n",
       "  </thead>\n",
       "  <tbody>\n",
       "    <tr>\n",
       "      <th>0</th>\n",
       "      <td>生活</td>\n",
       "      <td>2019-09-17 17:18:00</td>\n",
       "      <td>恆春半島大型飯店法拍案再添1樁，位於車城鄉由早年荷蘭邨休閒渡假飯改名的墾丁鳥巢溫泉會館，將於...</td>\n",
       "      <td>墾丁鳥巢會館面臨法拍　恆春大型飯店歇業再一樁</td>\n",
       "      <td>https://tw.news.appledaily.com/life/realtime/2...</td>\n",
       "    </tr>\n",
       "    <tr>\n",
       "      <th>1</th>\n",
       "      <td>政治</td>\n",
       "      <td>2019-09-17 17:16:00</td>\n",
       "      <td>鴻海創辦人郭台銘16日深夜宣布放棄2020年總統大選，震撼全國！除了保留政治誠信，不願看到母...</td>\n",
       "      <td>【郭董不選1】重新整軍！　永齡轉型「準智庫」以待來日（動畫）</td>\n",
       "      <td>https://tw.news.appledaily.com/politics/realti...</td>\n",
       "    </tr>\n",
       "    <tr>\n",
       "      <th>2</th>\n",
       "      <td>體育</td>\n",
       "      <td>2019-09-17 17:14:00</td>\n",
       "      <td>世界第33、台灣女網1姊謝淑薇，今在泛太平洋女網公開賽單打首輪對上前世界球后、本周世界第26...</td>\n",
       "      <td>謝淑薇逃掉1賽末點　神奇逆轉連二度打敗前球后晉16強</td>\n",
       "      <td>https://tw.sports.appledaily.com/realtime/2019...</td>\n",
       "    </tr>\n",
       "    <tr>\n",
       "      <th>3</th>\n",
       "      <td>國際</td>\n",
       "      <td>2019-09-17 17:13:00</td>\n",
       "      <td>「吃素救地球」的概念或許不一定都是對的。美國學者今天（17日）公布的一項最新研究指出，偶爾大...</td>\n",
       "      <td>【氣候危機】研究：吃素未必最氣候友善　偶爾吃葷影響差不多</td>\n",
       "      <td>https://tw.news.appledaily.com/international/r...</td>\n",
       "    </tr>\n",
       "    <tr>\n",
       "      <th>4</th>\n",
       "      <td>生活</td>\n",
       "      <td>2019-09-17 17:11:00</td>\n",
       "      <td>寵物寄宿竟慘遭業者毆打，台中市寵物商業同業公會理事長江和樹今天接獲飼主反映，將愛犬送到合法的...</td>\n",
       "      <td>比熊犬住寵物旅館想家夜哭　飼主視訊活逮業者壓狗毆打</td>\n",
       "      <td>https://tw.news.appledaily.com/life/realtime/2...</td>\n",
       "    </tr>\n",
       "  </tbody>\n",
       "</table>\n",
       "</div>"
      ],
      "text/plain": [
       "  category                  dt  \\\n",
       "0       生活 2019-09-17 17:18:00   \n",
       "1       政治 2019-09-17 17:16:00   \n",
       "2       體育 2019-09-17 17:14:00   \n",
       "3       國際 2019-09-17 17:13:00   \n",
       "4       生活 2019-09-17 17:11:00   \n",
       "\n",
       "                                             summary  \\\n",
       "0  恆春半島大型飯店法拍案再添1樁，位於車城鄉由早年荷蘭邨休閒渡假飯改名的墾丁鳥巢溫泉會館，將於...   \n",
       "1  鴻海創辦人郭台銘16日深夜宣布放棄2020年總統大選，震撼全國！除了保留政治誠信，不願看到母...   \n",
       "2  世界第33、台灣女網1姊謝淑薇，今在泛太平洋女網公開賽單打首輪對上前世界球后、本周世界第26...   \n",
       "3  「吃素救地球」的概念或許不一定都是對的。美國學者今天（17日）公布的一項最新研究指出，偶爾大...   \n",
       "4  寵物寄宿竟慘遭業者毆打，台中市寵物商業同業公會理事長江和樹今天接獲飼主反映，將愛犬送到合法的...   \n",
       "\n",
       "                            title  \\\n",
       "0          墾丁鳥巢會館面臨法拍　恆春大型飯店歇業再一樁   \n",
       "1  【郭董不選1】重新整軍！　永齡轉型「準智庫」以待來日（動畫）   \n",
       "2      謝淑薇逃掉1賽末點　神奇逆轉連二度打敗前球后晉16強   \n",
       "3    【氣候危機】研究：吃素未必最氣候友善　偶爾吃葷影響差不多   \n",
       "4       比熊犬住寵物旅館想家夜哭　飼主視訊活逮業者壓狗毆打   \n",
       "\n",
       "                                                 url  \n",
       "0  https://tw.news.appledaily.com/life/realtime/2...  \n",
       "1  https://tw.news.appledaily.com/politics/realti...  \n",
       "2  https://tw.sports.appledaily.com/realtime/2019...  \n",
       "3  https://tw.news.appledaily.com/international/r...  \n",
       "4  https://tw.news.appledaily.com/life/realtime/2...  "
      ]
     },
     "execution_count": 132,
     "metadata": {},
     "output_type": "execute_result"
    }
   ],
   "source": [
    "import pandas\n",
    "newsdf = pandas.DataFrame(newsary)\n",
    "newsdf.head()"
   ]
  },
  {
   "cell_type": "code",
   "execution_count": 133,
   "metadata": {},
   "outputs": [],
   "source": [
    "newsdf.to_excel('appledaily.xlsx')"
   ]
  },
  {
   "cell_type": "markdown",
   "metadata": {},
   "source": [
    "## 回家作業\n",
    "- 請撰寫一個網路爬蟲能將自由時報的即時新聞  (https://news.ltn.com.tw/list/breakingnews) 的 標題, 連結, 時間等資訊爬取下來。\n"
   ]
  },
  {
   "cell_type": "code",
   "execution_count": null,
   "metadata": {},
   "outputs": [],
   "source": []
  }
 ],
 "metadata": {
  "kernelspec": {
   "display_name": "Python 3",
   "language": "python",
   "name": "python3"
  },
  "language_info": {
   "codemirror_mode": {
    "name": "ipython",
    "version": 3
   },
   "file_extension": ".py",
   "mimetype": "text/x-python",
   "name": "python",
   "nbconvert_exporter": "python",
   "pygments_lexer": "ipython3",
   "version": "3.6.2"
  }
 },
 "nbformat": 4,
 "nbformat_minor": 2
}
