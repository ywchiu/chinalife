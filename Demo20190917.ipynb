{
 "cells": [
  {
   "cell_type": "markdown",
   "metadata": {},
   "source": [
    "## 回家作業\n",
    "\n",
    "- 1 請使用 pip 將 jieba 安裝在自己的電腦上\n",
    "- 2 閱讀jieba 相關的文件，了解jieba 的用法\n",
    "- 3 請將蔡英文演說文 tsai.txt 下載存入到自己電腦\n",
    "- 4 請使用python 的檔案操作方法讀取演說文\n",
    "- 5 請使用 jieba 將演說文切詞\n",
    "- 6 請統計該演說文最常出現的十大字詞"
   ]
  },
  {
   "cell_type": "code",
   "execution_count": 1,
   "metadata": {},
   "outputs": [
    {
     "name": "stdout",
     "output_type": "stream",
     "text": [
      "Requirement already satisfied: jieba in /Users/davidchiu/.pyenv/versions/3.6.2/lib/python3.6/site-packages\n",
      "\u001b[33mYou are using pip version 9.0.1, however version 19.2.3 is available.\n",
      "You should consider upgrading via the 'pip install --upgrade pip' command.\u001b[0m\n"
     ]
    }
   ],
   "source": [
    "! pip install --trusted-host pypi.org --trusted-host files.pythonhosted.org --trusted-host pypi.python.org jieba"
   ]
  },
  {
   "cell_type": "code",
   "execution_count": 2,
   "metadata": {},
   "outputs": [
    {
     "name": "stderr",
     "output_type": "stream",
     "text": [
      "Building prefix dict from the default dictionary ...\n",
      "Dumping model to file cache /var/folders/46/b7dzk4mn6g54qzptv608w7d00000gn/T/jieba.cache\n",
      "Loading model cost 0.821 seconds.\n",
      "Prefix dict has been built succesfully.\n"
     ]
    },
    {
     "name": "stdout",
     "output_type": "stream",
     "text": [
      "我/ 来到/ 北京/ 清/ 华/ 大/ 学\n"
     ]
    }
   ],
   "source": [
    "import jieba\n",
    "\n",
    "seg_list = jieba.cut(\"我来到北京清华大学\")\n",
    "print(\"/ \".join(seg_list))  "
   ]
  },
  {
   "cell_type": "code",
   "execution_count": 3,
   "metadata": {},
   "outputs": [
    {
     "name": "stdout",
     "output_type": "stream",
     "text": [
      "郭台銘/ 宣布/ 不選/ 總統/ 了\n"
     ]
    }
   ],
   "source": [
    "import jieba\n",
    "\n",
    "seg_list = jieba.cut(\"郭台銘宣布不選總統了\")\n",
    "print(\"/ \".join(seg_list))  "
   ]
  },
  {
   "cell_type": "code",
   "execution_count": 4,
   "metadata": {},
   "outputs": [],
   "source": [
    "with open('/Users/davidchiu/Desktop/tsai.txt', 'r') as f:\n",
    "    speech = f.read()"
   ]
  },
  {
   "cell_type": "code",
   "execution_count": 7,
   "metadata": {},
   "outputs": [],
   "source": [
    "words = list(jieba.cut(speech))"
   ]
  },
  {
   "cell_type": "code",
   "execution_count": 8,
   "metadata": {},
   "outputs": [],
   "source": [
    "dic = {}\n",
    "for w in words:\n",
    "    if w not in dic:\n",
    "        dic[w] = 1\n",
    "    else:\n",
    "        dic[w] = dic[w] + 1"
   ]
  },
  {
   "cell_type": "code",
   "execution_count": 12,
   "metadata": {},
   "outputs": [],
   "source": [
    "swd = sorted(dic.items(), key = lambda e: e[1], reverse=True)"
   ]
  },
  {
   "cell_type": "code",
   "execution_count": 15,
   "metadata": {},
   "outputs": [
    {
     "name": "stdout",
     "output_type": "stream",
     "text": [
      "我們 59\n",
      "臺灣 46\n",
      "國家 27\n",
      "經濟 19\n",
      "國際 14\n",
      "社會 14\n",
      "民主 14\n",
      "發展 14\n"
     ]
    }
   ],
   "source": [
    "for k, v in swd[0:30]:\n",
    "    if len(k)>=2:\n",
    "        print(k,v)"
   ]
  },
  {
   "cell_type": "markdown",
   "metadata": {},
   "source": [
    "## 結構化資料讀取"
   ]
  },
  {
   "cell_type": "code",
   "execution_count": 16,
   "metadata": {},
   "outputs": [],
   "source": [
    "import pandas\n",
    "df = pandas.read_excel('https://raw.githubusercontent.com/ywchiu/chinalife/master/data/house591.xlsx')"
   ]
  },
  {
   "cell_type": "code",
   "execution_count": 20,
   "metadata": {},
   "outputs": [
    {
     "data": {
      "text/html": [
       "<div>\n",
       "<style scoped>\n",
       "    .dataframe tbody tr th:only-of-type {\n",
       "        vertical-align: middle;\n",
       "    }\n",
       "\n",
       "    .dataframe tbody tr th {\n",
       "        vertical-align: top;\n",
       "    }\n",
       "\n",
       "    .dataframe thead th {\n",
       "        text-align: right;\n",
       "    }\n",
       "</style>\n",
       "<table border=\"1\" class=\"dataframe\">\n",
       "  <thead>\n",
       "    <tr style=\"text-align: right;\">\n",
       "      <th></th>\n",
       "      <th>Unnamed: 0</th>\n",
       "      <th>address</th>\n",
       "      <th>area</th>\n",
       "      <th>browsenum</th>\n",
       "      <th>build_purpose</th>\n",
       "      <th>call_num</th>\n",
       "      <th>cartmodel</th>\n",
       "      <th>carttype</th>\n",
       "      <th>community_link</th>\n",
       "      <th>community_name</th>\n",
       "      <th>...</th>\n",
       "      <th>show_unitprice_unit</th>\n",
       "      <th>showarea</th>\n",
       "      <th>showhouseage</th>\n",
       "      <th>showprice</th>\n",
       "      <th>street_name</th>\n",
       "      <th>tag</th>\n",
       "      <th>title</th>\n",
       "      <th>type</th>\n",
       "      <th>unit_price</th>\n",
       "      <th>unitprice</th>\n",
       "    </tr>\n",
       "  </thead>\n",
       "  <tbody>\n",
       "    <tr>\n",
       "      <th>0</th>\n",
       "      <td>0</td>\n",
       "      <td>NaN</td>\n",
       "      <td>75.00</td>\n",
       "      <td>0</td>\n",
       "      <td>住宅大樓</td>\n",
       "      <td>83.0</td>\n",
       "      <td>NaN</td>\n",
       "      <td>NaN</td>\n",
       "      <td>NaN</td>\n",
       "      <td>NaN</td>\n",
       "      <td>...</td>\n",
       "      <td>萬元/坪</td>\n",
       "      <td>75~85坪</td>\n",
       "      <td>NaN</td>\n",
       "      <td>NaN</td>\n",
       "      <td>松信路50巷5號</td>\n",
       "      <td>['新成屋', '住家用', '捷運宅']</td>\n",
       "      <td>信義之冠</td>\n",
       "      <td>8</td>\n",
       "      <td>NaN</td>\n",
       "      <td>120.00</td>\n",
       "    </tr>\n",
       "    <tr>\n",
       "      <th>1</th>\n",
       "      <td>1</td>\n",
       "      <td>基隆路一段</td>\n",
       "      <td>46.42</td>\n",
       "      <td>721</td>\n",
       "      <td>NaN</td>\n",
       "      <td>NaN</td>\n",
       "      <td>NaN</td>\n",
       "      <td>NaN</td>\n",
       "      <td>/newCommunity-index.html?cid=39858</td>\n",
       "      <td>新寶信義大樓</td>\n",
       "      <td>...</td>\n",
       "      <td>NaN</td>\n",
       "      <td>NaN</td>\n",
       "      <td>12年</td>\n",
       "      <td>4,380</td>\n",
       "      <td>NaN</td>\n",
       "      <td>[]</td>\n",
       "      <td>獨家/近市府站/鋼骨結構/景觀戶</td>\n",
       "      <td>2</td>\n",
       "      <td>94.36萬/坪</td>\n",
       "      <td>94.36</td>\n",
       "    </tr>\n",
       "    <tr>\n",
       "      <th>2</th>\n",
       "      <td>2</td>\n",
       "      <td>忠孝東路五段</td>\n",
       "      <td>41.17</td>\n",
       "      <td>180</td>\n",
       "      <td>NaN</td>\n",
       "      <td>NaN</td>\n",
       "      <td>NaN</td>\n",
       "      <td>NaN</td>\n",
       "      <td>/newCommunity-index.html?cid=6305</td>\n",
       "      <td>春秋大廈</td>\n",
       "      <td>...</td>\n",
       "      <td>NaN</td>\n",
       "      <td>NaN</td>\n",
       "      <td>35年</td>\n",
       "      <td>3,988</td>\n",
       "      <td>NaN</td>\n",
       "      <td>['有陽台', '低公設']</td>\n",
       "      <td>🍎市府春秋捷運四房🍎住商關文乾</td>\n",
       "      <td>2</td>\n",
       "      <td>96.87萬/坪</td>\n",
       "      <td>96.87</td>\n",
       "    </tr>\n",
       "    <tr>\n",
       "      <th>3</th>\n",
       "      <td>3</td>\n",
       "      <td>和平東路三段435巷</td>\n",
       "      <td>15.76</td>\n",
       "      <td>1663</td>\n",
       "      <td>NaN</td>\n",
       "      <td>NaN</td>\n",
       "      <td>NaN</td>\n",
       "      <td>NaN</td>\n",
       "      <td>NaN</td>\n",
       "      <td>NaN</td>\n",
       "      <td>...</td>\n",
       "      <td>NaN</td>\n",
       "      <td>NaN</td>\n",
       "      <td>44年</td>\n",
       "      <td>1,180</td>\n",
       "      <td>NaN</td>\n",
       "      <td>['有陽台']</td>\n",
       "      <td>麟光捷運公寓兩房，靜巷邊間，通風採光佳！</td>\n",
       "      <td>2</td>\n",
       "      <td>74.87萬/坪</td>\n",
       "      <td>74.87</td>\n",
       "    </tr>\n",
       "    <tr>\n",
       "      <th>4</th>\n",
       "      <td>4</td>\n",
       "      <td>永吉路468巷</td>\n",
       "      <td>18.00</td>\n",
       "      <td>4535</td>\n",
       "      <td>NaN</td>\n",
       "      <td>NaN</td>\n",
       "      <td>NaN</td>\n",
       "      <td>NaN</td>\n",
       "      <td>NaN</td>\n",
       "      <td>NaN</td>\n",
       "      <td>...</td>\n",
       "      <td>NaN</td>\n",
       "      <td>NaN</td>\n",
       "      <td>60年</td>\n",
       "      <td>1,680</td>\n",
       "      <td>NaN</td>\n",
       "      <td>['有陽台']</td>\n",
       "      <td>東區捷運站超高投報率透天厝</td>\n",
       "      <td>2</td>\n",
       "      <td>93.33萬/坪</td>\n",
       "      <td>93.33</td>\n",
       "    </tr>\n",
       "  </tbody>\n",
       "</table>\n",
       "<p>5 rows × 60 columns</p>\n",
       "</div>"
      ],
      "text/plain": [
       "   Unnamed: 0     address   area  browsenum build_purpose  call_num  \\\n",
       "0           0         NaN  75.00          0          住宅大樓      83.0   \n",
       "1           1       基隆路一段  46.42        721           NaN       NaN   \n",
       "2           2      忠孝東路五段  41.17        180           NaN       NaN   \n",
       "3           3  和平東路三段435巷  15.76       1663           NaN       NaN   \n",
       "4           4     永吉路468巷  18.00       4535           NaN       NaN   \n",
       "\n",
       "   cartmodel  carttype                      community_link community_name  \\\n",
       "0        NaN       NaN                                 NaN            NaN   \n",
       "1        NaN       NaN  /newCommunity-index.html?cid=39858         新寶信義大樓   \n",
       "2        NaN       NaN   /newCommunity-index.html?cid=6305           春秋大廈   \n",
       "3        NaN       NaN                                 NaN            NaN   \n",
       "4        NaN       NaN                                 NaN            NaN   \n",
       "\n",
       "   ... show_unitprice_unit  showarea  showhouseage  showprice street_name  \\\n",
       "0  ...                萬元/坪    75~85坪           NaN        NaN    松信路50巷5號   \n",
       "1  ...                 NaN       NaN           12年      4,380         NaN   \n",
       "2  ...                 NaN       NaN           35年      3,988         NaN   \n",
       "3  ...                 NaN       NaN           44年      1,180         NaN   \n",
       "4  ...                 NaN       NaN           60年      1,680         NaN   \n",
       "\n",
       "                     tag                 title  type  unit_price  unitprice  \n",
       "0  ['新成屋', '住家用', '捷運宅']                  信義之冠     8         NaN     120.00  \n",
       "1                     []      獨家/近市府站/鋼骨結構/景觀戶     2    94.36萬/坪      94.36  \n",
       "2         ['有陽台', '低公設']       🍎市府春秋捷運四房🍎住商關文乾     2    96.87萬/坪      96.87  \n",
       "3                ['有陽台']  麟光捷運公寓兩房，靜巷邊間，通風採光佳！     2    74.87萬/坪      74.87  \n",
       "4                ['有陽台']         東區捷運站超高投報率透天厝     2    93.33萬/坪      93.33  \n",
       "\n",
       "[5 rows x 60 columns]"
      ]
     },
     "execution_count": 20,
     "metadata": {},
     "output_type": "execute_result"
    }
   ],
   "source": [
    "df.head()"
   ]
  },
  {
   "cell_type": "code",
   "execution_count": 18,
   "metadata": {},
   "outputs": [],
   "source": [
    "df.to_csv('house591.csv')"
   ]
  },
  {
   "cell_type": "code",
   "execution_count": 19,
   "metadata": {},
   "outputs": [],
   "source": [
    "df.to_csv('house591.tsv', sep = '\\t')"
   ]
  },
  {
   "cell_type": "code",
   "execution_count": null,
   "metadata": {},
   "outputs": [],
   "source": []
  }
 ],
 "metadata": {
  "kernelspec": {
   "display_name": "Python 3",
   "language": "python",
   "name": "python3"
  },
  "language_info": {
   "codemirror_mode": {
    "name": "ipython",
    "version": 3
   },
   "file_extension": ".py",
   "mimetype": "text/x-python",
   "name": "python",
   "nbconvert_exporter": "python",
   "pygments_lexer": "ipython3",
   "version": "3.6.2"
  }
 },
 "nbformat": 4,
 "nbformat_minor": 2
}
