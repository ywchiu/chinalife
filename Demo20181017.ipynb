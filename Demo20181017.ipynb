{
 "cells": [
  {
   "cell_type": "markdown",
   "metadata": {},
   "source": [
    "## 房屋資料抓取"
   ]
  },
  {
   "cell_type": "code",
   "execution_count": 4,
   "metadata": {},
   "outputs": [],
   "source": [
    "import requests\n",
    "headers = {\n",
    " 'User-Agent': 'Mozilla/5.0 (Macintosh; Intel Mac OS X 10_13_6) AppleWebKit/537.36 (KHTML, like Gecko) Chrome/69.0.3497.100 Safari/537.36'   \n",
    "}\n",
    "res = requests.get('https://sale.591.com.tw/home/search/list?type=2&&shType=list&section=7&regionid=1&kind=9&firstRow=30&totalRows=2404&timestamp=1539754751297', headers = headers)"
   ]
  },
  {
   "cell_type": "code",
   "execution_count": 5,
   "metadata": {},
   "outputs": [
    {
     "data": {
      "text/plain": [
       "<Response [200]>"
      ]
     },
     "execution_count": 5,
     "metadata": {},
     "output_type": "execute_result"
    }
   ],
   "source": [
    "res"
   ]
  },
  {
   "cell_type": "code",
   "execution_count": 11,
   "metadata": {},
   "outputs": [
    {
     "data": {
      "text/html": [
       "<div>\n",
       "<style>\n",
       "    .dataframe thead tr:only-child th {\n",
       "        text-align: right;\n",
       "    }\n",
       "\n",
       "    .dataframe thead th {\n",
       "        text-align: left;\n",
       "    }\n",
       "\n",
       "    .dataframe tbody tr th {\n",
       "        vertical-align: top;\n",
       "    }\n",
       "</style>\n",
       "<table border=\"1\" class=\"dataframe\">\n",
       "  <thead>\n",
       "    <tr style=\"text-align: right;\">\n",
       "      <th></th>\n",
       "      <th>address</th>\n",
       "      <th>area</th>\n",
       "      <th>browsenum</th>\n",
       "      <th>cartmodel</th>\n",
       "      <th>carttype</th>\n",
       "      <th>community_link</th>\n",
       "      <th>community_name</th>\n",
       "      <th>delivery</th>\n",
       "      <th>down_price_percent</th>\n",
       "      <th>fci_pai</th>\n",
       "      <th>...</th>\n",
       "      <th>saletype</th>\n",
       "      <th>section_name</th>\n",
       "      <th>shape_name</th>\n",
       "      <th>showhouseage</th>\n",
       "      <th>showprice</th>\n",
       "      <th>tag</th>\n",
       "      <th>title</th>\n",
       "      <th>type</th>\n",
       "      <th>unit_price</th>\n",
       "      <th>unitprice</th>\n",
       "    </tr>\n",
       "  </thead>\n",
       "  <tbody>\n",
       "    <tr>\n",
       "      <th>0</th>\n",
       "      <td>忠孝東路五段31巷</td>\n",
       "      <td>15.16</td>\n",
       "      <td>382</td>\n",
       "      <td></td>\n",
       "      <td></td>\n",
       "      <td>/newCommunity-index.html?cid=50519</td>\n",
       "      <td>無爭</td>\n",
       "      <td></td>\n",
       "      <td>NaN</td>\n",
       "      <td></td>\n",
       "      <td>...</td>\n",
       "      <td>0</td>\n",
       "      <td>信義區</td>\n",
       "      <td>電梯大樓</td>\n",
       "      <td>10年</td>\n",
       "      <td>1,790</td>\n",
       "      <td>[]</td>\n",
       "      <td>市府極美無爭精品</td>\n",
       "      <td>2</td>\n",
       "      <td>118.07萬/坪</td>\n",
       "      <td>118.07</td>\n",
       "    </tr>\n",
       "    <tr>\n",
       "      <th>1</th>\n",
       "      <td>忠孝東路五段743巷</td>\n",
       "      <td>32.56</td>\n",
       "      <td>606</td>\n",
       "      <td></td>\n",
       "      <td></td>\n",
       "      <td>/newCommunity-index.html?cid=93550</td>\n",
       "      <td>達麗信義</td>\n",
       "      <td></td>\n",
       "      <td>NaN</td>\n",
       "      <td></td>\n",
       "      <td>...</td>\n",
       "      <td>0</td>\n",
       "      <td>信義區</td>\n",
       "      <td>電梯大樓</td>\n",
       "      <td>3年</td>\n",
       "      <td>2,600</td>\n",
       "      <td>[含車位, 有陽台]</td>\n",
       "      <td>指名承辦人小鍾：本棟最低總價！精緻裝潢！</td>\n",
       "      <td>2</td>\n",
       "      <td>114.77萬/坪</td>\n",
       "      <td>114.77</td>\n",
       "    </tr>\n",
       "    <tr>\n",
       "      <th>2</th>\n",
       "      <td>松山路</td>\n",
       "      <td>20.68</td>\n",
       "      <td>720</td>\n",
       "      <td></td>\n",
       "      <td></td>\n",
       "      <td>/newCommunity-index.html?cid=6751</td>\n",
       "      <td>永春大樓</td>\n",
       "      <td></td>\n",
       "      <td>NaN</td>\n",
       "      <td></td>\n",
       "      <td>...</td>\n",
       "      <td>0</td>\n",
       "      <td>信義區</td>\n",
       "      <td>電梯大樓</td>\n",
       "      <td>34年</td>\n",
       "      <td>1,220</td>\n",
       "      <td>[有陽台]</td>\n",
       "      <td>專售永春大樓-住商住匠團隊</td>\n",
       "      <td>2</td>\n",
       "      <td>58.99萬/坪</td>\n",
       "      <td>58.99</td>\n",
       "    </tr>\n",
       "  </tbody>\n",
       "</table>\n",
       "<p>3 rows × 44 columns</p>\n",
       "</div>"
      ],
      "text/plain": [
       "      address   area  browsenum cartmodel carttype  \\\n",
       "0   忠孝東路五段31巷  15.16        382                      \n",
       "1  忠孝東路五段743巷  32.56        606                      \n",
       "2         松山路  20.68        720                      \n",
       "\n",
       "                       community_link community_name delivery  \\\n",
       "0  /newCommunity-index.html?cid=50519             無爭            \n",
       "1  /newCommunity-index.html?cid=93550           達麗信義            \n",
       "2   /newCommunity-index.html?cid=6751           永春大樓            \n",
       "\n",
       "   down_price_percent fci_pai    ...     saletype  section_name  shape_name  \\\n",
       "0                 NaN            ...            0           信義區        電梯大樓   \n",
       "1                 NaN            ...            0           信義區        電梯大樓   \n",
       "2                 NaN            ...            0           信義區        電梯大樓   \n",
       "\n",
       "   showhouseage showprice         tag                 title  type unit_price  \\\n",
       "0           10年     1,790          []              市府極美無爭精品     2  118.07萬/坪   \n",
       "1            3年     2,600  [含車位, 有陽台]  指名承辦人小鍾：本棟最低總價！精緻裝潢！     2  114.77萬/坪   \n",
       "2           34年     1,220       [有陽台]         專售永春大樓-住商住匠團隊     2   58.99萬/坪   \n",
       "\n",
       "   unitprice  \n",
       "0     118.07  \n",
       "1     114.77  \n",
       "2      58.99  \n",
       "\n",
       "[3 rows x 44 columns]"
      ]
     },
     "execution_count": 11,
     "metadata": {},
     "output_type": "execute_result"
    }
   ],
   "source": [
    "import pandas\n",
    "pandas.DataFrame(res.json()['data']['house_list']).head(3)"
   ]
  },
  {
   "cell_type": "code",
   "execution_count": 14,
   "metadata": {},
   "outputs": [
    {
     "name": "stdout",
     "output_type": "stream",
     "text": [
      "0\n",
      "1\n",
      "2\n",
      "3\n",
      "4\n",
      "5\n",
      "6\n",
      "7\n",
      "8\n",
      "9\n",
      "10\n",
      "11\n",
      "12\n",
      "13\n",
      "14\n",
      "15\n",
      "16\n",
      "17\n",
      "18\n",
      "19\n",
      "20\n",
      "21\n",
      "22\n",
      "23\n",
      "24\n",
      "25\n",
      "26\n",
      "27\n",
      "28\n",
      "29\n",
      "30\n",
      "31\n",
      "32\n",
      "33\n",
      "34\n",
      "35\n",
      "36\n",
      "37\n",
      "38\n",
      "39\n",
      "40\n",
      "41\n",
      "42\n",
      "43\n",
      "44\n",
      "45\n",
      "46\n",
      "47\n",
      "48\n",
      "49\n",
      "50\n",
      "51\n",
      "52\n",
      "53\n",
      "54\n",
      "55\n",
      "56\n",
      "57\n",
      "58\n",
      "59\n",
      "60\n",
      "61\n",
      "62\n",
      "63\n",
      "64\n",
      "65\n",
      "66\n",
      "67\n",
      "68\n",
      "69\n",
      "70\n",
      "71\n",
      "72\n",
      "73\n",
      "74\n",
      "75\n",
      "76\n",
      "77\n",
      "78\n",
      "79\n",
      "80\n"
     ]
    }
   ],
   "source": [
    "import time\n",
    "houseurl = 'https://sale.591.com.tw/home/search/list?type=2&&shType=list&section=7&regionid=1&kind=9&firstRow={}&totalRows=2404&timestamp=1539754751297'\n",
    "\n",
    "houseary = []\n",
    "for i in range(0,int(2404 / 30)+ 1 ):\n",
    "    res = requests.get(houseurl.format(i*30), headers = headers)\n",
    "    df = pandas.DataFrame(res.json()['data']['house_list'])\n",
    "    houseary.append(df)\n",
    "    time.sleep(1)\n",
    "    print(i)"
   ]
  },
  {
   "cell_type": "code",
   "execution_count": 15,
   "metadata": {},
   "outputs": [],
   "source": [
    "housedf = pandas.concat(houseary)"
   ]
  },
  {
   "cell_type": "code",
   "execution_count": 17,
   "metadata": {},
   "outputs": [
    {
     "data": {
      "text/plain": [
       "address                 2403\n",
       "area                    2405\n",
       "browsenum               2405\n",
       "build_purpose              2\n",
       "call_num                   2\n",
       "cartmodel               2403\n",
       "carttype                2403\n",
       "community_link          2403\n",
       "community_name          2403\n",
       "company                    2\n",
       "delivery                2403\n",
       "down_price_percent        35\n",
       "fci_pai                 2403\n",
       "floor                   2403\n",
       "has_carport             2403\n",
       "houseage                2405\n",
       "houseid                 2405\n",
       "is_carport              2403\n",
       "is_combine              2403\n",
       "is_down_price           2403\n",
       "is_full                    2\n",
       "is_hurry_price          2403\n",
       "is_newhouse                2\n",
       "is_oversea              2403\n",
       "is_pro_advertisement       2\n",
       "is_video                2403\n",
       "isnew                   2403\n",
       "isvip                   2403\n",
       "kind                    2403\n",
       "kind_name               2403\n",
       "label                      2\n",
       "mainarea                2403\n",
       "nick_name               2403\n",
       "original_price            35\n",
       "phonenum                   2\n",
       "photoNum                2403\n",
       "photo_url               2405\n",
       "posttime                2405\n",
       "price                   2405\n",
       "ratio                      2\n",
       "refreshtime             2405\n",
       "region_name             2405\n",
       "room                    2405\n",
       "saletype                2403\n",
       "section_name            2405\n",
       "shape_name              2403\n",
       "show_price                 2\n",
       "show_price_unit            2\n",
       "show_unitprice             2\n",
       "show_unitprice_unit        2\n",
       "showarea                   2\n",
       "showhouseage            2403\n",
       "showprice               2403\n",
       "street_name                2\n",
       "tag                     2405\n",
       "title                   2405\n",
       "type                    2405\n",
       "unit_price              2403\n",
       "unitprice               2405\n",
       "dtype: int64"
      ]
     },
     "execution_count": 17,
     "metadata": {},
     "output_type": "execute_result"
    }
   ],
   "source": [
    "housedf.count()"
   ]
  },
  {
   "cell_type": "code",
   "execution_count": 18,
   "metadata": {},
   "outputs": [],
   "source": [
    "housedf.to_excel('house591.xlsx')"
   ]
  },
  {
   "cell_type": "markdown",
   "metadata": {},
   "source": [
    "## 房屋資料清理"
   ]
  },
  {
   "cell_type": "code",
   "execution_count": 47,
   "metadata": {},
   "outputs": [],
   "source": [
    "import pandas\n",
    "housedf  = pandas.read_excel('https://raw.githubusercontent.com/ywchiu/chinalife/master/data/house591.xlsx')"
   ]
  },
  {
   "cell_type": "code",
   "execution_count": 48,
   "metadata": {},
   "outputs": [
    {
     "data": {
      "text/plain": [
       "address                                                            忠孝東路五段\n",
       "area                                                                41.17\n",
       "browsenum                                                             180\n",
       "build_purpose                                                         NaN\n",
       "call_num                                                              NaN\n",
       "cartmodel                                                             NaN\n",
       "carttype                                                              NaN\n",
       "community_link                          /newCommunity-index.html?cid=6305\n",
       "community_name                                                       春秋大廈\n",
       "company                                                               NaN\n",
       "delivery                                                              NaN\n",
       "down_price_percent                                                    NaN\n",
       "fci_pai                                                               NaN\n",
       "floor                                                              8F/14F\n",
       "has_carport                                                             0\n",
       "houseage                                                               35\n",
       "houseid                                                           5548178\n",
       "is_carport                                                              0\n",
       "is_combine                                                              1\n",
       "is_down_price                                                           0\n",
       "is_full                                                               NaN\n",
       "is_hurry_price                                                          0\n",
       "is_newhouse                                                           NaN\n",
       "is_oversea                                                              0\n",
       "is_pro_advertisement                                                  NaN\n",
       "is_video                                                                0\n",
       "isnew                                                                   0\n",
       "isvip                                                                   0\n",
       "kind                                                                    9\n",
       "kind_name                                                              住宅\n",
       "label                                                                 NaN\n",
       "mainarea                                                            32.59\n",
       "nick_name                                                           仲介關先生\n",
       "original_price                                                        NaN\n",
       "phonenum                                                              NaN\n",
       "photoNum                                                               13\n",
       "photo_url               https://hp2.591.com.tw/house/active/2018/10/08...\n",
       "posttime                                                       1538996803\n",
       "price                                                                3988\n",
       "ratio                                                                 NaN\n",
       "refreshtime                                                         44分鐘內\n",
       "region_name                                                           台北市\n",
       "room                                                               4房2廳2衛\n",
       "saletype                                                                0\n",
       "section_name                                                          信義區\n",
       "shape_name                                                           電梯大樓\n",
       "show_price                                                            NaN\n",
       "show_price_unit                                                       NaN\n",
       "show_unitprice                                                        NaN\n",
       "show_unitprice_unit                                                   NaN\n",
       "showarea                                                              NaN\n",
       "showhouseage                                                          35年\n",
       "showprice                                                           3,988\n",
       "street_name                                                           NaN\n",
       "tag                                                        ['有陽台', '低公設']\n",
       "title                                                     🍎市府春秋捷運四房🍎住商關文乾\n",
       "type                                                                    2\n",
       "unit_price                                                       96.87萬/坪\n",
       "unitprice                                                           96.87\n",
       "Name: 2, dtype: object"
      ]
     },
     "execution_count": 48,
     "metadata": {},
     "output_type": "execute_result"
    }
   ],
   "source": [
    "housedf.iloc[2]"
   ]
  },
  {
   "cell_type": "code",
   "execution_count": 49,
   "metadata": {},
   "outputs": [],
   "source": [
    "housedf = housedf[['area', 'room','floor','price','houseage']]"
   ]
  },
  {
   "cell_type": "code",
   "execution_count": 50,
   "metadata": {},
   "outputs": [
    {
     "name": "stderr",
     "output_type": "stream",
     "text": [
      "/Users/davidchiu/.pyenv/versions/3.6.2/lib/python3.6/site-packages/ipykernel_launcher.py:1: FutureWarning: currently extract(expand=None) means expand=False (return Index/Series/DataFrame) but in a future version of pandas this will be changed to expand=True (return DataFrame)\n",
      "  \"\"\"Entry point for launching an IPython kernel.\n"
     ]
    }
   ],
   "source": [
    "housedf[['bedroom', 'livingroom', 'bathroom']] = housedf['room'].str.extract('(\\d+)房(\\d+)廳(\\d+)衛')"
   ]
  },
  {
   "cell_type": "code",
   "execution_count": 51,
   "metadata": {},
   "outputs": [
    {
     "name": "stderr",
     "output_type": "stream",
     "text": [
      "/Users/davidchiu/.pyenv/versions/3.6.2/lib/python3.6/site-packages/ipykernel_launcher.py:1: FutureWarning: currently extract(expand=None) means expand=False (return Index/Series/DataFrame) but in a future version of pandas this will be changed to expand=True (return DataFrame)\n",
      "  \"\"\"Entry point for launching an IPython kernel.\n"
     ]
    }
   ],
   "source": [
    "housedf[['current_floor', 'total_floor']] = housedf['floor'].str.extract('(\\d+)F/(\\d+)F')"
   ]
  },
  {
   "cell_type": "code",
   "execution_count": 52,
   "metadata": {},
   "outputs": [],
   "source": [
    "del housedf['room']\n",
    "del housedf['floor']"
   ]
  },
  {
   "cell_type": "code",
   "execution_count": 53,
   "metadata": {},
   "outputs": [],
   "source": [
    "housedf.dropna(inplace=True)"
   ]
  },
  {
   "cell_type": "code",
   "execution_count": 54,
   "metadata": {},
   "outputs": [
    {
     "data": {
      "text/html": [
       "<div>\n",
       "<style>\n",
       "    .dataframe thead tr:only-child th {\n",
       "        text-align: right;\n",
       "    }\n",
       "\n",
       "    .dataframe thead th {\n",
       "        text-align: left;\n",
       "    }\n",
       "\n",
       "    .dataframe tbody tr th {\n",
       "        vertical-align: top;\n",
       "    }\n",
       "</style>\n",
       "<table border=\"1\" class=\"dataframe\">\n",
       "  <thead>\n",
       "    <tr style=\"text-align: right;\">\n",
       "      <th></th>\n",
       "      <th>area</th>\n",
       "      <th>price</th>\n",
       "      <th>houseage</th>\n",
       "      <th>bedroom</th>\n",
       "      <th>livingroom</th>\n",
       "      <th>bathroom</th>\n",
       "      <th>current_floor</th>\n",
       "      <th>total_floor</th>\n",
       "    </tr>\n",
       "  </thead>\n",
       "  <tbody>\n",
       "    <tr>\n",
       "      <th>2</th>\n",
       "      <td>41.17</td>\n",
       "      <td>3988</td>\n",
       "      <td>35</td>\n",
       "      <td>4</td>\n",
       "      <td>2</td>\n",
       "      <td>2</td>\n",
       "      <td>8</td>\n",
       "      <td>14</td>\n",
       "    </tr>\n",
       "    <tr>\n",
       "      <th>3</th>\n",
       "      <td>15.76</td>\n",
       "      <td>1180</td>\n",
       "      <td>44</td>\n",
       "      <td>2</td>\n",
       "      <td>1</td>\n",
       "      <td>1</td>\n",
       "      <td>3</td>\n",
       "      <td>4</td>\n",
       "    </tr>\n",
       "    <tr>\n",
       "      <th>6</th>\n",
       "      <td>106.74</td>\n",
       "      <td>11500</td>\n",
       "      <td>4</td>\n",
       "      <td>4</td>\n",
       "      <td>2</td>\n",
       "      <td>3</td>\n",
       "      <td>7</td>\n",
       "      <td>12</td>\n",
       "    </tr>\n",
       "    <tr>\n",
       "      <th>7</th>\n",
       "      <td>15.39</td>\n",
       "      <td>1520</td>\n",
       "      <td>19</td>\n",
       "      <td>1</td>\n",
       "      <td>1</td>\n",
       "      <td>1</td>\n",
       "      <td>4</td>\n",
       "      <td>14</td>\n",
       "    </tr>\n",
       "    <tr>\n",
       "      <th>8</th>\n",
       "      <td>53.39</td>\n",
       "      <td>3850</td>\n",
       "      <td>29</td>\n",
       "      <td>2</td>\n",
       "      <td>2</td>\n",
       "      <td>2</td>\n",
       "      <td>8</td>\n",
       "      <td>15</td>\n",
       "    </tr>\n",
       "  </tbody>\n",
       "</table>\n",
       "</div>"
      ],
      "text/plain": [
       "     area  price  houseage bedroom livingroom bathroom current_floor  \\\n",
       "2   41.17   3988        35       4          2        2             8   \n",
       "3   15.76   1180        44       2          1        1             3   \n",
       "6  106.74  11500         4       4          2        3             7   \n",
       "7   15.39   1520        19       1          1        1             4   \n",
       "8   53.39   3850        29       2          2        2             8   \n",
       "\n",
       "  total_floor  \n",
       "2          14  \n",
       "3           4  \n",
       "6          12  \n",
       "7          14  \n",
       "8          15  "
      ]
     },
     "execution_count": 54,
     "metadata": {},
     "output_type": "execute_result"
    }
   ],
   "source": [
    "housedf.head()"
   ]
  },
  {
   "cell_type": "code",
   "execution_count": 55,
   "metadata": {},
   "outputs": [
    {
     "data": {
      "text/plain": [
       "Index(['area', 'price', 'houseage', 'bedroom', 'livingroom', 'bathroom',\n",
       "       'current_floor', 'total_floor'],\n",
       "      dtype='object')"
      ]
     },
     "execution_count": 55,
     "metadata": {},
     "output_type": "execute_result"
    }
   ],
   "source": [
    "housedf.columns"
   ]
  },
  {
   "cell_type": "code",
   "execution_count": 59,
   "metadata": {},
   "outputs": [],
   "source": [
    "Y = housedf['price'].values\n",
    "X = housedf[['area', 'bedroom', 'livingroom', 'bathroom', 'current_floor',\n",
    "       'total_floor', 'houseage']]"
   ]
  },
  {
   "cell_type": "code",
   "execution_count": 60,
   "metadata": {},
   "outputs": [
    {
     "name": "stderr",
     "output_type": "stream",
     "text": [
      "/Users/davidchiu/.pyenv/versions/3.6.2/lib/python3.6/site-packages/ipykernel_launcher.py:1: SettingWithCopyWarning: \n",
      "A value is trying to be set on a copy of a slice from a DataFrame.\n",
      "Try using .loc[row_indexer,col_indexer] = value instead\n",
      "\n",
      "See the caveats in the documentation: http://pandas.pydata.org/pandas-docs/stable/indexing.html#indexing-view-versus-copy\n",
      "  \"\"\"Entry point for launching an IPython kernel.\n",
      "/Users/davidchiu/.pyenv/versions/3.6.2/lib/python3.6/site-packages/ipykernel_launcher.py:2: SettingWithCopyWarning: \n",
      "A value is trying to be set on a copy of a slice from a DataFrame.\n",
      "Try using .loc[row_indexer,col_indexer] = value instead\n",
      "\n",
      "See the caveats in the documentation: http://pandas.pydata.org/pandas-docs/stable/indexing.html#indexing-view-versus-copy\n",
      "  \n",
      "/Users/davidchiu/.pyenv/versions/3.6.2/lib/python3.6/site-packages/ipykernel_launcher.py:3: SettingWithCopyWarning: \n",
      "A value is trying to be set on a copy of a slice from a DataFrame.\n",
      "Try using .loc[row_indexer,col_indexer] = value instead\n",
      "\n",
      "See the caveats in the documentation: http://pandas.pydata.org/pandas-docs/stable/indexing.html#indexing-view-versus-copy\n",
      "  This is separate from the ipykernel package so we can avoid doing imports until\n",
      "/Users/davidchiu/.pyenv/versions/3.6.2/lib/python3.6/site-packages/ipykernel_launcher.py:4: SettingWithCopyWarning: \n",
      "A value is trying to be set on a copy of a slice from a DataFrame.\n",
      "Try using .loc[row_indexer,col_indexer] = value instead\n",
      "\n",
      "See the caveats in the documentation: http://pandas.pydata.org/pandas-docs/stable/indexing.html#indexing-view-versus-copy\n",
      "  after removing the cwd from sys.path.\n",
      "/Users/davidchiu/.pyenv/versions/3.6.2/lib/python3.6/site-packages/ipykernel_launcher.py:5: SettingWithCopyWarning: \n",
      "A value is trying to be set on a copy of a slice from a DataFrame.\n",
      "Try using .loc[row_indexer,col_indexer] = value instead\n",
      "\n",
      "See the caveats in the documentation: http://pandas.pydata.org/pandas-docs/stable/indexing.html#indexing-view-versus-copy\n",
      "  \"\"\"\n"
     ]
    }
   ],
   "source": [
    "X['total_floor'] = X['total_floor'].astype(float)\n",
    "X['bedroom'] = X['bedroom'].astype(float)\n",
    "X['livingroom'] = X['livingroom'].astype(float)\n",
    "X['bathroom'] = X['bathroom'].astype(float)\n",
    "X['current_floor'] = X['current_floor'].astype(float)"
   ]
  },
  {
   "cell_type": "markdown",
   "metadata": {},
   "source": [
    "## 資料分析"
   ]
  },
  {
   "cell_type": "code",
   "execution_count": 61,
   "metadata": {},
   "outputs": [
    {
     "name": "stdout",
     "output_type": "stream",
     "text": [
      "                            OLS Regression Results                            \n",
      "==============================================================================\n",
      "Dep. Variable:                      y   R-squared:                       0.890\n",
      "Model:                            OLS   Adj. R-squared:                  0.889\n",
      "Method:                 Least Squares   F-statistic:                     2502.\n",
      "Date:                Wed, 17 Oct 2018   Prob (F-statistic):               0.00\n",
      "Time:                        14:18:00   Log-Likelihood:                -18696.\n",
      "No. Observations:                2177   AIC:                         3.741e+04\n",
      "Df Residuals:                    2169   BIC:                         3.745e+04\n",
      "Df Model:                           7                                         \n",
      "Covariance Type:            nonrobust                                         \n",
      "=================================================================================\n",
      "                    coef    std err          t      P>|t|      [0.025      0.975]\n",
      "---------------------------------------------------------------------------------\n",
      "const         -1096.2896    137.992     -7.945      0.000   -1366.899    -825.680\n",
      "area            124.0044      1.285     96.527      0.000     121.485     126.524\n",
      "bedroom        -230.7138     39.953     -5.775      0.000    -309.064    -152.363\n",
      "livingroom      -73.5444     59.994     -1.226      0.220    -191.197      44.108\n",
      "bathroom        154.8131     50.483      3.067      0.002      55.812     253.814\n",
      "current_floor    19.9364      9.046      2.204      0.028       2.198      37.675\n",
      "total_floor      29.6870      8.479      3.501      0.000      13.059      46.315\n",
      "houseage         -3.2995      2.633     -1.253      0.210      -8.463       1.864\n",
      "==============================================================================\n",
      "Omnibus:                     1218.215   Durbin-Watson:                   1.973\n",
      "Prob(Omnibus):                  0.000   Jarque-Bera (JB):            60969.519\n",
      "Skew:                           1.913   Prob(JB):                         0.00\n",
      "Kurtosis:                      28.642   Cond. No.                         273.\n",
      "==============================================================================\n",
      "\n",
      "Warnings:\n",
      "[1] Standard Errors assume that the covariance matrix of the errors is correctly specified.\n"
     ]
    }
   ],
   "source": [
    "import statsmodels.api as sm\n",
    "X2  = sm.add_constant(X)\n",
    "est = sm.OLS(Y, X2)\n",
    "est2 = est.fit()\n",
    "print(est2.summary())"
   ]
  },
  {
   "cell_type": "code",
   "execution_count": 62,
   "metadata": {},
   "outputs": [],
   "source": [
    "predictorcols = X.columns"
   ]
  },
  {
   "cell_type": "code",
   "execution_count": 64,
   "metadata": {},
   "outputs": [],
   "source": [
    "import itertools\n",
    "AICs = {}\n",
    "for k in range(1,len(predictorcols)+1):\n",
    "    for variables in itertools.combinations(predictorcols, k):\n",
    "        predictors = X[list(variables)]\n",
    "        predictors2 = sm.add_constant(predictors)\n",
    "        est = sm.OLS(Y, predictors2)\n",
    "        res = est.fit()\n",
    "        AICs[variables] = res.aic"
   ]
  },
  {
   "cell_type": "code",
   "execution_count": 70,
   "metadata": {},
   "outputs": [
    {
     "data": {
      "text/plain": [
       "[(('area', 'bedroom', 'bathroom', 'current_floor', 'total_floor', 'houseage'),\n",
       "  37407.03375336106),\n",
       " (('area',\n",
       "   'bedroom',\n",
       "   'livingroom',\n",
       "   'bathroom',\n",
       "   'current_floor',\n",
       "   'total_floor'),\n",
       "  37407.10172648925),\n",
       " (('area', 'bedroom', 'bathroom', 'current_floor', 'total_floor'),\n",
       "  37407.16576925829)]"
      ]
     },
     "execution_count": 70,
     "metadata": {},
     "output_type": "execute_result"
    }
   ],
   "source": [
    "from collections import Counter\n",
    "c = Counter(AICs)\n",
    "c.most_common()[::-1][0:3]"
   ]
  },
  {
   "cell_type": "code",
   "execution_count": 63,
   "metadata": {
    "scrolled": true
   },
   "outputs": [
    {
     "name": "stdout",
     "output_type": "stream",
     "text": [
      "('area', 'bedroom', 'livingroom', 'bathroom')\n",
      "('area', 'bedroom', 'livingroom', 'current_floor')\n",
      "('area', 'bedroom', 'livingroom', 'total_floor')\n",
      "('area', 'bedroom', 'livingroom', 'houseage')\n",
      "('area', 'bedroom', 'bathroom', 'current_floor')\n",
      "('area', 'bedroom', 'bathroom', 'total_floor')\n",
      "('area', 'bedroom', 'bathroom', 'houseage')\n",
      "('area', 'bedroom', 'current_floor', 'total_floor')\n",
      "('area', 'bedroom', 'current_floor', 'houseage')\n",
      "('area', 'bedroom', 'total_floor', 'houseage')\n",
      "('area', 'livingroom', 'bathroom', 'current_floor')\n",
      "('area', 'livingroom', 'bathroom', 'total_floor')\n",
      "('area', 'livingroom', 'bathroom', 'houseage')\n",
      "('area', 'livingroom', 'current_floor', 'total_floor')\n",
      "('area', 'livingroom', 'current_floor', 'houseage')\n",
      "('area', 'livingroom', 'total_floor', 'houseage')\n",
      "('area', 'bathroom', 'current_floor', 'total_floor')\n",
      "('area', 'bathroom', 'current_floor', 'houseage')\n",
      "('area', 'bathroom', 'total_floor', 'houseage')\n",
      "('area', 'current_floor', 'total_floor', 'houseage')\n",
      "('bedroom', 'livingroom', 'bathroom', 'current_floor')\n",
      "('bedroom', 'livingroom', 'bathroom', 'total_floor')\n",
      "('bedroom', 'livingroom', 'bathroom', 'houseage')\n",
      "('bedroom', 'livingroom', 'current_floor', 'total_floor')\n",
      "('bedroom', 'livingroom', 'current_floor', 'houseage')\n",
      "('bedroom', 'livingroom', 'total_floor', 'houseage')\n",
      "('bedroom', 'bathroom', 'current_floor', 'total_floor')\n",
      "('bedroom', 'bathroom', 'current_floor', 'houseage')\n",
      "('bedroom', 'bathroom', 'total_floor', 'houseage')\n",
      "('bedroom', 'current_floor', 'total_floor', 'houseage')\n",
      "('livingroom', 'bathroom', 'current_floor', 'total_floor')\n",
      "('livingroom', 'bathroom', 'current_floor', 'houseage')\n",
      "('livingroom', 'bathroom', 'total_floor', 'houseage')\n",
      "('livingroom', 'current_floor', 'total_floor', 'houseage')\n",
      "('bathroom', 'current_floor', 'total_floor', 'houseage')\n"
     ]
    }
   ],
   "source": [
    "import itertools\n",
    "for variables in itertools.combinations(predictorcols, 4):\n",
    "    print(variables)"
   ]
  },
  {
   "cell_type": "markdown",
   "metadata": {},
   "source": [
    "## 連線資料庫"
   ]
  },
  {
   "cell_type": "code",
   "execution_count": 71,
   "metadata": {},
   "outputs": [],
   "source": [
    "import sqlite3 as lite\n",
    "con = lite.connect('test.sqlite')\n",
    "cur = con.cursor()\n",
    "cur.execute('SELECT SQLITE_VERSION()')\n",
    "data = cur.fetchone()\n",
    "con.close()"
   ]
  },
  {
   "cell_type": "code",
   "execution_count": 72,
   "metadata": {},
   "outputs": [
    {
     "data": {
      "text/plain": [
       "('3.19.3',)"
      ]
     },
     "execution_count": 72,
     "metadata": {},
     "output_type": "execute_result"
    }
   ],
   "source": [
    "data"
   ]
  },
  {
   "cell_type": "code",
   "execution_count": 73,
   "metadata": {},
   "outputs": [],
   "source": [
    "import sqlite3 as lite\n",
    "with lite.connect('test.sqlite') as con:\n",
    "    cur = con.cursor()\n",
    "    cur.execute('SELECT SQLITE_VERSION()')\n",
    "    data = cur.fetchone()\n",
    "#con.close()"
   ]
  },
  {
   "cell_type": "code",
   "execution_count": 74,
   "metadata": {},
   "outputs": [
    {
     "data": {
      "text/plain": [
       "('3.19.3',)"
      ]
     },
     "execution_count": 74,
     "metadata": {},
     "output_type": "execute_result"
    }
   ],
   "source": [
    "data"
   ]
  },
  {
   "cell_type": "code",
   "execution_count": 75,
   "metadata": {},
   "outputs": [],
   "source": [
    "import sqlite3 as lite \n",
    "with lite.connect(\"test.sqlite\") as con: \n",
    "    cur = con.cursor() \n",
    "    cur.execute(\"DROP TABLE IF EXISTS PhoneAddress\") \n",
    "    cur.execute(\"\"\"CREATE TABLE PhoneAddress(\n",
    "                    phone CHAR(10) PRIMARY KEY, \n",
    "                    address TEXT, \n",
    "                    name TEXT unique, \n",
    "                    age INT NOT NULL)\"\"\") \n",
    "    cur.execute(\"INSERT INTO PhoneAddress VALUES('0912173381','United State','Jhon Doe',53)\") \n",
    "    cur.execute(\"INSERT INTO PhoneAddress VALUES('0928375018','Tokyo Japan','MuMu Cat',6)\") \n",
    "    cur.execute(\"INSERT INTO PhoneAddress VALUES('0957209108','Taipei','Richard',29)\") \n"
   ]
  },
  {
   "cell_type": "code",
   "execution_count": 77,
   "metadata": {},
   "outputs": [],
   "source": [
    "import sqlite3 as lite \n",
    "with lite.connect(\"test.sqlite\") as con: \n",
    "    cur = con.cursor() \n",
    "    cur.execute(\"SELECT phone, address from PhoneAddress\")\n",
    "    data = cur.fetchall()"
   ]
  },
  {
   "cell_type": "code",
   "execution_count": 78,
   "metadata": {},
   "outputs": [
    {
     "data": {
      "text/plain": [
       "[('0912173381', 'United State'),\n",
       " ('0928375018', 'Tokyo Japan'),\n",
       " ('0957209108', 'Taipei')]"
      ]
     },
     "execution_count": 78,
     "metadata": {},
     "output_type": "execute_result"
    }
   ],
   "source": [
    "data"
   ]
  },
  {
   "cell_type": "markdown",
   "metadata": {},
   "source": [
    "## Python and SQLServer\n"
   ]
  },
  {
   "cell_type": "raw",
   "metadata": {},
   "source": [
    ">>> import pyodbc\n",
    ">>> cnxn = pyodbc.connect('DRIVER={SQL Server}; SERVER=192.168.1.1,1433; DATABASE=Trid; UID=sa; PWD=sss')\n",
    ">>> cursor = cnxn.cursor()\n",
    ">>> cursor.execute(\"SELECT EmployeeNo, EmployeeName FROM YYY.dbo.Users\")\n",
    "<pyodbc.Cursor object at 0x00000207A8C88378>\n",
    ">>> rows = cursor.fetchall()\n",
    ">>> for row in rows:\n",
    "\tprint(row.EmployeeNo, row.EmployeeName)"
   ]
  },
  {
   "cell_type": "code",
   "execution_count": 79,
   "metadata": {},
   "outputs": [],
   "source": [
    "import sqlite3 as lite \n",
    "with lite.connect(\"test.sqlite\") as con: \n",
    "    cur = con.cursor() \n",
    "    cur.execute(\"SELECT phone, address from PhoneAddress\")\n",
    "    data1 = cur.fetchone()\n",
    "    data2 = cur.fetchall()"
   ]
  },
  {
   "cell_type": "code",
   "execution_count": 80,
   "metadata": {},
   "outputs": [
    {
     "data": {
      "text/plain": [
       "('0912173381', 'United State')"
      ]
     },
     "execution_count": 80,
     "metadata": {},
     "output_type": "execute_result"
    }
   ],
   "source": [
    "data1"
   ]
  },
  {
   "cell_type": "code",
   "execution_count": 81,
   "metadata": {},
   "outputs": [
    {
     "data": {
      "text/plain": [
       "[('0928375018', 'Tokyo Japan'), ('0957209108', 'Taipei')]"
      ]
     },
     "execution_count": 81,
     "metadata": {},
     "output_type": "execute_result"
    }
   ],
   "source": [
    "data2"
   ]
  },
  {
   "cell_type": "code",
   "execution_count": 82,
   "metadata": {},
   "outputs": [
    {
     "data": {
      "text/html": [
       "<div>\n",
       "<style>\n",
       "    .dataframe thead tr:only-child th {\n",
       "        text-align: right;\n",
       "    }\n",
       "\n",
       "    .dataframe thead th {\n",
       "        text-align: left;\n",
       "    }\n",
       "\n",
       "    .dataframe tbody tr th {\n",
       "        vertical-align: top;\n",
       "    }\n",
       "</style>\n",
       "<table border=\"1\" class=\"dataframe\">\n",
       "  <thead>\n",
       "    <tr style=\"text-align: right;\">\n",
       "      <th></th>\n",
       "      <th>age</th>\n",
       "      <th>gender</th>\n",
       "      <th>name</th>\n",
       "    </tr>\n",
       "  </thead>\n",
       "  <tbody>\n",
       "    <tr>\n",
       "      <th>0</th>\n",
       "      <td>23</td>\n",
       "      <td>F</td>\n",
       "      <td>Mary</td>\n",
       "    </tr>\n",
       "    <tr>\n",
       "      <th>1</th>\n",
       "      <td>33</td>\n",
       "      <td>M</td>\n",
       "      <td>John</td>\n",
       "    </tr>\n",
       "  </tbody>\n",
       "</table>\n",
       "</div>"
      ],
      "text/plain": [
       "   age gender  name\n",
       "0   23      F  Mary\n",
       "1   33      M  John"
      ]
     },
     "execution_count": 82,
     "metadata": {},
     "output_type": "execute_result"
    }
   ],
   "source": [
    "import sqlite3 as lite\n",
    "import pandas\n",
    "employee = [{'name':'Mary', 'age':23 , 'gender': 'F'},{'name':'John', 'age':33 , 'gender': 'M'}]\n",
    "df = pandas.DataFrame(employee)\n",
    "df"
   ]
  },
  {
   "cell_type": "code",
   "execution_count": 84,
   "metadata": {},
   "outputs": [
    {
     "name": "stdout",
     "output_type": "stream",
     "text": [
      "<class 'pandas.core.frame.DataFrame'>\n",
      "RangeIndex: 2 entries, 0 to 1\n",
      "Data columns (total 3 columns):\n",
      "age       2 non-null int64\n",
      "gender    2 non-null object\n",
      "name      2 non-null object\n",
      "dtypes: int64(1), object(2)\n",
      "memory usage: 128.0+ bytes\n"
     ]
    }
   ],
   "source": [
    "df.info()"
   ]
  },
  {
   "cell_type": "code",
   "execution_count": 85,
   "metadata": {},
   "outputs": [],
   "source": [
    "with lite.connect('test.sqlite') as db:\n",
    "    df.to_sql(name='employee', index=False, con=db, if_exists='replace')\n"
   ]
  },
  {
   "cell_type": "markdown",
   "metadata": {},
   "source": [
    "## 儲存實例"
   ]
  },
  {
   "cell_type": "code",
   "execution_count": 86,
   "metadata": {},
   "outputs": [],
   "source": [
    "import pandas\n",
    "housedf  = pandas.read_excel('https://raw.githubusercontent.com/ywchiu/chinalife/master/data/house591.xlsx')"
   ]
  },
  {
   "cell_type": "code",
   "execution_count": 88,
   "metadata": {},
   "outputs": [],
   "source": [
    "housedf = housedf[['area', 'room','floor','price','houseage']]"
   ]
  },
  {
   "cell_type": "code",
   "execution_count": 90,
   "metadata": {},
   "outputs": [
    {
     "name": "stdout",
     "output_type": "stream",
     "text": [
      "<class 'pandas.core.frame.DataFrame'>\n",
      "Int64Index: 2405 entries, 0 to 2\n",
      "Data columns (total 5 columns):\n",
      "area        2405 non-null float64\n",
      "room        2405 non-null object\n",
      "floor       2402 non-null object\n",
      "price       2405 non-null int64\n",
      "houseage    2405 non-null int64\n",
      "dtypes: float64(1), int64(2), object(2)\n",
      "memory usage: 112.7+ KB\n"
     ]
    }
   ],
   "source": [
    "housedf.info()"
   ]
  },
  {
   "cell_type": "code",
   "execution_count": 91,
   "metadata": {},
   "outputs": [],
   "source": [
    "with lite.connect('house.sqlite') as con:\n",
    "    housedf.to_sql('house591', con = con)"
   ]
  },
  {
   "cell_type": "code",
   "execution_count": 93,
   "metadata": {},
   "outputs": [],
   "source": [
    "with lite.connect('house.sqlite') as con:\n",
    "    df = pandas.read_sql_query('select * from house591 limit 3', con = con)"
   ]
  },
  {
   "cell_type": "code",
   "execution_count": 94,
   "metadata": {},
   "outputs": [
    {
     "data": {
      "text/html": [
       "<div>\n",
       "<style>\n",
       "    .dataframe thead tr:only-child th {\n",
       "        text-align: right;\n",
       "    }\n",
       "\n",
       "    .dataframe thead th {\n",
       "        text-align: left;\n",
       "    }\n",
       "\n",
       "    .dataframe tbody tr th {\n",
       "        vertical-align: top;\n",
       "    }\n",
       "</style>\n",
       "<table border=\"1\" class=\"dataframe\">\n",
       "  <thead>\n",
       "    <tr style=\"text-align: right;\">\n",
       "      <th></th>\n",
       "      <th>index</th>\n",
       "      <th>area</th>\n",
       "      <th>room</th>\n",
       "      <th>floor</th>\n",
       "      <th>price</th>\n",
       "      <th>houseage</th>\n",
       "    </tr>\n",
       "  </thead>\n",
       "  <tbody>\n",
       "    <tr>\n",
       "      <th>0</th>\n",
       "      <td>0</td>\n",
       "      <td>75.00</td>\n",
       "      <td>3~4房</td>\n",
       "      <td>None</td>\n",
       "      <td>9000</td>\n",
       "      <td>0</td>\n",
       "    </tr>\n",
       "    <tr>\n",
       "      <th>1</th>\n",
       "      <td>1</td>\n",
       "      <td>46.42</td>\n",
       "      <td>開放式格局</td>\n",
       "      <td>9F/13F</td>\n",
       "      <td>4380</td>\n",
       "      <td>12</td>\n",
       "    </tr>\n",
       "    <tr>\n",
       "      <th>2</th>\n",
       "      <td>2</td>\n",
       "      <td>41.17</td>\n",
       "      <td>4房2廳2衛</td>\n",
       "      <td>8F/14F</td>\n",
       "      <td>3988</td>\n",
       "      <td>35</td>\n",
       "    </tr>\n",
       "  </tbody>\n",
       "</table>\n",
       "</div>"
      ],
      "text/plain": [
       "   index   area    room   floor  price  houseage\n",
       "0      0  75.00    3~4房    None   9000         0\n",
       "1      1  46.42   開放式格局  9F/13F   4380        12\n",
       "2      2  41.17  4房2廳2衛  8F/14F   3988        35"
      ]
     },
     "execution_count": 94,
     "metadata": {},
     "output_type": "execute_result"
    }
   ],
   "source": [
    "df"
   ]
  },
  {
   "cell_type": "code",
   "execution_count": 96,
   "metadata": {},
   "outputs": [],
   "source": [
    "with lite.connect('house.sqlite') as con:\n",
    "    df = pandas.read_sql_query('select avg(price) from house591', con = con)"
   ]
  },
  {
   "cell_type": "code",
   "execution_count": 97,
   "metadata": {},
   "outputs": [
    {
     "data": {
      "text/html": [
       "<div>\n",
       "<style>\n",
       "    .dataframe thead tr:only-child th {\n",
       "        text-align: right;\n",
       "    }\n",
       "\n",
       "    .dataframe thead th {\n",
       "        text-align: left;\n",
       "    }\n",
       "\n",
       "    .dataframe tbody tr th {\n",
       "        vertical-align: top;\n",
       "    }\n",
       "</style>\n",
       "<table border=\"1\" class=\"dataframe\">\n",
       "  <thead>\n",
       "    <tr style=\"text-align: right;\">\n",
       "      <th></th>\n",
       "      <th>avg(price)</th>\n",
       "    </tr>\n",
       "  </thead>\n",
       "  <tbody>\n",
       "    <tr>\n",
       "      <th>0</th>\n",
       "      <td>3706.310187</td>\n",
       "    </tr>\n",
       "  </tbody>\n",
       "</table>\n",
       "</div>"
      ],
      "text/plain": [
       "    avg(price)\n",
       "0  3706.310187"
      ]
     },
     "execution_count": 97,
     "metadata": {},
     "output_type": "execute_result"
    }
   ],
   "source": [
    "df"
   ]
  },
  {
   "cell_type": "code",
   "execution_count": 98,
   "metadata": {},
   "outputs": [],
   "source": [
    "with lite.connect('house.sqlite') as con:\n",
    "    df = pandas.read_sql_query('select avg(price/area) from house591', con = con)"
   ]
  },
  {
   "cell_type": "code",
   "execution_count": 99,
   "metadata": {},
   "outputs": [
    {
     "data": {
      "text/html": [
       "<div>\n",
       "<style>\n",
       "    .dataframe thead tr:only-child th {\n",
       "        text-align: right;\n",
       "    }\n",
       "\n",
       "    .dataframe thead th {\n",
       "        text-align: left;\n",
       "    }\n",
       "\n",
       "    .dataframe tbody tr th {\n",
       "        vertical-align: top;\n",
       "    }\n",
       "</style>\n",
       "<table border=\"1\" class=\"dataframe\">\n",
       "  <thead>\n",
       "    <tr style=\"text-align: right;\">\n",
       "      <th></th>\n",
       "      <th>avg(price/area)</th>\n",
       "    </tr>\n",
       "  </thead>\n",
       "  <tbody>\n",
       "    <tr>\n",
       "      <th>0</th>\n",
       "      <td>87.765449</td>\n",
       "    </tr>\n",
       "  </tbody>\n",
       "</table>\n",
       "</div>"
      ],
      "text/plain": [
       "   avg(price/area)\n",
       "0        87.765449"
      ]
     },
     "execution_count": 99,
     "metadata": {},
     "output_type": "execute_result"
    }
   ],
   "source": [
    "df"
   ]
  },
  {
   "cell_type": "markdown",
   "metadata": {},
   "source": [
    "## SQLAlchemy and SQLServer \n",
    "- https://docs.sqlalchemy.org/en/latest/core/engines.html"
   ]
  },
  {
   "cell_type": "markdown",
   "metadata": {},
   "source": [
    "## 三大法人日報\n",
    "- http://www.twse.com.tw/zh/page/trading/fund/T86.html"
   ]
  },
  {
   "cell_type": "code",
   "execution_count": 100,
   "metadata": {},
   "outputs": [],
   "source": [
    "import requests\n",
    "res = requests.get('http://www.twse.com.tw/fund/T86?response=json&date=20181016&selectType=ALL&_=1539761083842')"
   ]
  },
  {
   "cell_type": "code",
   "execution_count": 103,
   "metadata": {},
   "outputs": [],
   "source": [
    "import pandas\n",
    "df = pandas.DataFrame(res.json()['data'])"
   ]
  },
  {
   "cell_type": "code",
   "execution_count": 105,
   "metadata": {},
   "outputs": [],
   "source": [
    "df.columns = res.json()['fields']"
   ]
  },
  {
   "cell_type": "code",
   "execution_count": 107,
   "metadata": {},
   "outputs": [],
   "source": [
    "with lite.connect('test.sqlite') as con:\n",
    "    df.to_sql('bigthree', con = con)"
   ]
  },
  {
   "cell_type": "markdown",
   "metadata": {},
   "source": [
    "## 抓取公開資訊觀測站歷年變更登記"
   ]
  },
  {
   "cell_type": "code",
   "execution_count": 113,
   "metadata": {},
   "outputs": [],
   "source": [
    "import requests\n",
    "from bs4 import BeautifulSoup\n",
    "payload = {\n",
    "'encodeURIComponent': '1',\n",
    "'step': '1',\n",
    "'firstin': '1',\n",
    "'off': '1', \n",
    "'queryName': 'co_id',\n",
    "'inpuType': 'co_id',\n",
    "'TYPEK': 'all',\n",
    "'co_id': '2823'    \n",
    "}\n",
    "res  = requests.post('http://mops.twse.com.tw/mops/web/ajax_t05st05', data = payload)\n",
    "soup = BeautifulSoup(res.text, 'lxml')"
   ]
  },
  {
   "cell_type": "code",
   "execution_count": 118,
   "metadata": {},
   "outputs": [
    {
     "data": {
      "text/plain": [
       "{'TYPEK': 'sii', 'co_id': '2823', 'firstin': 'true', 'off': '1', 'step': '2'}"
      ]
     },
     "execution_count": 118,
     "metadata": {},
     "output_type": "execute_result"
    }
   ],
   "source": [
    "payload2 = {}\n",
    "for item in soup.select_one('form').select('input[type=hidden]'):\n",
    "    if item.get('value'):\n",
    "        payload2[item.get('name')] = item.get('value')\n",
    "payload2"
   ]
  },
  {
   "cell_type": "code",
   "execution_count": 119,
   "metadata": {},
   "outputs": [],
   "source": [
    "payload2['year'] = '1994'\n",
    "payload2['month'] = '10'"
   ]
  },
  {
   "cell_type": "code",
   "execution_count": 120,
   "metadata": {},
   "outputs": [
    {
     "data": {
      "text/plain": [
       "<Response [200]>"
      ]
     },
     "execution_count": 120,
     "metadata": {},
     "output_type": "execute_result"
    }
   ],
   "source": [
    "res = requests.post('http://mops.twse.com.tw/mops/web/ajax_t05st05', data = payload2)\n",
    "res"
   ]
  },
  {
   "cell_type": "code",
   "execution_count": 123,
   "metadata": {},
   "outputs": [
    {
     "data": {
      "text/html": [
       "<div>\n",
       "<style>\n",
       "    .dataframe thead tr:only-child th {\n",
       "        text-align: right;\n",
       "    }\n",
       "\n",
       "    .dataframe thead th {\n",
       "        text-align: left;\n",
       "    }\n",
       "\n",
       "    .dataframe tbody tr th {\n",
       "        vertical-align: top;\n",
       "    }\n",
       "</style>\n",
       "<table border=\"1\" class=\"dataframe\">\n",
       "  <thead>\n",
       "    <tr style=\"text-align: right;\">\n",
       "      <th></th>\n",
       "      <th>0</th>\n",
       "      <th>1</th>\n",
       "      <th>2</th>\n",
       "      <th>3</th>\n",
       "      <th>4</th>\n",
       "    </tr>\n",
       "  </thead>\n",
       "  <tbody>\n",
       "    <tr>\n",
       "      <th>0</th>\n",
       "      <td>是否係申報首次公開發行之輸入：</td>\n",
       "      <td>NaN</td>\n",
       "      <td>NaN</td>\n",
       "      <td>NaN</td>\n",
       "      <td>NaN</td>\n",
       "    </tr>\n",
       "    <tr>\n",
       "      <th>1</th>\n",
       "      <td>每 股 面 額</td>\n",
       "      <td>10.0000</td>\n",
       "      <td>變 更 公 司 執 照 時 間</td>\n",
       "      <td>83年</td>\n",
       "      <td>10月</td>\n",
       "    </tr>\n",
       "    <tr>\n",
       "      <th>2</th>\n",
       "      <td>核定股本股數(股)</td>\n",
       "      <td>250000000</td>\n",
       "      <td>核定股本金額(元)</td>\n",
       "      <td>2500000000</td>\n",
       "      <td>NaN</td>\n",
       "    </tr>\n",
       "    <tr>\n",
       "      <th>3</th>\n",
       "      <td>實收股本股數 (股)</td>\n",
       "      <td>212875000</td>\n",
       "      <td>實收股本金額(元)</td>\n",
       "      <td>2128750000</td>\n",
       "      <td>NaN</td>\n",
       "    </tr>\n",
       "    <tr>\n",
       "      <th>4</th>\n",
       "      <td>股本來源(元)</td>\n",
       "      <td>1.創 立 時 資 本</td>\n",
       "      <td>20000000</td>\n",
       "      <td>2.現金增資</td>\n",
       "      <td>765600000</td>\n",
       "    </tr>\n",
       "    <tr>\n",
       "      <th>5</th>\n",
       "      <td>3.資本公積轉增資</td>\n",
       "      <td>250275000</td>\n",
       "      <td>4.盈餘轉增資</td>\n",
       "      <td>1064875000</td>\n",
       "      <td>NaN</td>\n",
       "    </tr>\n",
       "    <tr>\n",
       "      <th>6</th>\n",
       "      <td>5.證期局核准資本公積之日期</td>\n",
       "      <td>NaN</td>\n",
       "      <td>6.證期局核准盈餘轉增資之日期</td>\n",
       "      <td>NaN</td>\n",
       "      <td>NaN</td>\n",
       "    </tr>\n",
       "    <tr>\n",
       "      <th>7</th>\n",
       "      <td>7.合併增資(元)</td>\n",
       "      <td>0</td>\n",
       "      <td>8.減資(元)</td>\n",
       "      <td>0</td>\n",
       "      <td>NaN</td>\n",
       "    </tr>\n",
       "    <tr>\n",
       "      <th>8</th>\n",
       "      <td>9.證期局核准合併增資之日期</td>\n",
       "      <td>NaN</td>\n",
       "      <td>10.證期局核准減資之日期</td>\n",
       "      <td>NaN</td>\n",
       "      <td>NaN</td>\n",
       "    </tr>\n",
       "    <tr>\n",
       "      <th>9</th>\n",
       "      <td>11.其他</td>\n",
       "      <td>員工紅利轉增資:28000000</td>\n",
       "      <td>NaN</td>\n",
       "      <td>NaN</td>\n",
       "      <td>NaN</td>\n",
       "    </tr>\n",
       "    <tr>\n",
       "      <th>10</th>\n",
       "      <td>以現金以外之財產抵充股款者</td>\n",
       "      <td>無</td>\n",
       "      <td>NaN</td>\n",
       "      <td>NaN</td>\n",
       "      <td>NaN</td>\n",
       "    </tr>\n",
       "    <tr>\n",
       "      <th>11</th>\n",
       "      <td>其他</td>\n",
       "      <td>NaN</td>\n",
       "      <td>NaN</td>\n",
       "      <td>NaN</td>\n",
       "      <td>NaN</td>\n",
       "    </tr>\n",
       "  </tbody>\n",
       "</table>\n",
       "</div>"
      ],
      "text/plain": [
       "                  0                 1                2           3          4\n",
       "0   是否係申報首次公開發行之輸入：               NaN              NaN         NaN        NaN\n",
       "1           每 股 面 額           10.0000  變 更 公 司 執 照 時 間         83年        10月\n",
       "2         核定股本股數(股)         250000000        核定股本金額(元)  2500000000        NaN\n",
       "3        實收股本股數 (股)         212875000        實收股本金額(元)  2128750000        NaN\n",
       "4           股本來源(元)       1.創 立 時 資 本         20000000      2.現金增資  765600000\n",
       "5         3.資本公積轉增資         250275000          4.盈餘轉增資  1064875000        NaN\n",
       "6    5.證期局核准資本公積之日期               NaN  6.證期局核准盈餘轉增資之日期         NaN        NaN\n",
       "7         7.合併增資(元)                 0          8.減資(元)           0        NaN\n",
       "8    9.證期局核准合併增資之日期               NaN    10.證期局核准減資之日期         NaN        NaN\n",
       "9             11.其他  員工紅利轉增資:28000000              NaN         NaN        NaN\n",
       "10    以現金以外之財產抵充股款者                 無              NaN         NaN        NaN\n",
       "11               其他               NaN              NaN         NaN        NaN"
      ]
     },
     "execution_count": 123,
     "metadata": {},
     "output_type": "execute_result"
    }
   ],
   "source": [
    "dfs = pandas.read_html(res.text)\n",
    "dfs[1]"
   ]
  },
  {
   "cell_type": "markdown",
   "metadata": {},
   "source": [
    "## 取得盤後交易資訊"
   ]
  },
  {
   "cell_type": "markdown",
   "metadata": {},
   "source": [
    "## Rate Limiting\n",
    "- https://www.nginx.com/blog/rate-limiting-nginx/"
   ]
  },
  {
   "cell_type": "code",
   "execution_count": 126,
   "metadata": {},
   "outputs": [
    {
     "name": "stdout",
     "output_type": "stream",
     "text": [
      "<Response [200]>\n",
      "<Response [200]>\n",
      "<Response [200]>\n",
      "<Response [200]>\n",
      "<Response [200]>\n",
      "<Response [200]>\n",
      "<Response [200]>\n",
      "<Response [200]>\n",
      "<Response [200]>\n"
     ]
    }
   ],
   "source": [
    "import requests\n",
    "import time\n",
    "for i in range(1,10):\n",
    "    res = requests.get('http://www.twse.com.tw/exchangeReport/MI_INDEX?response=json&date=&type=&_=1539763053868')\n",
    "    time.sleep(3)\n",
    "    print(res)\n",
    "#res.json()"
   ]
  },
  {
   "cell_type": "markdown",
   "metadata": {},
   "source": [
    "## Proxy Rotate"
   ]
  },
  {
   "cell_type": "code",
   "execution_count": 135,
   "metadata": {},
   "outputs": [
    {
     "data": {
      "text/plain": [
       "'196.17.26.204'"
      ]
     },
     "execution_count": 135,
     "metadata": {},
     "output_type": "execute_result"
    }
   ],
   "source": [
    "import requests\n",
    "headers = {\n",
    " 'user-agent': 'Mozilla/5.0 (Macintosh; Intel Mac OS X 10_13_6) AppleWebKit/537.36 (KHTML, like Gecko) Chrome/69.0.3497.100 Safari/537.36',  \n",
    " 'origin': 'https://www.whatismyip.com',\n",
    " 'referer': 'https://www.whatismyip.com/'   \n",
    "}\n",
    "\n",
    "proxies = {\n",
    "  'http': 'http://196.17.26.204:8800',\n",
    "  'https': 'http://196.17.26.204:8800',\n",
    "}\n",
    "res = requests.get('https://ipv4.whatismyip.com/', headers = headers, proxies = proxies)\n",
    "res.text"
   ]
  },
  {
   "cell_type": "code",
   "execution_count": null,
   "metadata": {},
   "outputs": [],
   "source": []
  }
 ],
 "metadata": {
  "kernelspec": {
   "display_name": "Python 3",
   "language": "python",
   "name": "python3"
  },
  "language_info": {
   "codemirror_mode": {
    "name": "ipython",
    "version": 3
   },
   "file_extension": ".py",
   "mimetype": "text/x-python",
   "name": "python",
   "nbconvert_exporter": "python",
   "pygments_lexer": "ipython3",
   "version": "3.6.2"
  }
 },
 "nbformat": 4,
 "nbformat_minor": 2
}
