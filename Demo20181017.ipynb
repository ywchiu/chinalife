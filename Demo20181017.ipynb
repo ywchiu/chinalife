{
 "cells": [
  {
   "cell_type": "markdown",
   "metadata": {},
   "source": [
    "## 房屋資料抓取"
   ]
  },
  {
   "cell_type": "code",
   "execution_count": 4,
   "metadata": {},
   "outputs": [],
   "source": [
    "import requests\n",
    "headers = {\n",
    " 'User-Agent': 'Mozilla/5.0 (Macintosh; Intel Mac OS X 10_13_6) AppleWebKit/537.36 (KHTML, like Gecko) Chrome/69.0.3497.100 Safari/537.36'   \n",
    "}\n",
    "res = requests.get('https://sale.591.com.tw/home/search/list?type=2&&shType=list&section=7&regionid=1&kind=9&firstRow=30&totalRows=2404&timestamp=1539754751297', headers = headers)"
   ]
  },
  {
   "cell_type": "code",
   "execution_count": 5,
   "metadata": {},
   "outputs": [
    {
     "data": {
      "text/plain": [
       "<Response [200]>"
      ]
     },
     "execution_count": 5,
     "metadata": {},
     "output_type": "execute_result"
    }
   ],
   "source": [
    "res"
   ]
  },
  {
   "cell_type": "code",
   "execution_count": 11,
   "metadata": {},
   "outputs": [
    {
     "data": {
      "text/html": [
       "<div>\n",
       "<style>\n",
       "    .dataframe thead tr:only-child th {\n",
       "        text-align: right;\n",
       "    }\n",
       "\n",
       "    .dataframe thead th {\n",
       "        text-align: left;\n",
       "    }\n",
       "\n",
       "    .dataframe tbody tr th {\n",
       "        vertical-align: top;\n",
       "    }\n",
       "</style>\n",
       "<table border=\"1\" class=\"dataframe\">\n",
       "  <thead>\n",
       "    <tr style=\"text-align: right;\">\n",
       "      <th></th>\n",
       "      <th>address</th>\n",
       "      <th>area</th>\n",
       "      <th>browsenum</th>\n",
       "      <th>cartmodel</th>\n",
       "      <th>carttype</th>\n",
       "      <th>community_link</th>\n",
       "      <th>community_name</th>\n",
       "      <th>delivery</th>\n",
       "      <th>down_price_percent</th>\n",
       "      <th>fci_pai</th>\n",
       "      <th>...</th>\n",
       "      <th>saletype</th>\n",
       "      <th>section_name</th>\n",
       "      <th>shape_name</th>\n",
       "      <th>showhouseage</th>\n",
       "      <th>showprice</th>\n",
       "      <th>tag</th>\n",
       "      <th>title</th>\n",
       "      <th>type</th>\n",
       "      <th>unit_price</th>\n",
       "      <th>unitprice</th>\n",
       "    </tr>\n",
       "  </thead>\n",
       "  <tbody>\n",
       "    <tr>\n",
       "      <th>0</th>\n",
       "      <td>忠孝東路五段31巷</td>\n",
       "      <td>15.16</td>\n",
       "      <td>382</td>\n",
       "      <td></td>\n",
       "      <td></td>\n",
       "      <td>/newCommunity-index.html?cid=50519</td>\n",
       "      <td>無爭</td>\n",
       "      <td></td>\n",
       "      <td>NaN</td>\n",
       "      <td></td>\n",
       "      <td>...</td>\n",
       "      <td>0</td>\n",
       "      <td>信義區</td>\n",
       "      <td>電梯大樓</td>\n",
       "      <td>10年</td>\n",
       "      <td>1,790</td>\n",
       "      <td>[]</td>\n",
       "      <td>市府極美無爭精品</td>\n",
       "      <td>2</td>\n",
       "      <td>118.07萬/坪</td>\n",
       "      <td>118.07</td>\n",
       "    </tr>\n",
       "    <tr>\n",
       "      <th>1</th>\n",
       "      <td>忠孝東路五段743巷</td>\n",
       "      <td>32.56</td>\n",
       "      <td>606</td>\n",
       "      <td></td>\n",
       "      <td></td>\n",
       "      <td>/newCommunity-index.html?cid=93550</td>\n",
       "      <td>達麗信義</td>\n",
       "      <td></td>\n",
       "      <td>NaN</td>\n",
       "      <td></td>\n",
       "      <td>...</td>\n",
       "      <td>0</td>\n",
       "      <td>信義區</td>\n",
       "      <td>電梯大樓</td>\n",
       "      <td>3年</td>\n",
       "      <td>2,600</td>\n",
       "      <td>[含車位, 有陽台]</td>\n",
       "      <td>指名承辦人小鍾：本棟最低總價！精緻裝潢！</td>\n",
       "      <td>2</td>\n",
       "      <td>114.77萬/坪</td>\n",
       "      <td>114.77</td>\n",
       "    </tr>\n",
       "    <tr>\n",
       "      <th>2</th>\n",
       "      <td>松山路</td>\n",
       "      <td>20.68</td>\n",
       "      <td>720</td>\n",
       "      <td></td>\n",
       "      <td></td>\n",
       "      <td>/newCommunity-index.html?cid=6751</td>\n",
       "      <td>永春大樓</td>\n",
       "      <td></td>\n",
       "      <td>NaN</td>\n",
       "      <td></td>\n",
       "      <td>...</td>\n",
       "      <td>0</td>\n",
       "      <td>信義區</td>\n",
       "      <td>電梯大樓</td>\n",
       "      <td>34年</td>\n",
       "      <td>1,220</td>\n",
       "      <td>[有陽台]</td>\n",
       "      <td>專售永春大樓-住商住匠團隊</td>\n",
       "      <td>2</td>\n",
       "      <td>58.99萬/坪</td>\n",
       "      <td>58.99</td>\n",
       "    </tr>\n",
       "  </tbody>\n",
       "</table>\n",
       "<p>3 rows × 44 columns</p>\n",
       "</div>"
      ],
      "text/plain": [
       "      address   area  browsenum cartmodel carttype  \\\n",
       "0   忠孝東路五段31巷  15.16        382                      \n",
       "1  忠孝東路五段743巷  32.56        606                      \n",
       "2         松山路  20.68        720                      \n",
       "\n",
       "                       community_link community_name delivery  \\\n",
       "0  /newCommunity-index.html?cid=50519             無爭            \n",
       "1  /newCommunity-index.html?cid=93550           達麗信義            \n",
       "2   /newCommunity-index.html?cid=6751           永春大樓            \n",
       "\n",
       "   down_price_percent fci_pai    ...     saletype  section_name  shape_name  \\\n",
       "0                 NaN            ...            0           信義區        電梯大樓   \n",
       "1                 NaN            ...            0           信義區        電梯大樓   \n",
       "2                 NaN            ...            0           信義區        電梯大樓   \n",
       "\n",
       "   showhouseage showprice         tag                 title  type unit_price  \\\n",
       "0           10年     1,790          []              市府極美無爭精品     2  118.07萬/坪   \n",
       "1            3年     2,600  [含車位, 有陽台]  指名承辦人小鍾：本棟最低總價！精緻裝潢！     2  114.77萬/坪   \n",
       "2           34年     1,220       [有陽台]         專售永春大樓-住商住匠團隊     2   58.99萬/坪   \n",
       "\n",
       "   unitprice  \n",
       "0     118.07  \n",
       "1     114.77  \n",
       "2      58.99  \n",
       "\n",
       "[3 rows x 44 columns]"
      ]
     },
     "execution_count": 11,
     "metadata": {},
     "output_type": "execute_result"
    }
   ],
   "source": [
    "import pandas\n",
    "pandas.DataFrame(res.json()['data']['house_list']).head(3)"
   ]
  },
  {
   "cell_type": "code",
   "execution_count": 14,
   "metadata": {},
   "outputs": [
    {
     "name": "stdout",
     "output_type": "stream",
     "text": [
      "0\n",
      "1\n",
      "2\n",
      "3\n",
      "4\n",
      "5\n",
      "6\n",
      "7\n",
      "8\n",
      "9\n",
      "10\n",
      "11\n",
      "12\n",
      "13\n",
      "14\n",
      "15\n",
      "16\n",
      "17\n",
      "18\n",
      "19\n",
      "20\n",
      "21\n",
      "22\n",
      "23\n",
      "24\n",
      "25\n",
      "26\n",
      "27\n",
      "28\n",
      "29\n",
      "30\n",
      "31\n",
      "32\n",
      "33\n",
      "34\n",
      "35\n",
      "36\n",
      "37\n",
      "38\n",
      "39\n",
      "40\n",
      "41\n",
      "42\n",
      "43\n",
      "44\n",
      "45\n",
      "46\n",
      "47\n",
      "48\n",
      "49\n",
      "50\n",
      "51\n",
      "52\n",
      "53\n",
      "54\n",
      "55\n",
      "56\n",
      "57\n",
      "58\n",
      "59\n",
      "60\n",
      "61\n",
      "62\n",
      "63\n",
      "64\n",
      "65\n",
      "66\n",
      "67\n",
      "68\n",
      "69\n",
      "70\n",
      "71\n",
      "72\n",
      "73\n",
      "74\n",
      "75\n",
      "76\n",
      "77\n",
      "78\n",
      "79\n",
      "80\n"
     ]
    }
   ],
   "source": [
    "import time\n",
    "houseurl = 'https://sale.591.com.tw/home/search/list?type=2&&shType=list&section=7&regionid=1&kind=9&firstRow={}&totalRows=2404&timestamp=1539754751297'\n",
    "\n",
    "houseary = []\n",
    "for i in range(0,int(2404 / 30)+ 1 ):\n",
    "    res = requests.get(houseurl.format(i*30), headers = headers)\n",
    "    df = pandas.DataFrame(res.json()['data']['house_list'])\n",
    "    houseary.append(df)\n",
    "    time.sleep(1)\n",
    "    print(i)"
   ]
  },
  {
   "cell_type": "code",
   "execution_count": 15,
   "metadata": {},
   "outputs": [],
   "source": [
    "housedf = pandas.concat(houseary)"
   ]
  },
  {
   "cell_type": "code",
   "execution_count": 17,
   "metadata": {},
   "outputs": [
    {
     "data": {
      "text/plain": [
       "address                 2403\n",
       "area                    2405\n",
       "browsenum               2405\n",
       "build_purpose              2\n",
       "call_num                   2\n",
       "cartmodel               2403\n",
       "carttype                2403\n",
       "community_link          2403\n",
       "community_name          2403\n",
       "company                    2\n",
       "delivery                2403\n",
       "down_price_percent        35\n",
       "fci_pai                 2403\n",
       "floor                   2403\n",
       "has_carport             2403\n",
       "houseage                2405\n",
       "houseid                 2405\n",
       "is_carport              2403\n",
       "is_combine              2403\n",
       "is_down_price           2403\n",
       "is_full                    2\n",
       "is_hurry_price          2403\n",
       "is_newhouse                2\n",
       "is_oversea              2403\n",
       "is_pro_advertisement       2\n",
       "is_video                2403\n",
       "isnew                   2403\n",
       "isvip                   2403\n",
       "kind                    2403\n",
       "kind_name               2403\n",
       "label                      2\n",
       "mainarea                2403\n",
       "nick_name               2403\n",
       "original_price            35\n",
       "phonenum                   2\n",
       "photoNum                2403\n",
       "photo_url               2405\n",
       "posttime                2405\n",
       "price                   2405\n",
       "ratio                      2\n",
       "refreshtime             2405\n",
       "region_name             2405\n",
       "room                    2405\n",
       "saletype                2403\n",
       "section_name            2405\n",
       "shape_name              2403\n",
       "show_price                 2\n",
       "show_price_unit            2\n",
       "show_unitprice             2\n",
       "show_unitprice_unit        2\n",
       "showarea                   2\n",
       "showhouseage            2403\n",
       "showprice               2403\n",
       "street_name                2\n",
       "tag                     2405\n",
       "title                   2405\n",
       "type                    2405\n",
       "unit_price              2403\n",
       "unitprice               2405\n",
       "dtype: int64"
      ]
     },
     "execution_count": 17,
     "metadata": {},
     "output_type": "execute_result"
    }
   ],
   "source": [
    "housedf.count()"
   ]
  },
  {
   "cell_type": "code",
   "execution_count": 18,
   "metadata": {},
   "outputs": [],
   "source": [
    "housedf.to_excel('house591.xlsx')"
   ]
  },
  {
   "cell_type": "markdown",
   "metadata": {},
   "source": [
    "## 房屋資料清理"
   ]
  },
  {
   "cell_type": "code",
   "execution_count": 20,
   "metadata": {},
   "outputs": [],
   "source": [
    "import pandas\n",
    "housedf  = pandas.read_excel('https://raw.githubusercontent.com/ywchiu/chinalife/master/data/house591.xlsx')"
   ]
  },
  {
   "cell_type": "code",
   "execution_count": 24,
   "metadata": {},
   "outputs": [
    {
     "data": {
      "text/plain": [
       "address                                                            忠孝東路五段\n",
       "area                                                                41.17\n",
       "browsenum                                                             180\n",
       "build_purpose                                                         NaN\n",
       "call_num                                                              NaN\n",
       "cartmodel                                                             NaN\n",
       "carttype                                                              NaN\n",
       "community_link                          /newCommunity-index.html?cid=6305\n",
       "community_name                                                       春秋大廈\n",
       "company                                                               NaN\n",
       "delivery                                                              NaN\n",
       "down_price_percent                                                    NaN\n",
       "fci_pai                                                               NaN\n",
       "floor                                                              8F/14F\n",
       "has_carport                                                             0\n",
       "houseage                                                               35\n",
       "houseid                                                           5548178\n",
       "is_carport                                                              0\n",
       "is_combine                                                              1\n",
       "is_down_price                                                           0\n",
       "is_full                                                               NaN\n",
       "is_hurry_price                                                          0\n",
       "is_newhouse                                                           NaN\n",
       "is_oversea                                                              0\n",
       "is_pro_advertisement                                                  NaN\n",
       "is_video                                                                0\n",
       "isnew                                                                   0\n",
       "isvip                                                                   0\n",
       "kind                                                                    9\n",
       "kind_name                                                              住宅\n",
       "label                                                                 NaN\n",
       "mainarea                                                            32.59\n",
       "nick_name                                                           仲介關先生\n",
       "original_price                                                        NaN\n",
       "phonenum                                                              NaN\n",
       "photoNum                                                               13\n",
       "photo_url               https://hp2.591.com.tw/house/active/2018/10/08...\n",
       "posttime                                                       1538996803\n",
       "price                                                                3988\n",
       "ratio                                                                 NaN\n",
       "refreshtime                                                         44分鐘內\n",
       "region_name                                                           台北市\n",
       "room                                                               4房2廳2衛\n",
       "saletype                                                                0\n",
       "section_name                                                          信義區\n",
       "shape_name                                                           電梯大樓\n",
       "show_price                                                            NaN\n",
       "show_price_unit                                                       NaN\n",
       "show_unitprice                                                        NaN\n",
       "show_unitprice_unit                                                   NaN\n",
       "showarea                                                              NaN\n",
       "showhouseage                                                          35年\n",
       "showprice                                                           3,988\n",
       "street_name                                                           NaN\n",
       "tag                                                        ['有陽台', '低公設']\n",
       "title                                                     🍎市府春秋捷運四房🍎住商關文乾\n",
       "type                                                                    2\n",
       "unit_price                                                       96.87萬/坪\n",
       "unitprice                                                           96.87\n",
       "Name: 2, dtype: object"
      ]
     },
     "execution_count": 24,
     "metadata": {},
     "output_type": "execute_result"
    }
   ],
   "source": [
    "housedf.iloc[2]"
   ]
  },
  {
   "cell_type": "code",
   "execution_count": 26,
   "metadata": {},
   "outputs": [],
   "source": [
    "housedf = housedf[['area', 'room','floor','price']]"
   ]
  },
  {
   "cell_type": "code",
   "execution_count": 28,
   "metadata": {},
   "outputs": [
    {
     "name": "stderr",
     "output_type": "stream",
     "text": [
      "/Users/davidchiu/.pyenv/versions/3.6.2/lib/python3.6/site-packages/ipykernel_launcher.py:1: FutureWarning: currently extract(expand=None) means expand=False (return Index/Series/DataFrame) but in a future version of pandas this will be changed to expand=True (return DataFrame)\n",
      "  \"\"\"Entry point for launching an IPython kernel.\n",
      "/Users/davidchiu/.pyenv/versions/3.6.2/lib/python3.6/site-packages/pandas/core/frame.py:2352: SettingWithCopyWarning: \n",
      "A value is trying to be set on a copy of a slice from a DataFrame.\n",
      "Try using .loc[row_indexer,col_indexer] = value instead\n",
      "\n",
      "See the caveats in the documentation: http://pandas.pydata.org/pandas-docs/stable/indexing.html#indexing-view-versus-copy\n",
      "  self[k1] = value[k2]\n"
     ]
    }
   ],
   "source": [
    "housedf[['bedroom', 'livingroom', 'bathroom']] = housedf['room'].str.extract('(\\d+)房(\\d+)廳(\\d+)衛')"
   ]
  },
  {
   "cell_type": "code",
   "execution_count": 30,
   "metadata": {},
   "outputs": [
    {
     "name": "stderr",
     "output_type": "stream",
     "text": [
      "/Users/davidchiu/.pyenv/versions/3.6.2/lib/python3.6/site-packages/ipykernel_launcher.py:1: FutureWarning: currently extract(expand=None) means expand=False (return Index/Series/DataFrame) but in a future version of pandas this will be changed to expand=True (return DataFrame)\n",
      "  \"\"\"Entry point for launching an IPython kernel.\n",
      "/Users/davidchiu/.pyenv/versions/3.6.2/lib/python3.6/site-packages/pandas/core/frame.py:2352: SettingWithCopyWarning: \n",
      "A value is trying to be set on a copy of a slice from a DataFrame.\n",
      "Try using .loc[row_indexer,col_indexer] = value instead\n",
      "\n",
      "See the caveats in the documentation: http://pandas.pydata.org/pandas-docs/stable/indexing.html#indexing-view-versus-copy\n",
      "  self[k1] = value[k2]\n"
     ]
    }
   ],
   "source": [
    "housedf[['current_floor', 'total_floor']] = housedf['floor'].str.extract('(\\d+)F/(\\d+)F')"
   ]
  },
  {
   "cell_type": "code",
   "execution_count": 32,
   "metadata": {},
   "outputs": [],
   "source": [
    "del housedf['room']\n",
    "del housedf['floor']"
   ]
  },
  {
   "cell_type": "code",
   "execution_count": 34,
   "metadata": {},
   "outputs": [
    {
     "name": "stderr",
     "output_type": "stream",
     "text": [
      "/Users/davidchiu/.pyenv/versions/3.6.2/lib/python3.6/site-packages/ipykernel_launcher.py:1: SettingWithCopyWarning: \n",
      "A value is trying to be set on a copy of a slice from a DataFrame\n",
      "\n",
      "See the caveats in the documentation: http://pandas.pydata.org/pandas-docs/stable/indexing.html#indexing-view-versus-copy\n",
      "  \"\"\"Entry point for launching an IPython kernel.\n"
     ]
    }
   ],
   "source": [
    "housedf.dropna(inplace=True)"
   ]
  },
  {
   "cell_type": "code",
   "execution_count": 36,
   "metadata": {},
   "outputs": [
    {
     "data": {
      "text/html": [
       "<div>\n",
       "<style>\n",
       "    .dataframe thead tr:only-child th {\n",
       "        text-align: right;\n",
       "    }\n",
       "\n",
       "    .dataframe thead th {\n",
       "        text-align: left;\n",
       "    }\n",
       "\n",
       "    .dataframe tbody tr th {\n",
       "        vertical-align: top;\n",
       "    }\n",
       "</style>\n",
       "<table border=\"1\" class=\"dataframe\">\n",
       "  <thead>\n",
       "    <tr style=\"text-align: right;\">\n",
       "      <th></th>\n",
       "      <th>area</th>\n",
       "      <th>price</th>\n",
       "      <th>bedroom</th>\n",
       "      <th>livingroom</th>\n",
       "      <th>bathroom</th>\n",
       "      <th>current_floor</th>\n",
       "      <th>total_floor</th>\n",
       "    </tr>\n",
       "  </thead>\n",
       "  <tbody>\n",
       "    <tr>\n",
       "      <th>2</th>\n",
       "      <td>41.17</td>\n",
       "      <td>3988</td>\n",
       "      <td>4</td>\n",
       "      <td>2</td>\n",
       "      <td>2</td>\n",
       "      <td>8</td>\n",
       "      <td>14</td>\n",
       "    </tr>\n",
       "    <tr>\n",
       "      <th>3</th>\n",
       "      <td>15.76</td>\n",
       "      <td>1180</td>\n",
       "      <td>2</td>\n",
       "      <td>1</td>\n",
       "      <td>1</td>\n",
       "      <td>3</td>\n",
       "      <td>4</td>\n",
       "    </tr>\n",
       "    <tr>\n",
       "      <th>6</th>\n",
       "      <td>106.74</td>\n",
       "      <td>11500</td>\n",
       "      <td>4</td>\n",
       "      <td>2</td>\n",
       "      <td>3</td>\n",
       "      <td>7</td>\n",
       "      <td>12</td>\n",
       "    </tr>\n",
       "    <tr>\n",
       "      <th>7</th>\n",
       "      <td>15.39</td>\n",
       "      <td>1520</td>\n",
       "      <td>1</td>\n",
       "      <td>1</td>\n",
       "      <td>1</td>\n",
       "      <td>4</td>\n",
       "      <td>14</td>\n",
       "    </tr>\n",
       "    <tr>\n",
       "      <th>8</th>\n",
       "      <td>53.39</td>\n",
       "      <td>3850</td>\n",
       "      <td>2</td>\n",
       "      <td>2</td>\n",
       "      <td>2</td>\n",
       "      <td>8</td>\n",
       "      <td>15</td>\n",
       "    </tr>\n",
       "  </tbody>\n",
       "</table>\n",
       "</div>"
      ],
      "text/plain": [
       "     area  price bedroom livingroom bathroom current_floor total_floor\n",
       "2   41.17   3988       4          2        2             8          14\n",
       "3   15.76   1180       2          1        1             3           4\n",
       "6  106.74  11500       4          2        3             7          12\n",
       "7   15.39   1520       1          1        1             4          14\n",
       "8   53.39   3850       2          2        2             8          15"
      ]
     },
     "execution_count": 36,
     "metadata": {},
     "output_type": "execute_result"
    }
   ],
   "source": [
    "housedf.head()"
   ]
  },
  {
   "cell_type": "code",
   "execution_count": null,
   "metadata": {},
   "outputs": [],
   "source": []
  }
 ],
 "metadata": {
  "kernelspec": {
   "display_name": "Python 3",
   "language": "python",
   "name": "python3"
  },
  "language_info": {
   "codemirror_mode": {
    "name": "ipython",
    "version": 3
   },
   "file_extension": ".py",
   "mimetype": "text/x-python",
   "name": "python",
   "nbconvert_exporter": "python",
   "pygments_lexer": "ipython3",
   "version": "3.6.2"
  }
 },
 "nbformat": 4,
 "nbformat_minor": 2
}
